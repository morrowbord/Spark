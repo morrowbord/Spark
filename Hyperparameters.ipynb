{
  "nbformat": 4,
  "nbformat_minor": 0,
  "metadata": {
    "kernelspec": {
      "display_name": "Python 3",
      "language": "python",
      "name": "python3"
    },
    "language_info": {
      "codemirror_mode": {
        "name": "ipython",
        "version": 3
      },
      "file_extension": ".py",
      "mimetype": "text/x-python",
      "name": "python",
      "nbconvert_exporter": "python",
      "pygments_lexer": "ipython3",
      "version": "3.8.3"
    },
    "colab": {
      "name": "Hyperparameters.ipynb",
      "provenance": [],
      "collapsed_sections": [],
      "include_colab_link": true
    }
  },
  "cells": [
    {
      "cell_type": "markdown",
      "metadata": {
        "id": "view-in-github",
        "colab_type": "text"
      },
      "source": [
        "<a href=\"https://colab.research.google.com/github/morrowbord/Spark/blob/main/Hyperparameters.ipynb\" target=\"_parent\"><img src=\"https://colab.research.google.com/assets/colab-badge.svg\" alt=\"Open In Colab\"/></a>"
      ]
    },
    {
      "cell_type": "code",
      "metadata": {
        "id": "X817X-mIxP9N"
      },
      "source": [
        "!pip install pyspark spark_sklearn -q"
      ],
      "execution_count": null,
      "outputs": []
    },
    {
      "cell_type": "code",
      "metadata": {
        "id": "60LxUjOnxeL2"
      },
      "source": [
        "from pyspark.sql import SparkSession\n",
        "\n",
        "spark = SparkSession.builder\\\n",
        "        .master(\"local\")\\\n",
        "        .appName(\"Colab_pyspark\")\\\n",
        "        .config('spark.ui.port', '4050')\\\n",
        "        .config('spark.executor.memory', '3g')\\\n",
        "        .getOrCreate()"
      ],
      "execution_count": null,
      "outputs": []
    },
    {
      "cell_type": "code",
      "metadata": {
        "id": "T3-G_1fdxP9O",
        "colab": {
          "base_uri": "https://localhost:8080/",
          "height": 222
        },
        "outputId": "204e0db7-d3ee-447b-d401-0165e4a9fa90"
      },
      "source": [
        "sc = spark.sparkContext\n",
        "spark"
      ],
      "execution_count": null,
      "outputs": [
        {
          "output_type": "execute_result",
          "data": {
            "text/html": [
              "\n",
              "            <div>\n",
              "                <p><b>SparkSession - in-memory</b></p>\n",
              "                \n",
              "        <div>\n",
              "            <p><b>SparkContext</b></p>\n",
              "\n",
              "            <p><a href=\"http://adc2c2efa460:4050\">Spark UI</a></p>\n",
              "\n",
              "            <dl>\n",
              "              <dt>Version</dt>\n",
              "                <dd><code>v3.2.0</code></dd>\n",
              "              <dt>Master</dt>\n",
              "                <dd><code>local</code></dd>\n",
              "              <dt>AppName</dt>\n",
              "                <dd><code>Colab_pyspark</code></dd>\n",
              "            </dl>\n",
              "        </div>\n",
              "        \n",
              "            </div>\n",
              "        "
            ],
            "text/plain": [
              "<pyspark.sql.session.SparkSession at 0x7febd719f090>"
            ]
          },
          "metadata": {},
          "execution_count": 3
        }
      ]
    },
    {
      "cell_type": "code",
      "metadata": {
        "id": "JzNDZdKT4tt6",
        "colab": {
          "base_uri": "https://localhost:8080/",
          "height": 206
        },
        "outputId": "896d0bd9-5fd0-4eac-8e59-ba40483a389a"
      },
      "source": [
        "# Выборка https://www.kaggle.com/shivam2503/diamonds\n",
        "import pandas as pd\n",
        "pdf = pd.read_csv(\"diamonds.csv\", header=0)\n",
        "pdf.head()"
      ],
      "execution_count": null,
      "outputs": [
        {
          "output_type": "execute_result",
          "data": {
            "text/html": [
              "\n",
              "  <div id=\"df-e149fa3a-68a9-485e-bc52-fb01febbbea6\">\n",
              "    <div class=\"colab-df-container\">\n",
              "      <div>\n",
              "<style scoped>\n",
              "    .dataframe tbody tr th:only-of-type {\n",
              "        vertical-align: middle;\n",
              "    }\n",
              "\n",
              "    .dataframe tbody tr th {\n",
              "        vertical-align: top;\n",
              "    }\n",
              "\n",
              "    .dataframe thead th {\n",
              "        text-align: right;\n",
              "    }\n",
              "</style>\n",
              "<table border=\"1\" class=\"dataframe\">\n",
              "  <thead>\n",
              "    <tr style=\"text-align: right;\">\n",
              "      <th></th>\n",
              "      <th>carat</th>\n",
              "      <th>cut</th>\n",
              "      <th>color</th>\n",
              "      <th>clarity</th>\n",
              "      <th>depth</th>\n",
              "      <th>table</th>\n",
              "      <th>price</th>\n",
              "      <th>x</th>\n",
              "      <th>y</th>\n",
              "      <th>z</th>\n",
              "    </tr>\n",
              "  </thead>\n",
              "  <tbody>\n",
              "    <tr>\n",
              "      <th>0</th>\n",
              "      <td>0.23</td>\n",
              "      <td>Ideal</td>\n",
              "      <td>E</td>\n",
              "      <td>SI2</td>\n",
              "      <td>61.5</td>\n",
              "      <td>55.0</td>\n",
              "      <td>326</td>\n",
              "      <td>3.95</td>\n",
              "      <td>3.98</td>\n",
              "      <td>2.43</td>\n",
              "    </tr>\n",
              "    <tr>\n",
              "      <th>1</th>\n",
              "      <td>0.21</td>\n",
              "      <td>Premium</td>\n",
              "      <td>E</td>\n",
              "      <td>SI1</td>\n",
              "      <td>59.8</td>\n",
              "      <td>61.0</td>\n",
              "      <td>326</td>\n",
              "      <td>3.89</td>\n",
              "      <td>3.84</td>\n",
              "      <td>2.31</td>\n",
              "    </tr>\n",
              "    <tr>\n",
              "      <th>2</th>\n",
              "      <td>0.23</td>\n",
              "      <td>Good</td>\n",
              "      <td>E</td>\n",
              "      <td>VS1</td>\n",
              "      <td>56.9</td>\n",
              "      <td>65.0</td>\n",
              "      <td>327</td>\n",
              "      <td>4.05</td>\n",
              "      <td>4.07</td>\n",
              "      <td>2.31</td>\n",
              "    </tr>\n",
              "    <tr>\n",
              "      <th>3</th>\n",
              "      <td>0.29</td>\n",
              "      <td>Premium</td>\n",
              "      <td>I</td>\n",
              "      <td>VS2</td>\n",
              "      <td>62.4</td>\n",
              "      <td>58.0</td>\n",
              "      <td>334</td>\n",
              "      <td>4.20</td>\n",
              "      <td>4.23</td>\n",
              "      <td>2.63</td>\n",
              "    </tr>\n",
              "    <tr>\n",
              "      <th>4</th>\n",
              "      <td>0.31</td>\n",
              "      <td>Good</td>\n",
              "      <td>J</td>\n",
              "      <td>SI2</td>\n",
              "      <td>63.3</td>\n",
              "      <td>58.0</td>\n",
              "      <td>335</td>\n",
              "      <td>4.34</td>\n",
              "      <td>4.35</td>\n",
              "      <td>2.75</td>\n",
              "    </tr>\n",
              "  </tbody>\n",
              "</table>\n",
              "</div>\n",
              "      <button class=\"colab-df-convert\" onclick=\"convertToInteractive('df-e149fa3a-68a9-485e-bc52-fb01febbbea6')\"\n",
              "              title=\"Convert this dataframe to an interactive table.\"\n",
              "              style=\"display:none;\">\n",
              "        \n",
              "  <svg xmlns=\"http://www.w3.org/2000/svg\" height=\"24px\"viewBox=\"0 0 24 24\"\n",
              "       width=\"24px\">\n",
              "    <path d=\"M0 0h24v24H0V0z\" fill=\"none\"/>\n",
              "    <path d=\"M18.56 5.44l.94 2.06.94-2.06 2.06-.94-2.06-.94-.94-2.06-.94 2.06-2.06.94zm-11 1L8.5 8.5l.94-2.06 2.06-.94-2.06-.94L8.5 2.5l-.94 2.06-2.06.94zm10 10l.94 2.06.94-2.06 2.06-.94-2.06-.94-.94-2.06-.94 2.06-2.06.94z\"/><path d=\"M17.41 7.96l-1.37-1.37c-.4-.4-.92-.59-1.43-.59-.52 0-1.04.2-1.43.59L10.3 9.45l-7.72 7.72c-.78.78-.78 2.05 0 2.83L4 21.41c.39.39.9.59 1.41.59.51 0 1.02-.2 1.41-.59l7.78-7.78 2.81-2.81c.8-.78.8-2.07 0-2.86zM5.41 20L4 18.59l7.72-7.72 1.47 1.35L5.41 20z\"/>\n",
              "  </svg>\n",
              "      </button>\n",
              "      \n",
              "  <style>\n",
              "    .colab-df-container {\n",
              "      display:flex;\n",
              "      flex-wrap:wrap;\n",
              "      gap: 12px;\n",
              "    }\n",
              "\n",
              "    .colab-df-convert {\n",
              "      background-color: #E8F0FE;\n",
              "      border: none;\n",
              "      border-radius: 50%;\n",
              "      cursor: pointer;\n",
              "      display: none;\n",
              "      fill: #1967D2;\n",
              "      height: 32px;\n",
              "      padding: 0 0 0 0;\n",
              "      width: 32px;\n",
              "    }\n",
              "\n",
              "    .colab-df-convert:hover {\n",
              "      background-color: #E2EBFA;\n",
              "      box-shadow: 0px 1px 2px rgba(60, 64, 67, 0.3), 0px 1px 3px 1px rgba(60, 64, 67, 0.15);\n",
              "      fill: #174EA6;\n",
              "    }\n",
              "\n",
              "    [theme=dark] .colab-df-convert {\n",
              "      background-color: #3B4455;\n",
              "      fill: #D2E3FC;\n",
              "    }\n",
              "\n",
              "    [theme=dark] .colab-df-convert:hover {\n",
              "      background-color: #434B5C;\n",
              "      box-shadow: 0px 1px 3px 1px rgba(0, 0, 0, 0.15);\n",
              "      filter: drop-shadow(0px 1px 2px rgba(0, 0, 0, 0.3));\n",
              "      fill: #FFFFFF;\n",
              "    }\n",
              "  </style>\n",
              "\n",
              "      <script>\n",
              "        const buttonEl =\n",
              "          document.querySelector('#df-e149fa3a-68a9-485e-bc52-fb01febbbea6 button.colab-df-convert');\n",
              "        buttonEl.style.display =\n",
              "          google.colab.kernel.accessAllowed ? 'block' : 'none';\n",
              "\n",
              "        async function convertToInteractive(key) {\n",
              "          const element = document.querySelector('#df-e149fa3a-68a9-485e-bc52-fb01febbbea6');\n",
              "          const dataTable =\n",
              "            await google.colab.kernel.invokeFunction('convertToInteractive',\n",
              "                                                     [key], {});\n",
              "          if (!dataTable) return;\n",
              "\n",
              "          const docLinkHtml = 'Like what you see? Visit the ' +\n",
              "            '<a target=\"_blank\" href=https://colab.research.google.com/notebooks/data_table.ipynb>data table notebook</a>'\n",
              "            + ' to learn more about interactive tables.';\n",
              "          element.innerHTML = '';\n",
              "          dataTable['output_type'] = 'display_data';\n",
              "          await google.colab.output.renderOutput(dataTable, element);\n",
              "          const docLink = document.createElement('div');\n",
              "          docLink.innerHTML = docLinkHtml;\n",
              "          element.appendChild(docLink);\n",
              "        }\n",
              "      </script>\n",
              "    </div>\n",
              "  </div>\n",
              "  "
            ],
            "text/plain": [
              "   carat      cut color clarity  depth  table  price     x     y     z\n",
              "0   0.23    Ideal     E     SI2   61.5   55.0    326  3.95  3.98  2.43\n",
              "1   0.21  Premium     E     SI1   59.8   61.0    326  3.89  3.84  2.31\n",
              "2   0.23     Good     E     VS1   56.9   65.0    327  4.05  4.07  2.31\n",
              "3   0.29  Premium     I     VS2   62.4   58.0    334  4.20  4.23  2.63\n",
              "4   0.31     Good     J     SI2   63.3   58.0    335  4.34  4.35  2.75"
            ]
          },
          "metadata": {},
          "execution_count": 4
        }
      ]
    },
    {
      "cell_type": "markdown",
      "metadata": {
        "id": "xskNznOBxP9Q"
      },
      "source": [
        "## Feature engineering"
      ]
    },
    {
      "cell_type": "code",
      "metadata": {
        "colab": {
          "base_uri": "https://localhost:8080/",
          "height": 206
        },
        "id": "s0DhlK72ZLA_",
        "outputId": "1ee92a2f-7500-4ecd-948f-1e3caa866f3f"
      },
      "source": [
        "pdf['cut'] = pdf['cut'].replace({'Fair': 0, 'Good': 1, 'Very Good': 2, 'Premium': 3, 'Ideal': 4})\n",
        "pdf['color'] = pdf['color'].replace({'J': 0, 'I': 1, 'H': 2, 'G': 3, 'F': 4, 'E': 5, 'D': 6})\n",
        "pdf['clarity'] = pdf['clarity'].replace({'I1': 0, 'SI1': 1, 'SI2': 2, 'VS1': 3, 'VS2': 4, 'VVS1': 5, 'VVS2': 6, 'IF': 7})\n",
        "pdf.head()"
      ],
      "execution_count": null,
      "outputs": [
        {
          "output_type": "execute_result",
          "data": {
            "text/html": [
              "\n",
              "  <div id=\"df-6dba3664-cc6b-45fd-9a63-f1ce8e20e4c9\">\n",
              "    <div class=\"colab-df-container\">\n",
              "      <div>\n",
              "<style scoped>\n",
              "    .dataframe tbody tr th:only-of-type {\n",
              "        vertical-align: middle;\n",
              "    }\n",
              "\n",
              "    .dataframe tbody tr th {\n",
              "        vertical-align: top;\n",
              "    }\n",
              "\n",
              "    .dataframe thead th {\n",
              "        text-align: right;\n",
              "    }\n",
              "</style>\n",
              "<table border=\"1\" class=\"dataframe\">\n",
              "  <thead>\n",
              "    <tr style=\"text-align: right;\">\n",
              "      <th></th>\n",
              "      <th>carat</th>\n",
              "      <th>cut</th>\n",
              "      <th>color</th>\n",
              "      <th>clarity</th>\n",
              "      <th>depth</th>\n",
              "      <th>table</th>\n",
              "      <th>price</th>\n",
              "      <th>x</th>\n",
              "      <th>y</th>\n",
              "      <th>z</th>\n",
              "    </tr>\n",
              "  </thead>\n",
              "  <tbody>\n",
              "    <tr>\n",
              "      <th>0</th>\n",
              "      <td>0.23</td>\n",
              "      <td>4</td>\n",
              "      <td>5</td>\n",
              "      <td>2</td>\n",
              "      <td>61.5</td>\n",
              "      <td>55.0</td>\n",
              "      <td>326</td>\n",
              "      <td>3.95</td>\n",
              "      <td>3.98</td>\n",
              "      <td>2.43</td>\n",
              "    </tr>\n",
              "    <tr>\n",
              "      <th>1</th>\n",
              "      <td>0.21</td>\n",
              "      <td>3</td>\n",
              "      <td>5</td>\n",
              "      <td>1</td>\n",
              "      <td>59.8</td>\n",
              "      <td>61.0</td>\n",
              "      <td>326</td>\n",
              "      <td>3.89</td>\n",
              "      <td>3.84</td>\n",
              "      <td>2.31</td>\n",
              "    </tr>\n",
              "    <tr>\n",
              "      <th>2</th>\n",
              "      <td>0.23</td>\n",
              "      <td>1</td>\n",
              "      <td>5</td>\n",
              "      <td>3</td>\n",
              "      <td>56.9</td>\n",
              "      <td>65.0</td>\n",
              "      <td>327</td>\n",
              "      <td>4.05</td>\n",
              "      <td>4.07</td>\n",
              "      <td>2.31</td>\n",
              "    </tr>\n",
              "    <tr>\n",
              "      <th>3</th>\n",
              "      <td>0.29</td>\n",
              "      <td>3</td>\n",
              "      <td>1</td>\n",
              "      <td>4</td>\n",
              "      <td>62.4</td>\n",
              "      <td>58.0</td>\n",
              "      <td>334</td>\n",
              "      <td>4.20</td>\n",
              "      <td>4.23</td>\n",
              "      <td>2.63</td>\n",
              "    </tr>\n",
              "    <tr>\n",
              "      <th>4</th>\n",
              "      <td>0.31</td>\n",
              "      <td>1</td>\n",
              "      <td>0</td>\n",
              "      <td>2</td>\n",
              "      <td>63.3</td>\n",
              "      <td>58.0</td>\n",
              "      <td>335</td>\n",
              "      <td>4.34</td>\n",
              "      <td>4.35</td>\n",
              "      <td>2.75</td>\n",
              "    </tr>\n",
              "  </tbody>\n",
              "</table>\n",
              "</div>\n",
              "      <button class=\"colab-df-convert\" onclick=\"convertToInteractive('df-6dba3664-cc6b-45fd-9a63-f1ce8e20e4c9')\"\n",
              "              title=\"Convert this dataframe to an interactive table.\"\n",
              "              style=\"display:none;\">\n",
              "        \n",
              "  <svg xmlns=\"http://www.w3.org/2000/svg\" height=\"24px\"viewBox=\"0 0 24 24\"\n",
              "       width=\"24px\">\n",
              "    <path d=\"M0 0h24v24H0V0z\" fill=\"none\"/>\n",
              "    <path d=\"M18.56 5.44l.94 2.06.94-2.06 2.06-.94-2.06-.94-.94-2.06-.94 2.06-2.06.94zm-11 1L8.5 8.5l.94-2.06 2.06-.94-2.06-.94L8.5 2.5l-.94 2.06-2.06.94zm10 10l.94 2.06.94-2.06 2.06-.94-2.06-.94-.94-2.06-.94 2.06-2.06.94z\"/><path d=\"M17.41 7.96l-1.37-1.37c-.4-.4-.92-.59-1.43-.59-.52 0-1.04.2-1.43.59L10.3 9.45l-7.72 7.72c-.78.78-.78 2.05 0 2.83L4 21.41c.39.39.9.59 1.41.59.51 0 1.02-.2 1.41-.59l7.78-7.78 2.81-2.81c.8-.78.8-2.07 0-2.86zM5.41 20L4 18.59l7.72-7.72 1.47 1.35L5.41 20z\"/>\n",
              "  </svg>\n",
              "      </button>\n",
              "      \n",
              "  <style>\n",
              "    .colab-df-container {\n",
              "      display:flex;\n",
              "      flex-wrap:wrap;\n",
              "      gap: 12px;\n",
              "    }\n",
              "\n",
              "    .colab-df-convert {\n",
              "      background-color: #E8F0FE;\n",
              "      border: none;\n",
              "      border-radius: 50%;\n",
              "      cursor: pointer;\n",
              "      display: none;\n",
              "      fill: #1967D2;\n",
              "      height: 32px;\n",
              "      padding: 0 0 0 0;\n",
              "      width: 32px;\n",
              "    }\n",
              "\n",
              "    .colab-df-convert:hover {\n",
              "      background-color: #E2EBFA;\n",
              "      box-shadow: 0px 1px 2px rgba(60, 64, 67, 0.3), 0px 1px 3px 1px rgba(60, 64, 67, 0.15);\n",
              "      fill: #174EA6;\n",
              "    }\n",
              "\n",
              "    [theme=dark] .colab-df-convert {\n",
              "      background-color: #3B4455;\n",
              "      fill: #D2E3FC;\n",
              "    }\n",
              "\n",
              "    [theme=dark] .colab-df-convert:hover {\n",
              "      background-color: #434B5C;\n",
              "      box-shadow: 0px 1px 3px 1px rgba(0, 0, 0, 0.15);\n",
              "      filter: drop-shadow(0px 1px 2px rgba(0, 0, 0, 0.3));\n",
              "      fill: #FFFFFF;\n",
              "    }\n",
              "  </style>\n",
              "\n",
              "      <script>\n",
              "        const buttonEl =\n",
              "          document.querySelector('#df-6dba3664-cc6b-45fd-9a63-f1ce8e20e4c9 button.colab-df-convert');\n",
              "        buttonEl.style.display =\n",
              "          google.colab.kernel.accessAllowed ? 'block' : 'none';\n",
              "\n",
              "        async function convertToInteractive(key) {\n",
              "          const element = document.querySelector('#df-6dba3664-cc6b-45fd-9a63-f1ce8e20e4c9');\n",
              "          const dataTable =\n",
              "            await google.colab.kernel.invokeFunction('convertToInteractive',\n",
              "                                                     [key], {});\n",
              "          if (!dataTable) return;\n",
              "\n",
              "          const docLinkHtml = 'Like what you see? Visit the ' +\n",
              "            '<a target=\"_blank\" href=https://colab.research.google.com/notebooks/data_table.ipynb>data table notebook</a>'\n",
              "            + ' to learn more about interactive tables.';\n",
              "          element.innerHTML = '';\n",
              "          dataTable['output_type'] = 'display_data';\n",
              "          await google.colab.output.renderOutput(dataTable, element);\n",
              "          const docLink = document.createElement('div');\n",
              "          docLink.innerHTML = docLinkHtml;\n",
              "          element.appendChild(docLink);\n",
              "        }\n",
              "      </script>\n",
              "    </div>\n",
              "  </div>\n",
              "  "
            ],
            "text/plain": [
              "   carat  cut  color  clarity  depth  table  price     x     y     z\n",
              "0   0.23    4      5        2   61.5   55.0    326  3.95  3.98  2.43\n",
              "1   0.21    3      5        1   59.8   61.0    326  3.89  3.84  2.31\n",
              "2   0.23    1      5        3   56.9   65.0    327  4.05  4.07  2.31\n",
              "3   0.29    3      1        4   62.4   58.0    334  4.20  4.23  2.63\n",
              "4   0.31    1      0        2   63.3   58.0    335  4.34  4.35  2.75"
            ]
          },
          "metadata": {},
          "execution_count": 5
        }
      ]
    },
    {
      "cell_type": "code",
      "metadata": {
        "colab": {
          "base_uri": "https://localhost:8080/"
        },
        "id": "58L7ZmuaYbNn",
        "outputId": "4dd0f821-be47-4058-fc98-f2a49ee66089"
      },
      "source": [
        "pdf.dtypes"
      ],
      "execution_count": null,
      "outputs": [
        {
          "output_type": "execute_result",
          "data": {
            "text/plain": [
              "carat      float64\n",
              "cut          int64\n",
              "color        int64\n",
              "clarity      int64\n",
              "depth      float64\n",
              "table      float64\n",
              "price        int64\n",
              "x          float64\n",
              "y          float64\n",
              "z          float64\n",
              "dtype: object"
            ]
          },
          "metadata": {},
          "execution_count": 6
        }
      ]
    },
    {
      "cell_type": "code",
      "metadata": {
        "id": "e9evUSDpZMsE"
      },
      "source": [
        "labels = pdf['price'].values\n",
        "featureNames = ['carat', 'cut', 'color', 'clarity', 'depth', 'table', 'x', 'y', 'z']\n",
        "features = pdf[featureNames].values"
      ],
      "execution_count": null,
      "outputs": []
    },
    {
      "cell_type": "code",
      "metadata": {
        "colab": {
          "base_uri": "https://localhost:8080/"
        },
        "id": "HFNtXVpYZOJS",
        "outputId": "6cbe03ce-6d97-488d-e63c-419e1bee21aa"
      },
      "source": [
        "from sklearn.preprocessing import normalize\n",
        "features = normalize(features, axis=0)\n",
        "features"
      ],
      "execution_count": null,
      "outputs": [
        {
          "output_type": "execute_result",
          "data": {
            "text/plain": [
              "array([[0.00106702, 0.00553547, 0.005655  , ..., 0.0029123 , 0.00293078,\n",
              "        0.00289958],\n",
              "       [0.00097424, 0.0041516 , 0.005655  , ..., 0.00286806, 0.00282769,\n",
              "        0.00275639],\n",
              "       [0.00106702, 0.00138387, 0.005655  , ..., 0.00298603, 0.00299705,\n",
              "        0.00275639],\n",
              "       ...,\n",
              "       [0.00324745, 0.00276773, 0.006786  , ..., 0.00417307, 0.00418262,\n",
              "        0.00424794],\n",
              "       [0.00398973, 0.0041516 , 0.002262  , ..., 0.00453434, 0.00450662,\n",
              "        0.00446272],\n",
              "       [0.00347941, 0.00553547, 0.006786  , ..., 0.0042984 , 0.00432253,\n",
              "        0.0043434 ]])"
            ]
          },
          "metadata": {},
          "execution_count": 8
        }
      ]
    },
    {
      "cell_type": "code",
      "metadata": {
        "id": "N8reGrDOY6wy"
      },
      "source": [
        "from sklearn import linear_model\n",
        "\n",
        "model = linear_model.Ridge().fit(features, labels)"
      ],
      "execution_count": null,
      "outputs": []
    },
    {
      "cell_type": "code",
      "metadata": {
        "colab": {
          "base_uri": "https://localhost:8080/"
        },
        "id": "NfvhPf2uZiBW",
        "outputId": "9f31673c-d782-4a4a-d3e6-edc5c85b99a4"
      },
      "source": [
        "model.coef_"
      ],
      "execution_count": null,
      "outputs": [
        {
          "output_type": "execute_result",
          "data": {
            "text/plain": [
              "array([317631.26407957,  -5570.00639578, -35361.60027062, -12561.03271112,\n",
              "         -391.85286415,   2893.356447  , 113393.7440294 , 112724.63907073,\n",
              "       112036.32664852])"
            ]
          },
          "metadata": {},
          "execution_count": 10
        }
      ]
    },
    {
      "cell_type": "markdown",
      "metadata": {
        "id": "bbT-BruHxP9R"
      },
      "source": [
        "## Parameter tuning со Spark\n",
        "\n",
        "Parameter tuning - это задача тьюнинга (гипер) параметров ML алгоритма с целью повысить качество модели. Тренируются различные модели (каждая со своим набором параметров) на одном и том же наборе данных и далее все полученные модели тестируются на одном и том же отложенном наборе данных, что снижает риск переобучения.\n",
        "\n",
        "k-fold cross validation:\n",
        "\n",
        "\n",
        " - Случайным образом разбиваем данные на к равных частей (\"folds\")\n",
        "     -  i = 1, 2, ..., k, откладываем набор данных i как validation set.\n",
        "     -  training set - все кроме i\n",
        "\n",
        "     -  для каждого набора параметров тренируем модель, подсчитываем ошибку на k различных validation set, усредняем, находим лучший набор параметров\n",
        "\n",
        " - Тренируем модель с лучшим набором параметров на всех данных "
      ]
    },
    {
      "cell_type": "markdown",
      "metadata": {
        "id": "zN4cDrCpxP9S"
      },
      "source": [
        "\n",
        "Для каждой пары (fold, parameter set) можно обучать модель независимо от всех остальных. Мы распараллелим эти задания: scikit-learn будет обучать модель на каждом executor'е. Это параллелизация очень эффективна, так как обучение моделей - самая вычислительно сложная часть ML workflow.\n",
        "\n",
        "Если используются k фолдов и P различных наборов параметров, то во сколько раз можно ускорить вычисление?\n"
      ]
    },
    {
      "cell_type": "markdown",
      "metadata": {
        "id": "dTrqa2NbxP9S"
      },
      "source": [
        "### Отложим random test set\n"
      ]
    },
    {
      "cell_type": "code",
      "metadata": {
        "id": "2M4sNUQCxP9S",
        "colab": {
          "base_uri": "https://localhost:8080/"
        },
        "outputId": "d8627fd6-69cf-48e2-ff3e-bd7fe5f77234"
      },
      "source": [
        "from sklearn.model_selection import train_test_split\n",
        "\n",
        "trainingLabels, testLabels, trainingFeatures, testFeatures = train_test_split(labels, features, test_size=0.3)\n",
        "ntrain, ntest = len(trainingLabels), len(testLabels)\n",
        "print('Split data randomly into 2 sets: %d training and %d test instances.' % (ntrain, ntest))"
      ],
      "execution_count": null,
      "outputs": [
        {
          "output_type": "stream",
          "name": "stdout",
          "text": [
            "Split data randomly into 2 sets: 37758 training and 16182 test instances.\n"
          ]
        }
      ]
    },
    {
      "cell_type": "markdown",
      "metadata": {
        "id": "lsmDNYv4apw0"
      },
      "source": [
        ""
      ]
    },
    {
      "cell_type": "markdown",
      "metadata": {
        "id": "GjUxJYn3xP9T"
      },
      "source": [
        "### Разобьем данные и определим таски, которые будем параллелизировать\n",
        "Каждое распределенное задание это пара - (fold, parameter set) pair."
      ]
    },
    {
      "cell_type": "code",
      "metadata": {
        "id": "GVHBDOsZxP9T"
      },
      "source": [
        "from sklearn.model_selection import KFold\n",
        "numFolds = 3 # more (10 or so) in practice\n",
        "kf = KFold(n_splits=numFolds)"
      ],
      "execution_count": null,
      "outputs": []
    },
    {
      "cell_type": "code",
      "source": [
        "alphas = [0.0, 0.0001, 0.001, 0.01, 0.1, 1.0, 10.0, 100.0, 1000.0]\n",
        "len(alphas)"
      ],
      "metadata": {
        "colab": {
          "base_uri": "https://localhost:8080/"
        },
        "id": "Pop1SDXnVSHy",
        "outputId": "e37f4872-0d98-4fda-b9ea-29da794956c6"
      },
      "execution_count": null,
      "outputs": [
        {
          "output_type": "execute_result",
          "data": {
            "text/plain": [
              "9"
            ]
          },
          "metadata": {},
          "execution_count": 13
        }
      ]
    },
    {
      "cell_type": "code",
      "metadata": {
        "id": "fvXY0usPhred"
      },
      "source": [
        "tasks = []\n",
        "for alpha in alphas:\n",
        "    for k in range(numFolds):\n",
        "        tasks.append((k, alpha))"
      ],
      "execution_count": null,
      "outputs": []
    },
    {
      "cell_type": "code",
      "source": [
        "tasks"
      ],
      "metadata": {
        "colab": {
          "base_uri": "https://localhost:8080/"
        },
        "id": "UU3CZmI5Vk2E",
        "outputId": "f9476e06-330a-4bfe-88c5-a0e5fd480ff5"
      },
      "execution_count": null,
      "outputs": [
        {
          "output_type": "execute_result",
          "data": {
            "text/plain": [
              "[(0, 0.0),\n",
              " (1, 0.0),\n",
              " (2, 0.0),\n",
              " (0, 0.0001),\n",
              " (1, 0.0001),\n",
              " (2, 0.0001),\n",
              " (0, 0.001),\n",
              " (1, 0.001),\n",
              " (2, 0.001),\n",
              " (0, 0.01),\n",
              " (1, 0.01),\n",
              " (2, 0.01),\n",
              " (0, 0.1),\n",
              " (1, 0.1),\n",
              " (2, 0.1),\n",
              " (0, 1.0),\n",
              " (1, 1.0),\n",
              " (2, 1.0),\n",
              " (0, 10.0),\n",
              " (1, 10.0),\n",
              " (2, 10.0),\n",
              " (0, 100.0),\n",
              " (1, 100.0),\n",
              " (2, 100.0),\n",
              " (0, 1000.0),\n",
              " (1, 1000.0),\n",
              " (2, 1000.0)]"
            ]
          },
          "metadata": {},
          "execution_count": 33
        }
      ]
    },
    {
      "cell_type": "code",
      "metadata": {
        "colab": {
          "base_uri": "https://localhost:8080/"
        },
        "id": "6Hg-lHmIZYUb",
        "outputId": "839cbd14-2da3-42f7-93de-1d483bcdbdb5"
      },
      "source": [
        "len(tasks)"
      ],
      "execution_count": null,
      "outputs": [
        {
          "output_type": "execute_result",
          "data": {
            "text/plain": [
              "27"
            ]
          },
          "metadata": {},
          "execution_count": 34
        }
      ]
    },
    {
      "cell_type": "code",
      "metadata": {
        "id": "bKn7O4VhxP9V",
        "colab": {
          "base_uri": "https://localhost:8080/"
        },
        "outputId": "d4713eb9-6540-4309-944f-69d3e6284fa5"
      },
      "source": [
        "tasksRDD = spark.sparkContext.parallelize(tasks, numSlices = len(tasks))\n",
        "tasksRDD.getNumPartitions()"
      ],
      "execution_count": null,
      "outputs": [
        {
          "output_type": "execute_result",
          "data": {
            "text/plain": [
              "27"
            ]
          },
          "metadata": {},
          "execution_count": 35
        }
      ]
    },
    {
      "cell_type": "code",
      "metadata": {
        "colab": {
          "base_uri": "https://localhost:8080/"
        },
        "id": "uG5VrYVj9uC9",
        "outputId": "6726b224-e3ba-47ff-b6d4-46bbb17ee149"
      },
      "source": [
        "tasksRDD.take(10)"
      ],
      "execution_count": null,
      "outputs": [
        {
          "output_type": "execute_result",
          "data": {
            "text/plain": [
              "[(0, 0.0),\n",
              " (1, 0.0),\n",
              " (2, 0.0),\n",
              " (0, 0.0001),\n",
              " (1, 0.0001),\n",
              " (2, 0.0001),\n",
              " (0, 0.001),\n",
              " (1, 0.001),\n",
              " (2, 0.001),\n",
              " (0, 0.01)]"
            ]
          },
          "metadata": {},
          "execution_count": 36
        }
      ]
    },
    {
      "cell_type": "markdown",
      "metadata": {
        "id": "ZAzG34j_xP9V"
      },
      "source": [
        "### Broadcast dataset"
      ]
    },
    {
      "cell_type": "code",
      "metadata": {
        "id": "r_GjL3KYxP9V"
      },
      "source": [
        "trainingFeaturesBroadcast = spark.sparkContext.broadcast(trainingFeatures)\n",
        "trainingLabelsBroadcast = spark.sparkContext.broadcast(trainingLabels)"
      ],
      "execution_count": null,
      "outputs": []
    },
    {
      "cell_type": "markdown",
      "metadata": {
        "id": "jyqpc4F8xP9W"
      },
      "source": [
        "### Запустим параллельную cross-validation\n",
        "\n",
        "Определим функцию, которая будет запускаться на каждом worker'e, эта функция берет одну пару (1 hyperparameter alpha value + 1 fold index) и тренируем соотвествующую модель. Используем RDD.map для этого."
      ]
    },
    {
      "cell_type": "code",
      "metadata": {
        "id": "6-zSG_aMxP9W"
      },
      "source": [
        "from sklearn import linear_model\n",
        "\n",
        "def trainOneModel(fold, alpha):\n",
        "    \"\"\"\n",
        "    Given 1 task (1 hyperparameter alpha value + 1 fold index), train the corresponding model.\n",
        "    Return: model, score on the fold's test data, task info.\n",
        "    \"\"\"\n",
        "    localTrainingFeatures = trainingFeaturesBroadcast.value\n",
        "    localTrainingLabels = trainingLabelsBroadcast.value\n",
        "    trainIndex, valIndex = [], []\n",
        "    fold_ = 0\n",
        "    \n",
        "    for trainIndex_, valIndex_ in kf.split(localTrainingFeatures):\n",
        "        if fold_ == fold:\n",
        "            trainIndex, valIndex = trainIndex_, valIndex_\n",
        "            break\n",
        "        fold_ += 1\n",
        "    X_train, X_val = localTrainingFeatures[trainIndex], localTrainingFeatures[valIndex]\n",
        "    Y_train, Y_val = localTrainingLabels[trainIndex], localTrainingLabels[valIndex]\n",
        "\n",
        "    clf = linear_model.Ridge(alpha=alpha)\n",
        "    clf.fit(X_train, Y_train)\n",
        "    score = clf.score(X_val, Y_val)\n",
        "    return clf, score, alpha, fold"
      ],
      "execution_count": null,
      "outputs": []
    },
    {
      "cell_type": "code",
      "metadata": {
        "colab": {
          "base_uri": "https://localhost:8080/"
        },
        "id": "o18BK0WIZczy",
        "outputId": "94c7cea8-d68a-4466-b777-37ee1253e47e"
      },
      "source": [
        "trainedModelAndScores = tasksRDD.map(lambda alpha_fold: trainOneModel(alpha_fold[0], alpha_fold[1]))\n",
        "trainedModelAndScores.cache()\n",
        "trainedModelAndScores.count()"
      ],
      "execution_count": null,
      "outputs": [
        {
          "output_type": "execute_result",
          "data": {
            "text/plain": [
              "27"
            ]
          },
          "metadata": {},
          "execution_count": 38
        }
      ]
    },
    {
      "cell_type": "code",
      "source": [
        "result = trainedModelAndScores.collect()"
      ],
      "metadata": {
        "id": "dCvwfBl8W8ul"
      },
      "execution_count": null,
      "outputs": []
    },
    {
      "cell_type": "code",
      "metadata": {
        "id": "zUkAH7TAxP9X"
      },
      "source": [
        "trainingFeaturesBroadcast.unpersist()\n",
        "trainingLabelsBroadcast.unpersist()"
      ],
      "execution_count": null,
      "outputs": []
    },
    {
      "cell_type": "markdown",
      "metadata": {
        "id": "55Aa3t4pxP9X"
      },
      "source": [
        "### Соберем результаты для лучшей hyperparameter alpha"
      ]
    },
    {
      "cell_type": "code",
      "metadata": {
        "id": "nzS6MILLxP9X"
      },
      "source": [
        "allScores = trainedModelAndScores.map(lambda x: (x[1], x[2], x[3])).collect()\n",
        "avgScores = dict(map(lambda alpha: (alpha, 0.0), alphas))"
      ],
      "execution_count": null,
      "outputs": []
    },
    {
      "cell_type": "code",
      "metadata": {
        "colab": {
          "base_uri": "https://localhost:8080/"
        },
        "id": "aWdCsoqxZh6O",
        "outputId": "c4fd57b8-30ef-4249-ccd5-f3abf0200818"
      },
      "source": [
        "for score, alpha, fold in allScores:\n",
        "    avgScores[alpha] += score\n",
        "for alpha in alphas:\n",
        "    avgScores[alpha] /= numFolds\n",
        "avgScores"
      ],
      "execution_count": null,
      "outputs": [
        {
          "output_type": "execute_result",
          "data": {
            "text/plain": [
              "{0.0: 0.8924062503088138,\n",
              " 0.0001: 0.8923667650788563,\n",
              " 0.001: 0.8901866361320506,\n",
              " 0.01: 0.8771425031691389,\n",
              " 0.1: 0.7305941591418175,\n",
              " 1.0: 0.22909967607846105,\n",
              " 10.0: 0.028522454941469058,\n",
              " 100.0: 0.002810089361864998,\n",
              " 1000.0: 0.00016733252461006062}"
            ]
          },
          "metadata": {},
          "execution_count": 42
        }
      ]
    },
    {
      "cell_type": "markdown",
      "metadata": {
        "id": "vg-yO1XGxP9Y"
      },
      "source": [
        "Теперь у нас есть список alpha values с соотвествующими средними scores, найдем среди них лучший."
      ]
    },
    {
      "cell_type": "code",
      "metadata": {
        "colab": {
          "base_uri": "https://localhost:8080/"
        },
        "id": "cphwgxN3ZkIP",
        "outputId": "73b222fa-20e6-43c2-8d68-16961c21aff6"
      },
      "source": [
        "bestAlpha = -1\n",
        "bestScore = -1\n",
        "for alpha in alphas:\n",
        "    if avgScores[alpha] > bestScore:\n",
        "        bestAlpha = alpha\n",
        "        bestScore = avgScores[alpha]\n",
        "print('Found best alpha: %g, which gives score: %g' % (bestAlpha, bestScore))"
      ],
      "execution_count": null,
      "outputs": [
        {
          "output_type": "stream",
          "name": "stdout",
          "text": [
            "Found best alpha: 0, which gives score: 0.892406\n"
          ]
        }
      ]
    },
    {
      "cell_type": "code",
      "source": [
        "spark.stop()"
      ],
      "metadata": {
        "id": "0RvXbtvIXY_l"
      },
      "execution_count": null,
      "outputs": []
    },
    {
      "cell_type": "markdown",
      "metadata": {
        "id": "bS4qa4taxP9Z"
      },
      "source": [
        "### Обучим финальную модель с лучшим набором гиперпараметров\n",
        "\n",
        "Так это только 1 таск, то запустим его на драйвере."
      ]
    },
    {
      "cell_type": "code",
      "metadata": {
        "colab": {
          "base_uri": "https://localhost:8080/"
        },
        "id": "Tjp8XLdSZm9C",
        "outputId": "c3dc2d69-c169-42e4-e025-16e45360ecb1"
      },
      "source": [
        "tunedClf = linear_model.Ridge(alpha=bestAlpha)\n",
        "tunedClf.fit(trainingFeatures, trainingLabels)"
      ],
      "execution_count": null,
      "outputs": [
        {
          "output_type": "execute_result",
          "data": {
            "text/plain": [
              "Ridge(alpha=0.0, copy_X=True, fit_intercept=True, max_iter=None,\n",
              "   normalize=False, random_state=None, solver='auto', tol=0.001)"
            ]
          },
          "metadata": {},
          "execution_count": 45
        }
      ]
    },
    {
      "cell_type": "markdown",
      "source": [
        "THE END!"
      ],
      "metadata": {
        "id": "oVeYPI8GZ2O2"
      }
    },
    {
      "cell_type": "markdown",
      "metadata": {
        "id": "owo1QCmqxP9Z"
      },
      "source": [
        "### Spark-sklearn (joblib)\n",
        "https://github.com/databricks/spark-sklearn\n",
        "\n",
        "https://github.com/joblib/joblib-spark"
      ]
    },
    {
      "cell_type": "code",
      "metadata": {
        "id": "ijbtf3NNxP9Z"
      },
      "source": [
        "import sys\n",
        "from spark_sklearn import GridSearchCV"
      ],
      "execution_count": null,
      "outputs": []
    },
    {
      "cell_type": "code",
      "metadata": {
        "id": "nshV88NNxP9a",
        "colab": {
          "base_uri": "https://localhost:8080/"
        },
        "outputId": "309f7c89-2a4a-4705-f7fc-9e6de966489a"
      },
      "source": [
        "parameters = {\"alpha\": alphas}\n",
        "parameters"
      ],
      "execution_count": null,
      "outputs": [
        {
          "output_type": "execute_result",
          "data": {
            "text/plain": [
              "{'alpha': [0.0, 0.0001, 0.001, 0.01, 0.1, 1.0, 10.0, 100.0, 1000.0]}"
            ]
          },
          "metadata": {},
          "execution_count": 47
        }
      ]
    },
    {
      "cell_type": "code",
      "metadata": {
        "id": "5HS4p7CsxP9a"
      },
      "source": [
        "est = linear_model.Ridge()"
      ],
      "execution_count": null,
      "outputs": []
    },
    {
      "cell_type": "code",
      "metadata": {
        "id": "5pPwXxqFxP9a"
      },
      "source": [
        "from pyspark.sql import SparkSession\n",
        "\n",
        "spark = SparkSession.builder\\\n",
        "        .master(\"local\")\\\n",
        "        .appName(\"Colab_pyspark\")\\\n",
        "        .config('spark.ui.port', '4050')\\\n",
        "        .config('spark.executor.memory', '3g')\\\n",
        "        .getOrCreate()\n",
        "        \n",
        "clf = GridSearchCV(spark.sparkContext, est, parameters, n_jobs=4)"
      ],
      "execution_count": null,
      "outputs": []
    },
    {
      "cell_type": "code",
      "metadata": {
        "colab": {
          "base_uri": "https://localhost:8080/"
        },
        "id": "zq8A7hJTZvEG",
        "outputId": "a16b7535-7b05-4a86-95fb-e0f7cd012de6"
      },
      "source": [
        "clf.fit(trainingFeatures, trainingLabels)"
      ],
      "execution_count": null,
      "outputs": [
        {
          "output_type": "execute_result",
          "data": {
            "text/plain": [
              "GridSearchCV(cv=3, error_score='raise',\n",
              "       estimator=Ridge(alpha=1.0, copy_X=True, fit_intercept=True, max_iter=None,\n",
              "   normalize=False, random_state=None, solver='auto', tol=0.001),\n",
              "       fit_params={}, iid=True, n_jobs=4,\n",
              "       param_grid={'alpha': [0.0, 0.0001, 0.001, 0.01, 0.1, 1.0, 10.0, 100.0, 1000.0]},\n",
              "       pre_dispatch='2*n_jobs', refit=True, return_train_score=True,\n",
              "       sc=<SparkContext master=local appName=Colab_pyspark>, scoring=None,\n",
              "       verbose=0)"
            ]
          },
          "metadata": {},
          "execution_count": 50
        }
      ]
    },
    {
      "cell_type": "code",
      "metadata": {
        "colab": {
          "base_uri": "https://localhost:8080/"
        },
        "id": "BMI0l9A_Zwba",
        "outputId": "56c766c1-24ad-4049-e597-3fb27cd0409a"
      },
      "source": [
        "clf.best_estimator_"
      ],
      "execution_count": null,
      "outputs": [
        {
          "output_type": "execute_result",
          "data": {
            "text/plain": [
              "Ridge(alpha=0.0, copy_X=True, fit_intercept=True, max_iter=None,\n",
              "   normalize=False, random_state=None, solver='auto', tol=0.001)"
            ]
          },
          "metadata": {},
          "execution_count": 51
        }
      ]
    },
    {
      "cell_type": "code",
      "metadata": {
        "colab": {
          "base_uri": "https://localhost:8080/"
        },
        "id": "ZooyclfxZx1L",
        "outputId": "ebc487b7-d52d-4d2f-c79b-7c4d1842e9c3"
      },
      "source": [
        "clf.cv_results_"
      ],
      "execution_count": null,
      "outputs": [
        {
          "output_type": "execute_result",
          "data": {
            "text/plain": [
              "{'mean_fit_time': array([0.00801373, 0.00703637, 0.00785232, 0.00746322, 0.00601006,\n",
              "        0.00608913, 0.00602055, 0.00637905, 0.00629767]),\n",
              " 'mean_score_time': array([0.00078472, 0.00082739, 0.00114671, 0.00088716, 0.00075134,\n",
              "        0.00073504, 0.00075062, 0.0007813 , 0.00075992]),\n",
              " 'mean_test_score': array([8.92406250e-01, 8.92366765e-01, 8.90186636e-01, 8.77142503e-01,\n",
              "        7.30594159e-01, 2.29099676e-01, 2.85224549e-02, 2.81008936e-03,\n",
              "        1.67332525e-04]),\n",
              " 'mean_train_score': array([8.92736902e-01, 8.92515000e-01, 8.90256183e-01, 8.77246587e-01,\n",
              "        7.30643262e-01, 2.29206931e-01, 2.86472561e-02, 2.93698313e-03,\n",
              "        2.94439671e-04]),\n",
              " 'param_alpha': masked_array(data=[0.0, 0.0001, 0.001, 0.01, 0.1, 1.0, 10.0, 100.0,\n",
              "                    1000.0],\n",
              "              mask=[False, False, False, False, False, False, False, False,\n",
              "                    False],\n",
              "        fill_value='?',\n",
              "             dtype=object),\n",
              " 'params': ({'alpha': 0.0},\n",
              "  {'alpha': 0.0001},\n",
              "  {'alpha': 0.001},\n",
              "  {'alpha': 0.01},\n",
              "  {'alpha': 0.1},\n",
              "  {'alpha': 1.0},\n",
              "  {'alpha': 10.0},\n",
              "  {'alpha': 100.0},\n",
              "  {'alpha': 1000.0}),\n",
              " 'rank_test_score': array([1, 2, 3, 4, 5, 6, 7, 8, 9], dtype=int32),\n",
              " 'split0_test_score': array([8.89356032e-01, 8.89600327e-01, 8.87403147e-01, 8.72816664e-01,\n",
              "        7.27285825e-01, 2.27527516e-01, 2.83400255e-02, 2.84533761e-03,\n",
              "        2.25467223e-04]),\n",
              " 'split0_train_score': array([8.94113172e-01, 8.93905013e-01, 8.91493903e-01, 8.78896851e-01,\n",
              "        7.31474089e-01, 2.28217495e-01, 2.84687799e-02, 2.91799641e-03,\n",
              "        2.92529146e-04]),\n",
              " 'split1_test_score': array([8.99748660e-01, 8.99459303e-01, 8.96549255e-01, 8.83098961e-01,\n",
              "        7.34973142e-01, 2.31067893e-01, 2.86978563e-02, 2.71249266e-03,\n",
              "        4.11213256e-05]),\n",
              " 'split1_train_score': array([8.89167989e-01, 8.88936599e-01, 8.86859366e-01, 8.74301848e-01,\n",
              "        7.29426370e-01, 2.30139973e-01, 2.88197029e-02, 2.95536234e-03,\n",
              "        2.96289399e-04]),\n",
              " 'split2_test_score': array([8.88114059e-01, 8.88040665e-01, 8.86607507e-01, 8.75511884e-01,\n",
              "        7.29523511e-01, 2.28703619e-01, 2.85294830e-02, 2.87243781e-03,\n",
              "        2.35409025e-04]),\n",
              " 'split2_train_score': array([8.94929544e-01, 8.94703388e-01, 8.92415280e-01, 8.78541062e-01,\n",
              "        7.31029326e-01, 2.29263326e-01, 2.86532855e-02, 2.93759064e-03,\n",
              "        2.94500469e-04]),\n",
              " 'std_fit_time': array([2.20319316e-03, 1.34777769e-03, 2.09603763e-03, 5.92103025e-04,\n",
              "        3.90555540e-05, 6.75532397e-05, 5.05762182e-06, 5.16071332e-04,\n",
              "        3.10114809e-04]),\n",
              " 'std_score_time': array([3.13653110e-05, 1.27085875e-04, 5.08236885e-04, 1.77079692e-04,\n",
              "        1.33689319e-05, 1.53824642e-05, 1.11188183e-05, 3.05442644e-05,\n",
              "        1.06006190e-05]),\n",
              " 'std_test_score': array([5.21656706e-03, 5.05544007e-03, 4.51076127e-03, 4.35320556e-03,\n",
              "        3.22835637e-03, 1.47223450e-03, 1.46168303e-04, 6.98924971e-05,\n",
              "        8.93370394e-05]),\n",
              " 'std_train_score': array([2.54551517e-03, 2.55121749e-03, 2.43118775e-03, 2.08730473e-03,\n",
              "        8.79421337e-04, 7.85860644e-04, 1.43327141e-04, 1.52606246e-05,\n",
              "        1.53571877e-06])}"
            ]
          },
          "metadata": {},
          "execution_count": 52
        }
      ]
    },
    {
      "cell_type": "code",
      "source": [
        "spark.stop()"
      ],
      "metadata": {
        "id": "EJBzUhkKaAmw"
      },
      "execution_count": null,
      "outputs": []
    },
    {
      "cell_type": "markdown",
      "metadata": {
        "id": "zGCxRgVwxP9c"
      },
      "source": [
        "## Model conversion"
      ]
    },
    {
      "cell_type": "code",
      "metadata": {
        "id": "EcoNEbYExP9c"
      },
      "source": [
        "from spark_sklearn import Converter\n",
        "\n",
        "from pyspark.sql import SparkSession\n",
        "\n",
        "spark = SparkSession.builder\\\n",
        "        .master(\"local\")\\\n",
        "        .appName(\"Colab_pyspark\")\\\n",
        "        .config('spark.ui.port', '4050')\\\n",
        "        .config('spark.executor.memory', '3g')\\\n",
        "        .getOrCreate()"
      ],
      "execution_count": null,
      "outputs": []
    },
    {
      "cell_type": "code",
      "metadata": {
        "id": "NkxYiZo5xP9c"
      },
      "source": [
        "converter = Converter(spark.sparkContext)"
      ],
      "execution_count": null,
      "outputs": []
    },
    {
      "cell_type": "code",
      "metadata": {
        "id": "FagFS8uTxP9c"
      },
      "source": [
        "est = linear_model.LinearRegression()"
      ],
      "execution_count": null,
      "outputs": []
    },
    {
      "cell_type": "code",
      "metadata": {
        "colab": {
          "base_uri": "https://localhost:8080/"
        },
        "id": "BPY9So0GZ0Xx",
        "outputId": "0286ca2c-7fad-4dd2-b3d9-3af8a7570678"
      },
      "source": [
        "type(est.fit(trainingFeatures, trainingLabels))"
      ],
      "execution_count": null,
      "outputs": [
        {
          "output_type": "execute_result",
          "data": {
            "text/plain": [
              "sklearn.linear_model.base.LinearRegression"
            ]
          },
          "metadata": {},
          "execution_count": 70
        }
      ]
    },
    {
      "cell_type": "code",
      "source": [
        "est.coef_"
      ],
      "metadata": {
        "colab": {
          "base_uri": "https://localhost:8080/"
        },
        "id": "j5Jc_mfSnpwz",
        "outputId": "fc7af155-4174-496f-d5d8-4ae1a340e925"
      },
      "execution_count": null,
      "outputs": [
        {
          "output_type": "execute_result",
          "data": {
            "text/plain": [
              "array([ 2289700.84920483,    98695.39117225,   253268.96476034,\n",
              "         301769.11580973, -1279554.2612814 ,  -472211.06396154,\n",
              "       -1237094.62644464,    46990.92729461,   -47042.49745931])"
            ]
          },
          "metadata": {},
          "execution_count": 73
        }
      ]
    },
    {
      "cell_type": "code",
      "metadata": {
        "id": "d4pXaBLaxP9d"
      },
      "source": [
        "spark_est = converter.toSpark(est)"
      ],
      "execution_count": null,
      "outputs": []
    },
    {
      "cell_type": "code",
      "metadata": {
        "colab": {
          "base_uri": "https://localhost:8080/"
        },
        "id": "cXLof5dqZ2B4",
        "outputId": "c82ef07b-fd27-4d65-8024-7cf8b31cfba6"
      },
      "source": [
        "type(spark_est)"
      ],
      "execution_count": null,
      "outputs": [
        {
          "output_type": "execute_result",
          "data": {
            "text/plain": [
              "pyspark.ml.regression.LinearRegressionModel"
            ]
          },
          "metadata": {},
          "execution_count": 72
        }
      ]
    },
    {
      "cell_type": "code",
      "metadata": {
        "colab": {
          "base_uri": "https://localhost:8080/"
        },
        "id": "wJxAUNtXZ3Xk",
        "outputId": "b1b3c5df-ecb5-4fc2-a427-441a1058b006"
      },
      "source": [
        "spark_est.coefficients, spark_est.intercept"
      ],
      "execution_count": null,
      "outputs": [
        {
          "output_type": "execute_result",
          "data": {
            "text/plain": [
              "(DenseVector([2289700.8492, 98695.3912, 253268.9648, 301769.1158, -1279554.2613, -472211.064, -1237094.6264, 46990.9273, -47042.4975]),\n",
              " 5731.129571560336)"
            ]
          },
          "metadata": {},
          "execution_count": 74
        }
      ]
    },
    {
      "cell_type": "code",
      "metadata": {
        "id": "B9tGkHNnxP9e"
      },
      "source": [
        "from pyspark.sql.types import *\n",
        "from pyspark.ml.linalg import DenseVector, VectorUDT"
      ],
      "execution_count": null,
      "outputs": []
    },
    {
      "cell_type": "code",
      "metadata": {
        "id": "LZ9-3rM3xP9e"
      },
      "source": [
        "schema = StructType(fields=[\n",
        "    StructField(\"features\", VectorUDT()),\n",
        "    StructField(\"labels\", IntegerType())\n",
        "])"
      ],
      "execution_count": null,
      "outputs": []
    },
    {
      "cell_type": "code",
      "metadata": {
        "id": "ppFZMo-AxP9e"
      },
      "source": [
        "test_df = spark.createDataFrame(zip(map(DenseVector, testFeatures), map(int, testLabels)), schema=schema)"
      ],
      "execution_count": null,
      "outputs": []
    },
    {
      "cell_type": "code",
      "metadata": {
        "id": "Pv2sHc2OaAuP",
        "colab": {
          "base_uri": "https://localhost:8080/"
        },
        "outputId": "4f3d7524-3182-4245-fe47-253c1b183567"
      },
      "source": [
        "test_df.show(truncate=100)"
      ],
      "execution_count": null,
      "outputs": [
        {
          "output_type": "stream",
          "name": "stdout",
          "text": [
            "+----------------------------------------------------------------------------------------------------+------+\n",
            "|                                                                                            features|labels|\n",
            "+----------------------------------------------------------------------------------------------------+------+\n",
            "|[0.004175293803486826,0.0,0.0022619991621070324,0.0012118150143577032,0.0045729741076692785,0.004...|  3024|\n",
            "|[0.006773254392323074,0.00415160199655832,0.0022619991621070324,0.0024236300287154063,0.004280192...|  7604|\n",
            "|[0.0024587841287200198,0.005535469328744426,0.006785997486321097,0.006059075071788516,0.004322018...|  2732|\n",
            "|[0.005984587784997784,0.005535469328744426,0.0,0.0012118150143577032,0.004294134223055298,0.00426...|  5237|\n",
            "|[0.0033402350427894608,0.002767734664372213,0.0022619991621070324,0.0036354450430731095,0.0042244...|  2782|\n",
            "|[0.0032474507360453087,0.0,0.004523998324214065,0.0012118150143577032,0.004517206130746482,0.0044...|  2167|\n",
            "|[0.009742352208135928,0.002767734664372213,0.0022619991621070324,0.0024236300287154063,0.00439172...| 16479|\n",
            "|[0.0033402350427894608,0.00415160199655832,0.006785997486321097,0.0024236300287154063,0.004322018...|  2795|\n",
            "|[0.005103136870928344,0.005535469328744426,0.0056549979052675815,0.0024236300287154063,0.00414077...|  4071|\n",
            "|[0.005659842711393253,0.002767734664372213,0.0033929987431605487,0.007270890086146219,0.004315047...|  8975|\n",
            "|[0.0027371370489524746,0.002767734664372213,0.0011309995810535162,0.0012118150143577032,0.0043011...|  1257|\n",
            "|[0.0024587841287200198,0.005535469328744426,0.004523998324214065,0.007270890086146219,0.004335960...|  2290|\n",
            "|[0.006216548551858164,0.00415160199655832,0.0056549979052675815,0.008482705100503921,0.0043080762...| 17663|\n",
            "|[0.002505176282092096,0.005535469328744426,0.0033929987431605487,0.007270890086146219,0.004224424...|  2090|\n",
            "|[0.004639215337207584,0.002767734664372213,0.0033929987431605487,0.004847260057430813,0.004447496...|  6389|\n",
            "|[0.0013917646011622753,0.00415160199655832,0.006785997486321097,0.0012118150143577032,0.004342931...|   552|\n",
            "|[0.0013453724477901995,0.005535469328744426,0.0022619991621070324,0.006059075071788516,0.00432898...|   607|\n",
            "|[0.0013917646011622753,0.005535469328744426,0.006785997486321097,0.004847260057430813,0.004377786...|   911|\n",
            "|[0.00301548996918493,0.00415160199655832,0.006785997486321097,0.0012118150143577032,0.00421745325...|  2134|\n",
            "|[0.0028299213556966267,0.005535469328744426,0.0033929987431605487,0.007270890086146219,0.00429413...|  2242|\n",
            "+----------------------------------------------------------------------------------------------------+------+\n",
            "only showing top 20 rows\n",
            "\n"
          ]
        }
      ]
    },
    {
      "cell_type": "code",
      "source": [
        "@F.udf(returnType=FloatType())\n",
        "def predict(vector):\n",
        "    return est.predict(vector)"
      ],
      "metadata": {
        "id": "hHIPGCRKoBGm"
      },
      "execution_count": null,
      "outputs": []
    },
    {
      "cell_type": "code",
      "metadata": {
        "id": "i_iVYw6xaCPe",
        "colab": {
          "base_uri": "https://localhost:8080/"
        },
        "outputId": "e68aa809-e3aa-4b6c-b599-669fefb766f9"
      },
      "source": [
        "spark_est.transform(test_df).show()"
      ],
      "execution_count": null,
      "outputs": [
        {
          "output_type": "stream",
          "name": "stdout",
          "text": [
            "+--------------------+------+-------------------+\n",
            "|            features|labels|         prediction|\n",
            "+--------------------+------+-------------------+\n",
            "|[0.00417529380348...|  3024|  2840.180417736866|\n",
            "|[0.00677325439232...|  7604|  8732.896867774449|\n",
            "|[0.00245878412872...|  2732|  3202.022125307526|\n",
            "|[0.00598458778499...|  5237|  6452.532408273042|\n",
            "|[0.00334023504278...|  2782| 2374.1039090742975|\n",
            "|[0.00324745073604...|  2167| 1685.9400933486058|\n",
            "|[0.00974235220813...| 16479|  14605.40707262528|\n",
            "|[0.00334023504278...|  2795|  3359.091140069051|\n",
            "|[0.00510313687092...|  4071|  6732.380188676643|\n",
            "|[0.00565984271139...|  8975|  8205.185799031118|\n",
            "|[0.00273713704895...|  1257|  552.3702859675877|\n",
            "|[0.00245878412872...|  2290|  3026.299827802154|\n",
            "|[0.00621654855185...| 17663| 10280.186162858761|\n",
            "|[0.00250517628209...|  2090| 2877.6977991238705|\n",
            "|[0.00463921533720...|  6389|  5444.739387330309|\n",
            "|[0.00139176460116...|   552|-100.64061607262374|\n",
            "|[0.00134537244779...|   607|  371.0307142245383|\n",
            "|[0.00139176460116...|   911| 1112.2233769923014|\n",
            "|[0.00301548996918...|  2134| 2568.6303342356805|\n",
            "|[0.00282992135569...|  2242|  3436.465546691671|\n",
            "+--------------------+------+-------------------+\n",
            "only showing top 20 rows\n",
            "\n"
          ]
        }
      ]
    },
    {
      "cell_type": "code",
      "metadata": {
        "id": "IkjJUzW_xP9f"
      },
      "source": [
        "spark.stop()"
      ],
      "execution_count": null,
      "outputs": []
    },
    {
      "cell_type": "code",
      "source": [
        ""
      ],
      "metadata": {
        "id": "7m2yjqFgoZ-i"
      },
      "execution_count": null,
      "outputs": []
    }
  ]
}