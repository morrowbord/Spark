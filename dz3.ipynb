{
 "cells": [
  {
   "cell_type": "code",
   "execution_count": null,
   "metadata": {},
   "outputs": [],
   "source": [
    "# Пример\n",
    "# import pyspark\n",
    "# import sys\n",
    "\n",
    "\n",
    "from pyspark.sql import SparkSession\n",
    "\n",
    "\n",
    "\n",
    "spark = SparkSession.builder\\\n",
    "        .master('local[4]')\\\n",
    "        .appName('Lesson_2')\\\n",
    "        .config('spark.executor.instances', 4)\\\n",
    "        .config('spark.executor.memory', f'{int(3000/1.1)}mb')\\\n",
    "        .config('spark.executor.cores', 1)\\\n",
    "        .getOrCreate()\n",
    "\n",
    "sc = spark.sparkContext\n"
   ]
  },
  {
   "cell_type": "code",
   "execution_count": null,
   "metadata": {},
   "outputs": [],
   "source": [
    "\n",
    "# Вспомогательная функция\n",
    "\n",
    "def beautiful_print(rdd, num, title):\n",
    "    print(title)\n",
    "    for row in rdd.take(num):\n",
    "        print('\\t', row)"
   ]
  },
  {
   "cell_type": "code",
   "execution_count": null,
   "metadata": {},
   "outputs": [],
   "source": [
    "train = sc.textFile('dz3/train.csv')\n",
    "beautiful_print(train, 3, 'Train:')\n",
    "train_first_row = train.first()\n",
    "print(f\"Train size: {train.count()} x {len(train_first_row.split(','))}\")"
   ]
  },
  {
   "cell_type": "code",
   "execution_count": null,
   "metadata": {},
   "outputs": [],
   "source": [
    "# Задание 1\n",
    "#  Прочитайте test.csv\n",
    "test = sc.textFile('dz3/test.csv')\n"
   ]
  },
  {
   "cell_type": "code",
   "execution_count": null,
   "metadata": {},
   "outputs": [],
   "source": [
    "beautiful_print(test, 3, 'Test:')"
   ]
  },
  {
   "cell_type": "code",
   "execution_count": null,
   "metadata": {},
   "outputs": [],
   "source": [
    "print(f\"Test size: { test.count() }\")"
   ]
  },
  {
   "cell_type": "code",
   "execution_count": null,
   "metadata": {},
   "outputs": [],
   "source": [
    "# Преобразуем train и test\n",
    "\n",
    "train = train\\\n",
    "    .filter(lambda row: row != train_first_row)\\\n",
    "    .map(lambda row: [float(el) for el in row.split(',')])\n",
    "    \n",
    "train_header = train_first_row.split(',')\n",
    "beautiful_print(train, 3, train_header)"
   ]
  },
  {
   "cell_type": "code",
   "execution_count": null,
   "metadata": {},
   "outputs": [],
   "source": [
    "# Задание 2\n",
    "#  Приведите test.csv к аналогичному виду, что и train\n",
    "test_first_row = test.first()\n",
    "test = test.filter(lambda row: row != test_first_row).map(lambda row: [float(el) for el in row.split(',')])\n",
    "test_header = test_first_row.split(',')\n",
    "beautiful_print(test, 3, test_header)"
   ]
  },
  {
   "cell_type": "code",
   "execution_count": null,
   "metadata": {},
   "outputs": [],
   "source": [
    "train.count()==test.count()"
   ]
  },
  {
   "cell_type": "markdown",
   "metadata": {},
   "source": [
    "### Объединим train и test\n",
    "Найти нужную функцию можно [здесь](https://spark.apache.org/docs/3.1.1/api/python/reference/pyspark.html#rdd-apis)\n",
    "\n",
    "PS: нужно сделать средсвтвами rdd pd.concat([train, test,], axis=0)"
   ]
  },
  {
   "cell_type": "code",
   "execution_count": null,
   "metadata": {},
   "outputs": [],
   "source": [
    "rdd_test_train=train.union(test)"
   ]
  },
  {
   "cell_type": "code",
   "execution_count": null,
   "metadata": {},
   "outputs": [],
   "source": [
    "rdd_test_train"
   ]
  },
  {
   "cell_type": "markdown",
   "metadata": {},
   "source": [
    "###  Рассчитайте соотношение сторон экрана и найдите широкоформатные, выведите это распределение\n",
    "px_height: Pixel Resolution Height\n",
    "px_width: Pixel Resolution Width\n",
    "sc_h: Screen Height of mobile (cm)\n",
    "sc_w: Screen Width of mobile (cm)"
   ]
  },
  {
   "cell_type": "code",
   "execution_count": null,
   "metadata": {},
   "outputs": [],
   "source": [
    "rdd_test_train['sc_h']"
   ]
  },
  {
   "cell_type": "code",
   "execution_count": null,
   "metadata": {},
   "outputs": [],
   "source": []
  }
 ],
 "metadata": {
  "kernelspec": {
   "display_name": "Python 3",
   "language": "python",
   "name": "python3"
  },
  "language_info": {
   "codemirror_mode": {
    "name": "ipython",
    "version": 3
   },
   "file_extension": ".py",
   "mimetype": "text/x-python",
   "name": "python",
   "nbconvert_exporter": "python",
   "pygments_lexer": "ipython3",
   "version": "3.8.5"
  }
 },
 "nbformat": 4,
 "nbformat_minor": 4
}
