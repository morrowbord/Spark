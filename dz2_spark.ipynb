{
 "cells": [
  {
   "cell_type": "code",
   "execution_count": 2,
   "metadata": {},
   "outputs": [],
   "source": [
    "# Пример\n",
    "# import pyspark\n",
    "# import sys\n",
    "\n",
    "\n",
    "from pyspark.sql import SparkSession\n",
    "\n",
    "\n",
    "\n",
    "spark = SparkSession.builder\\\n",
    "        .master('local[4]')\\\n",
    "        .appName('Lesson_2')\\\n",
    "        .config('spark.executor.instances', 4)\\\n",
    "        .config('spark.executor.memory', f'{int(3000/1.1)}mb')\\\n",
    "        .config('spark.executor.cores', 1)\\\n",
    "        .getOrCreate()\n",
    "\n",
    "sc = spark.sparkContext\n"
   ]
  },
  {
   "cell_type": "code",
   "execution_count": 3,
   "metadata": {},
   "outputs": [
    {
     "name": "stdout",
     "output_type": "stream",
     "text": [
      "['id,battery_power,blue,clock_speed,dual_sim,fc,four_g,int_memory,m_dep,mobile_wt,n_cores,pc,px_height,px_width,ram,sc_h,sc_w,talk_time,three_g,touch_screen,wifi', '1,1043,1,1.8,1,14,0,5,0.1,193,3,16,226,1412,3476,12,7,2,0,1,0']\n"
     ]
    }
   ],
   "source": [
    "\n",
    "data_test = sc.textFile('/home/morrowbord/spark/test.csv')\n",
    "print(data_test.take(2))"
   ]
  },
  {
   "cell_type": "code",
   "execution_count": 4,
   "metadata": {},
   "outputs": [],
   "source": [
    "data_train = sc.textFile('/home/morrowbord/spark/train.csv')"
   ]
  },
  {
   "cell_type": "code",
   "execution_count": 5,
   "metadata": {
    "scrolled": true
   },
   "outputs": [
    {
     "name": "stdout",
     "output_type": "stream",
     "text": [
      "['battery_power,blue,clock_speed,dual_sim,fc,four_g,int_memory,m_dep,mobile_wt,n_cores,pc,px_height,px_width,ram,sc_h,sc_w,talk_time,three_g,touch_screen,wifi,price_range', '842,0,2.2,0,1,0,7,0.6,188,2,2,20,756,2549,9,7,19,0,0,1,1']\n"
     ]
    }
   ],
   "source": [
    "print(data_train.take(2))"
   ]
  },
  {
   "cell_type": "code",
   "execution_count": 77,
   "metadata": {},
   "outputs": [],
   "source": [
    "a,b=data_test.take(2)[0],data_train.take(2)[0]"
   ]
  },
  {
   "cell_type": "code",
   "execution_count": 78,
   "metadata": {},
   "outputs": [],
   "source": [
    "a=a.split(\",\")"
   ]
  },
  {
   "cell_type": "code",
   "execution_count": 79,
   "metadata": {},
   "outputs": [],
   "source": [
    "b=b.split(\",\")"
   ]
  },
  {
   "cell_type": "code",
   "execution_count": 168,
   "metadata": {},
   "outputs": [
    {
     "data": {
      "text/plain": [
       "(['id',\n",
       "  'battery_power',\n",
       "  'blue',\n",
       "  'clock_speed',\n",
       "  'dual_sim',\n",
       "  'fc',\n",
       "  'four_g',\n",
       "  'int_memory',\n",
       "  'm_dep',\n",
       "  'mobile_wt',\n",
       "  'n_cores',\n",
       "  'pc',\n",
       "  'px_height',\n",
       "  'px_width',\n",
       "  'ram',\n",
       "  'sc_h',\n",
       "  'sc_w',\n",
       "  'talk_time',\n",
       "  'three_g',\n",
       "  'touch_screen',\n",
       "  'wifi'],\n",
       " ['battery_power',\n",
       "  'blue',\n",
       "  'clock_speed',\n",
       "  'dual_sim',\n",
       "  'fc',\n",
       "  'four_g',\n",
       "  'int_memory',\n",
       "  'm_dep',\n",
       "  'mobile_wt',\n",
       "  'n_cores',\n",
       "  'pc',\n",
       "  'px_height',\n",
       "  'px_width',\n",
       "  'ram',\n",
       "  'sc_h',\n",
       "  'sc_w',\n",
       "  'talk_time',\n",
       "  'three_g',\n",
       "  'touch_screen',\n",
       "  'wifi',\n",
       "  'price_range'])"
      ]
     },
     "execution_count": 168,
     "metadata": {},
     "output_type": "execute_result"
    }
   ],
   "source": [
    "a,b"
   ]
  },
  {
   "cell_type": "code",
   "execution_count": 169,
   "metadata": {},
   "outputs": [],
   "source": [
    "for i in b:\n",
    "    if i not in a:\n",
    "        slovo1 = (i)"
   ]
  },
  {
   "cell_type": "code",
   "execution_count": 172,
   "metadata": {},
   "outputs": [
    {
     "data": {
      "text/plain": [
       "'price_range'"
      ]
     },
     "execution_count": 172,
     "metadata": {},
     "output_type": "execute_result"
    }
   ],
   "source": [
    "slovo1"
   ]
  },
  {
   "cell_type": "code",
   "execution_count": 171,
   "metadata": {},
   "outputs": [],
   "source": [
    "for word in a:\n",
    "    if word not in b:\n",
    "        slovo2 = (word)"
   ]
  },
  {
   "cell_type": "code",
   "execution_count": 178,
   "metadata": {},
   "outputs": [
    {
     "data": {
      "text/plain": [
       "'price_range+id'"
      ]
     },
     "execution_count": 178,
     "metadata": {},
     "output_type": "execute_result"
    }
   ],
   "source": [
    "diff=slovo1+\"+\"+slovo2\n",
    "diff"
   ]
  },
  {
   "cell_type": "markdown",
   "metadata": {},
   "source": [
    "#### Ответ: \n",
    "train.csv - убрана нулевая колонка \"id\" в датасете test.csv, и добавлена колонка \"price_range\" "
   ]
  },
  {
   "cell_type": "markdown",
   "metadata": {},
   "source": [
    "#### но не понятно как смотреть в таком форате данных различия? \n",
    "\n",
    "https://spark.apache.org/docs/latest/rdd-programming-guide.html#transformations\n",
    "так не сработало:\n",
    "distinct([data_test.take(2)[0],data_train.take(2)[0]])"
   ]
  }
 ],
 "metadata": {
  "kernelspec": {
   "display_name": "Python 3",
   "language": "python",
   "name": "python3"
  },
  "language_info": {
   "codemirror_mode": {
    "name": "ipython",
    "version": 3
   },
   "file_extension": ".py",
   "mimetype": "text/x-python",
   "name": "python",
   "nbconvert_exporter": "python",
   "pygments_lexer": "ipython3",
   "version": "3.8.5"
  }
 },
 "nbformat": 4,
 "nbformat_minor": 4
}
