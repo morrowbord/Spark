{
 "cells": [
  {
   "cell_type": "markdown",
   "metadata": {
    "id": "8Zc4sdy0s35D"
   },
   "source": [
    "# Создаём точку входа в Spark"
   ]
  },
  {
   "cell_type": "code",
   "execution_count": 1,
   "metadata": {
    "id": "idrMQH4dj605"
   },
   "outputs": [],
   "source": [
    "from pyspark.sql import SparkSession\n",
    "\n",
    "spark = SparkSession.builder\\\n",
    "        .master('local[4]')\\\n",
    "        .appName('Lesson_2')\\\n",
    "        .config('spark.ui.port', '4050')\\\n",
    "        .config('spark.executor.instances', 2)\\\n",
    "        .config('spark.executor.memory', '5g')\\\n",
    "        .config('spark.executor.cores', 2)\\\n",
    "        .getOrCreate()\n",
    "\n",
    "sc = spark.sparkContext"
   ]
  },
  {
   "cell_type": "code",
   "execution_count": 2,
   "metadata": {
    "colab": {
     "base_uri": "https://localhost:8080/",
     "height": 223
    },
    "id": "ZfhfV3EWHzqB",
    "outputId": "ac1054eb-185e-4d53-ca98-7ad8b32c0119"
   },
   "outputs": [
    {
     "data": {
      "text/html": [
       "\n",
       "            <div>\n",
       "                <p><b>SparkSession - in-memory</b></p>\n",
       "                \n",
       "        <div>\n",
       "            <p><b>SparkContext</b></p>\n",
       "\n",
       "            <p><a href=\"http://192.168.2.61:4050\">Spark UI</a></p>\n",
       "\n",
       "            <dl>\n",
       "              <dt>Version</dt>\n",
       "                <dd><code>v3.2.0</code></dd>\n",
       "              <dt>Master</dt>\n",
       "                <dd><code>local[4]</code></dd>\n",
       "              <dt>AppName</dt>\n",
       "                <dd><code>Lesson_2</code></dd>\n",
       "            </dl>\n",
       "        </div>\n",
       "        \n",
       "            </div>\n",
       "        "
      ],
      "text/plain": [
       "<pyspark.sql.session.SparkSession at 0x7f40e829b160>"
      ]
     },
     "execution_count": 2,
     "metadata": {},
     "output_type": "execute_result"
    }
   ],
   "source": [
    "spark"
   ]
  },
  {
   "cell_type": "markdown",
   "metadata": {
    "id": "uySWyv8CXIMF"
   },
   "source": [
    "**Текст, выделенный полужирным шрифтом**# DataFrame\n",
    "Теперь мы знаем про Dataframe. Нужно сделать практически всё то же самое, но используя датафрейм."
   ]
  },
  {
   "cell_type": "markdown",
   "metadata": {
    "id": "VrBE3PdXtOwT"
   },
   "source": [
    "# Самостоятельная работа\n",
    "\n",
    "Требуется выяснить:\n",
    "1. Какое соотношение сторон экрана телефона самое популярное,\n",
    "2. Плотность пикселей у экрана.\n",
    "\n",
    "Всего 8 баллов. \n"
   ]
  },
  {
   "cell_type": "markdown",
   "metadata": {
    "id": "FjAfrNtXSKBz"
   },
   "source": [
    "## Считывание данных\n",
    "Данные взяты отсюда: https://www.kaggle.com/iabhishekofficial/mobile-price-classification\n",
    "Скачиваем и копируем в папку с нотебуком\n",
    "\n",
    "Внутри содержится следующая информация:\n",
    "\n",
    "* id: ID\n",
    "* battery_power: Total energy a battery can store in one time (mAh)\n",
    "* blue: Support bluetooth or not\n",
    "* clock_speed: Speed at which microprocessor executes instructions\n",
    "* dual_sim: Support dual sim or not\n",
    "* fc: Front Camera mega pixels\n",
    "* four_g: Support 4G or not\n",
    "* int_memory: Internal Memory (GB)\n",
    "* m_dep: Mobile Depth (cm)\n",
    "* mobile_wt: Weight of mobile phone\n",
    "* n_cores: Number of cores of processor\n",
    "* pc: Primary Camera mega pixels\n",
    "* px_height: Pixel Resolution Height\n",
    "* px_width: Pixel Resolution Width\n",
    "* ram: Random Access Memory (MB)\n",
    "* sc_h: Screen Height of mobile (cm)\n",
    "* sc_w: Screen Width of mobile (cm)\n",
    "* talk_time: Time that a single battery charge will last\n",
    "* three_g: Support 3G or not\n",
    "* touch_screen: Has touch screen or not\n",
    "* wifi: Support wifi or not"
   ]
  },
  {
   "cell_type": "markdown",
   "metadata": {
    "id": "EQUTJAcqXlm-"
   },
   "source": [
    "# Считывание данных"
   ]
  },
  {
   "cell_type": "code",
   "execution_count": 3,
   "metadata": {
    "id": "E9Vb0d0hutEb"
   },
   "outputs": [],
   "source": [
    "# Прочитайте содержимое каждого файла в датафрейм и выведите первые несколько строк (1 балл)\n",
    "# Применив cast к колонке можно изменить тип данных (F.col().cast(IntegerType()).alias())\n",
    "# Приведите все данные к правильному типу, либо считайе сразу верно (1 балл)\n",
    "###############\n",
    "# Ваш код здесь\n",
    "###############\n",
    "df_test=spark.read.csv('test.csv', header=True, inferSchema=True)\n",
    "df_train=spark.read.csv('train.csv', header=True, inferSchema=True)"
   ]
  },
  {
   "cell_type": "markdown",
   "metadata": {
    "id": "kjCdeAS4v1Vc"
   },
   "source": [
    "## Объединим train и test\n",
    "Найти нужную функцию можно [здесь](https://spark.apache.org/docs/2.4.0/api/python/pyspark.sql.html)\n",
    "\n",
    "PS: нужно сделать средствами pyspark pd.concat([train, test,], axis=0)"
   ]
  },
  {
   "cell_type": "code",
   "execution_count": 4,
   "metadata": {
    "id": "5-Oeq54KxhXa"
   },
   "outputs": [],
   "source": [
    "# Объедините train и test (1 балла)\n",
    "###############\n",
    "# Ваш код здесь\n",
    "# data = \n",
    "###############\n",
    "data=df_test.union(df_train)"
   ]
  },
  {
   "cell_type": "code",
   "execution_count": 5,
   "metadata": {},
   "outputs": [
    {
     "name": "stdout",
     "output_type": "stream",
     "text": [
      "-RECORD 0-------------\n",
      " id            | 1    \n",
      " battery_power | 1043 \n",
      " blue          | 1.0  \n",
      " clock_speed   | 1.8  \n",
      " dual_sim      | 1    \n",
      " fc            | 14   \n",
      " four_g        | 0    \n",
      " int_memory    | 5.0  \n",
      " m_dep         | 0.1  \n",
      " mobile_wt     | 193  \n",
      " n_cores       | 3    \n",
      " pc            | 16   \n",
      " px_height     | 226  \n",
      " px_width      | 1412 \n",
      " ram           | 3476 \n",
      " sc_h          | 12   \n",
      " sc_w          | 7    \n",
      " talk_time     | 2    \n",
      " three_g       | 0    \n",
      " touch_screen  | 1    \n",
      " wifi          | 0    \n",
      "-RECORD 1-------------\n",
      " id            | 2    \n",
      " battery_power | 841  \n",
      " blue          | 1.0  \n",
      " clock_speed   | 0.5  \n",
      " dual_sim      | 1    \n",
      " fc            | 4    \n",
      " four_g        | 1    \n",
      " int_memory    | 61.0 \n",
      " m_dep         | 0.8  \n",
      " mobile_wt     | 191  \n",
      " n_cores       | 5    \n",
      " pc            | 12   \n",
      " px_height     | 746  \n",
      " px_width      | 857  \n",
      " ram           | 3895 \n",
      " sc_h          | 6    \n",
      " sc_w          | 0    \n",
      " talk_time     | 7    \n",
      " three_g       | 1    \n",
      " touch_screen  | 0    \n",
      " wifi          | 0    \n",
      "only showing top 2 rows\n",
      "\n"
     ]
    }
   ],
   "source": [
    "data.show(2, vertical=True)"
   ]
  },
  {
   "cell_type": "code",
   "execution_count": 6,
   "metadata": {},
   "outputs": [
    {
     "name": "stdout",
     "output_type": "stream",
     "text": [
      "root\n",
      " |-- id: integer (nullable = true)\n",
      " |-- battery_power: integer (nullable = true)\n",
      " |-- blue: double (nullable = true)\n",
      " |-- clock_speed: double (nullable = true)\n",
      " |-- dual_sim: integer (nullable = true)\n",
      " |-- fc: integer (nullable = true)\n",
      " |-- four_g: integer (nullable = true)\n",
      " |-- int_memory: double (nullable = true)\n",
      " |-- m_dep: double (nullable = true)\n",
      " |-- mobile_wt: integer (nullable = true)\n",
      " |-- n_cores: integer (nullable = true)\n",
      " |-- pc: integer (nullable = true)\n",
      " |-- px_height: integer (nullable = true)\n",
      " |-- px_width: integer (nullable = true)\n",
      " |-- ram: integer (nullable = true)\n",
      " |-- sc_h: integer (nullable = true)\n",
      " |-- sc_w: integer (nullable = true)\n",
      " |-- talk_time: integer (nullable = true)\n",
      " |-- three_g: integer (nullable = true)\n",
      " |-- touch_screen: integer (nullable = true)\n",
      " |-- wifi: integer (nullable = true)\n",
      "\n"
     ]
    }
   ],
   "source": [
    "data.printSchema()"
   ]
  },
  {
   "cell_type": "markdown",
   "metadata": {},
   "source": [
    "при объединении потерялся столбец price_range, но он и не нужен сейчас"
   ]
  },
  {
   "cell_type": "markdown",
   "metadata": {
    "id": "GxGGHqRyx7XG"
   },
   "source": [
    "## Рассчитайте распределение плотности пикселей "
   ]
  },
  {
   "cell_type": "code",
   "execution_count": 7,
   "metadata": {
    "id": "yZgL4q1gyrRm"
   },
   "outputs": [
    {
     "name": "stdout",
     "output_type": "stream",
     "text": [
      "+------------------+\n",
      "|          diagonal|\n",
      "+------------------+\n",
      "|10.304135691576693|\n",
      "|10.304135691576693|\n",
      "|10.304135691576693|\n",
      "|10.304135691576693|\n",
      "|10.304135691576693|\n",
      "|10.304135691576693|\n",
      "|10.037439987387371|\n",
      "|10.037439987387371|\n",
      "|10.037439987387371|\n",
      "|10.037439987387371|\n",
      "|10.037439987387371|\n",
      "|10.037439987387371|\n",
      "|  9.84251968503937|\n",
      "|  9.84251968503937|\n",
      "|  9.84251968503937|\n",
      "| 9.779324683759228|\n",
      "| 9.779324683759228|\n",
      "| 9.779324683759228|\n",
      "| 9.747573545779487|\n",
      "| 9.747573545779487|\n",
      "+------------------+\n",
      "only showing top 20 rows\n",
      "\n"
     ]
    }
   ],
   "source": [
    "# Выведите отсортированное распределение плотности пикселей (1 балла)\n",
    "# в пикселях на дюйм\n",
    "###############\n",
    "# Ваш код здесь\n",
    "###############\n",
    "from pyspark.sql import functions as F\n",
    "### перевод в дюймы(1см=2.54дюйма) и вычисление гипотенузы для расчтета ppi\n",
    "data.withColumn(col=(((data['sc_w'] /2.54)**2 + (data['sc_h'] / 2.54)**2)**0.5),colName='diagonal').select(\"diagonal\").sort(\"diagonal\",ascending=False).show()"
   ]
  },
  {
   "cell_type": "markdown",
   "metadata": {},
   "source": [
    "сохраняем диагонали в дюймах"
   ]
  },
  {
   "cell_type": "code",
   "execution_count": 23,
   "metadata": {},
   "outputs": [],
   "source": [
    "data=data.withColumn(col=(((data['sc_w'] /2.54)**2 + (data['sc_h'] / 2.54)**2)**0.5),colName='diagonal').sort(\"diagonal\",ascending=False)"
   ]
  },
  {
   "cell_type": "code",
   "execution_count": 29,
   "metadata": {},
   "outputs": [
    {
     "name": "stdout",
     "output_type": "stream",
     "text": [
      "+----+------------------+\n",
      "|  id|               ppi|\n",
      "+----+------------------+\n",
      "|1946| 1812.076847156323|\n",
      "| 812| 1683.440301881834|\n",
      "|1876|1678.9836955730095|\n",
      "| 854|1659.9042894094828|\n",
      "|1606|1575.1742125872936|\n",
      "|1042|1501.8821525006551|\n",
      "| 920|1485.0004208753614|\n",
      "| 790|1454.3356558924079|\n",
      "|1604|1312.8147241709319|\n",
      "|1497|1274.3165924438786|\n",
      "| 663|1258.1236525079719|\n",
      "| 822| 1246.247006014458|\n",
      "|1889|1212.7167847440721|\n",
      "|1635|1212.4476071154584|\n",
      "|1559|1169.0331475197786|\n",
      "|1642|1155.9855102898134|\n",
      "|1503|1113.8491818913367|\n",
      "|1015| 1069.475572418557|\n",
      "|1731|1059.9613755449104|\n",
      "|1880| 1046.018111166766|\n",
      "+----+------------------+\n",
      "only showing top 20 rows\n",
      "\n"
     ]
    }
   ],
   "source": [
    "data.withColumn('ppi',(((data['px_width'] /2.54)**2 + (data['px_height'] / 2.54)**2)**0.5)/data[\"diagonal\"]).select(\"id\",\"ppi\").sort(\"ppi\",ascending=False).show()"
   ]
  },
  {
   "cell_type": "code",
   "execution_count": 36,
   "metadata": {},
   "outputs": [],
   "source": [
    "ppi_df=data.withColumn('ppi',(((data['px_width'] /2.54)**2 + (data['px_height'] / 2.54)**2)**0.5)/data[\"diagonal\"]).select(\"id\",\"ppi\",\"blue\",\"n_cores\",\"pc\").sort(\"id\",ascending=True)"
   ]
  },
  {
   "cell_type": "code",
   "execution_count": 37,
   "metadata": {},
   "outputs": [
    {
     "name": "stdout",
     "output_type": "stream",
     "text": [
      "+---+------------------+----+-------+---+\n",
      "| id|               ppi|blue|n_cores| pc|\n",
      "+---+------------------+----+-------+---+\n",
      "|  1|102.93163886673888| 1.0|      3| 16|\n",
      "|  2|189.36773455076474| 1.0|      5| 12|\n",
      "|  3| 94.56783041885087| 1.0|      3|  4|\n",
      "|  4|177.66623201948082| 0.0|      8| 20|\n",
      "|  5| 64.89547091537837| 0.0|      6| 18|\n",
      "|  6|  89.9471134693966| 1.0|      8|  9|\n",
      "|  7| 132.9278939876804| 0.0|      2|  3|\n",
      "|  8|314.90471754496707| 0.0|      1|  2|\n",
      "|  9|   73.001830982056| 1.0|      5| 19|\n",
      "| 10| 168.3898420003086| 0.0|      3| 20|\n",
      "| 11| 96.68602832568153| 0.0|      7|  6|\n",
      "| 12| 99.26138992282833| 0.0|      3|  6|\n",
      "| 13| 326.7525822392227| 1.0|      2|  3|\n",
      "| 14|143.83309278424647| 1.0|      5| 15|\n",
      "| 15|103.47134869131649| 0.0|      8|  9|\n",
      "| 16|178.84453562949102| 1.0|      8|  7|\n",
      "| 17|122.21941036375084| 0.0|      2| 17|\n",
      "| 18| 68.19082222186587| 0.0|      4| 15|\n",
      "| 19| 78.89289644138368| 1.0|      2|  3|\n",
      "| 20|112.19447401721709| 0.0|      4| 20|\n",
      "+---+------------------+----+-------+---+\n",
      "only showing top 20 rows\n",
      "\n"
     ]
    }
   ],
   "source": [
    "ppi_df.show()"
   ]
  },
  {
   "cell_type": "markdown",
   "metadata": {
    "id": "PNAGeyOmzEN4"
   },
   "source": [
    "## Сохранение\n"
   ]
  },
  {
   "cell_type": "code",
   "execution_count": 42,
   "metadata": {
    "id": "kRb1q9QizDiH"
   },
   "outputs": [],
   "source": [
    "# Сохраните результат в csv sep=';', encoding='cp1251'\n",
    "# с колонками id, плотность пикселей и общей инфой в формате \"2 ядра 2 гига\"\n",
    "# 2 балла\n",
    "###############\n",
    "# Ваш код здесь\n",
    "###############\n",
    "#ppi_df.write.csv(\"final.csv\")\n",
    "ppi_df.write.options(sep=';', encoding='cp1251').csv(\"final.csv\")"
   ]
  },
  {
   "cell_type": "code",
   "execution_count": null,
   "metadata": {},
   "outputs": [],
   "source": []
  }
 ],
 "metadata": {
  "colab": {
   "collapsed_sections": [],
   "name": "Урок 3. HW-DF 27dec2021",
   "provenance": []
  },
  "kernelspec": {
   "display_name": "Python 3",
   "language": "python",
   "name": "python3"
  },
  "language_info": {
   "codemirror_mode": {
    "name": "ipython",
    "version": 3
   },
   "file_extension": ".py",
   "mimetype": "text/x-python",
   "name": "python",
   "nbconvert_exporter": "python",
   "pygments_lexer": "ipython3",
   "version": "3.8.5"
  }
 },
 "nbformat": 4,
 "nbformat_minor": 1
}
