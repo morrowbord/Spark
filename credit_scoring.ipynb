{
 "cells": [
  {
   "cell_type": "markdown",
   "metadata": {
    "colab_type": "text",
    "id": "view-in-github"
   },
   "source": [
    "<a href=\"https://colab.research.google.com/github/morrowbord/Spark/blob/main/credit_scoring.ipynb\" target=\"_parent\"><img src=\"https://colab.research.google.com/assets/colab-badge.svg\" alt=\"Open In Colab\"/></a>"
   ]
  },
  {
   "cell_type": "markdown",
   "metadata": {
    "id": "yS6iWrHV9Gcm"
   },
   "source": [
    "# Кредитный скоринг\n",
    "При принятии решения о выдаче кредита или займа учитывается т.н. «Кредитный скоринг» — рейтинг платежеспособности клиента. ИИ на основе модели, которую просчитывает машинное обучение — в ней много параметров — возраст, зарплата, кредитная история, наличие недвижимости, автомобиля, судимости и других признаков, после обработки которых выносится положительное или отрицательное решение"
   ]
  },
  {
   "cell_type": "code",
   "execution_count": 1,
   "metadata": {
    "id": "qU2mMtRS9Fqf"
   },
   "outputs": [],
   "source": [
    "# # Импортируем библиотеки\n",
    "# %matplotlib inline\n",
    "# %config InlineBackend.figure_format = 'svg'\n",
    "\n",
    "# import warnings\n",
    "# warnings.filterwarnings('ignore')\n",
    "# import numpy as np\n",
    "# import pandas as pd   \n",
    "# import matplotlib.pyplot as plt\n",
    "# import seaborn as sns\n",
    "# import itertools\n",
    "\n",
    "# from sklearn.model_selection import train_test_split\n",
    "# from sklearn.metrics import accuracy_score\n",
    "# from sklearn.linear_model import LogisticRegression\n",
    "# from sklearn.preprocessing import OneHotEncoder, MinMaxScaler"
   ]
  },
  {
   "cell_type": "code",
   "execution_count": 2,
   "metadata": {},
   "outputs": [],
   "source": [
    "from pyspark.sql import SparkSession"
   ]
  },
  {
   "cell_type": "code",
   "execution_count": 3,
   "metadata": {},
   "outputs": [],
   "source": [
    "# from pyspark.sql import functions as F\n",
    "from pyspark.sql.types import *"
   ]
  },
  {
   "cell_type": "code",
   "execution_count": 4,
   "metadata": {},
   "outputs": [],
   "source": [
    "spark=SparkSession.builder.appName(\"scoring\").getOrCreate()"
   ]
  },
  {
   "cell_type": "markdown",
   "metadata": {},
   "source": [
    "# spark.stop()"
   ]
  },
  {
   "cell_type": "markdown",
   "metadata": {
    "id": "LMtO2wAZFzf1"
   },
   "source": [
    "# Данные:\n",
    "[скачать](https://drive.google.com/file/d/1MuAyZiIm3b_r-AgQSj78tsRPqZpvv_2s/view?usp=sharing)\n",
    "\n",
    "**application_record.csv**\n",
    "*   Feature name\tExplanation\tRemarks\n",
    "*   ID\tClient number\t\n",
    "*   CODE_GENDER\tGender\t\n",
    "*   FLAG_OWN_CAR\tIs there a car\t\n",
    "*   FLAG_OWN_REALTY\tIs there a property\t\n",
    "*   CNT_CHILDREN\tNumber of children\t\n",
    "*   AMT_INCOME_TOTAL\tAnnual income\t\n",
    "*   NAME_INCOME_TYPE\tIncome category\t\n",
    "*   NAME_EDUCATION_TYPE\tEducation level\t\n",
    "*   NAME_FAMILY_STATUS\tMarital status\t\n",
    "*   NAME_HOUSING_TYPE\tWay of living\t\n",
    "*   DAYS_BIRTH\tBirthday\tCount backwards from current day (0), -1 means yesterday\n",
    "*   DAYS_EMPLOYED\tStart date of employment\tCount backwards from current day(0). If positive, it means the person currently unemployed.\n",
    "FLAG_MOBIL\tIs there a mobile phone\t\n",
    "*   FLAG_WORK_PHONE\tIs there a work phone\t\n",
    "*   FLAG_PHONE\tIs there a phone\t\n",
    "*   FLAG_EMAIL\tIs there an email\t\n",
    "*   OCCUPATION_TYPE\tOccupation\t\n",
    "*   CNT_FAM_MEMBERS\tFamily size\t\n",
    "\n",
    "**credit_record.csv**\n",
    "*   Feature name\tExplanation\tRemarks\n",
    "*   ID\tClient number\t\n",
    "*   MONTHS_BALANCE\tRecord month\tThe month of the extracted data is the starting point, backwards, 0 is the current month, -1 is the previous month, and so on\n",
    "*   STATUS\tStatus\t\n",
    "   *   0: 1-29 days past due\n",
    "   *   1: 30-59 days past due \n",
    "   *   2: 60-89 days overdue \n",
    "   *   3: 90-119 days overdue \n",
    "   *   4: 120-149 days overdue \n",
    "    *   5: Overdue or bad debts, write-offs for more than 150 days\n",
    "    *   C: paid off that month X: No loan for the month\n"
   ]
  },
  {
   "cell_type": "markdown",
   "metadata": {
    "id": "11v9SXDGDgEv"
   },
   "source": [
    "## Считываем данные"
   ]
  },
  {
   "cell_type": "code",
   "execution_count": 5,
   "metadata": {},
   "outputs": [],
   "source": [
    "# data = pd.read_csv(\"application_record.csv\", encoding = 'utf-8') \n",
    "# record = pd.read_csv(\"credit_record.csv\", encoding = 'utf-8') "
   ]
  },
  {
   "cell_type": "code",
   "execution_count": 6,
   "metadata": {},
   "outputs": [],
   "source": [
    "data = spark.read.csv('Archive 2/application_record.csv',inferSchema=True, header=True)"
   ]
  },
  {
   "cell_type": "code",
   "execution_count": 7,
   "metadata": {},
   "outputs": [],
   "source": [
    "record = spark.read.csv('Archive 2/credit_record.csv',inferSchema=True, header=True)"
   ]
  },
  {
   "cell_type": "code",
   "execution_count": 8,
   "metadata": {},
   "outputs": [
    {
     "name": "stdout",
     "output_type": "stream",
     "text": [
      "+-------+--------------+------+\n",
      "|     ID|MONTHS_BALANCE|STATUS|\n",
      "+-------+--------------+------+\n",
      "|5001711|             0|     X|\n",
      "|5001711|            -1|     0|\n",
      "|5001711|            -2|     0|\n",
      "|5001711|            -3|     0|\n",
      "|5001712|             0|     C|\n",
      "|5001712|            -1|     C|\n",
      "|5001712|            -2|     C|\n",
      "|5001712|            -3|     C|\n",
      "|5001712|            -4|     C|\n",
      "|5001712|            -5|     C|\n",
      "|5001712|            -6|     C|\n",
      "|5001712|            -7|     C|\n",
      "|5001712|            -8|     C|\n",
      "|5001712|            -9|     0|\n",
      "|5001712|           -10|     0|\n",
      "|5001712|           -11|     0|\n",
      "|5001712|           -12|     0|\n",
      "|5001712|           -13|     0|\n",
      "|5001712|           -14|     0|\n",
      "|5001712|           -15|     0|\n",
      "+-------+--------------+------+\n",
      "only showing top 20 rows\n",
      "\n"
     ]
    }
   ],
   "source": [
    "record.show()"
   ]
  },
  {
   "cell_type": "code",
   "execution_count": 9,
   "metadata": {},
   "outputs": [],
   "source": [
    "# # Ниже, мы для тех, у кого хоть раз были просрчоки больше 60 дней, ставим в таргет 1.\n",
    "# # # Добавляем срок кредита к параметрам выдачи кредита\n",
    "# begin_month = pd.DataFrame(record.groupby([\"ID\"])[\"MONTHS_BALANCE\"].agg(min) * - 1)\n",
    "# begin_month = begin_month.rename(columns={'MONTHS_BALANCE':'begin_month'}) \n",
    "# new_data = pd.merge(data, begin_month,how=\"left\",on=\"ID\") "
   ]
  },
  {
   "cell_type": "code",
   "execution_count": 10,
   "metadata": {
    "scrolled": true
   },
   "outputs": [],
   "source": [
    "sdf=record.groupBy('id').min('MONTHS_BALANCE')"
   ]
  },
  {
   "cell_type": "markdown",
   "metadata": {},
   "source": [
    "### умножим на -1 для получения положительных чисел в 'MONTHS_BALANCE'"
   ]
  },
  {
   "cell_type": "code",
   "execution_count": 11,
   "metadata": {},
   "outputs": [],
   "source": [
    "sdf=sdf.withColumn('begin_month',sdf['min(MONTHS_BALANCE)'] * -1).drop(sdf['min(MONTHS_BALANCE)'])"
   ]
  },
  {
   "cell_type": "code",
   "execution_count": 12,
   "metadata": {},
   "outputs": [
    {
     "name": "stdout",
     "output_type": "stream",
     "text": [
      "+-------+-----------+\n",
      "|     id|begin_month|\n",
      "+-------+-----------+\n",
      "|5001812|         22|\n",
      "|5001849|          8|\n",
      "|5001921|         19|\n",
      "|5003338|         33|\n",
      "|5003386|          7|\n",
      "+-------+-----------+\n",
      "only showing top 5 rows\n",
      "\n"
     ]
    }
   ],
   "source": [
    "sdf.show(5)"
   ]
  },
  {
   "cell_type": "code",
   "execution_count": 13,
   "metadata": {},
   "outputs": [],
   "source": [
    "new_data=data.join(sdf,on='id',how=\"left\")"
   ]
  },
  {
   "cell_type": "code",
   "execution_count": 14,
   "metadata": {},
   "outputs": [
    {
     "name": "stdout",
     "output_type": "stream",
     "text": [
      "+-------+-----------+------------+---------------+------------+----------------+--------------------+--------------------+--------------------+-----------------+----------+-------------+----------+---------------+----------+----------+---------------+---------------+-----------+\n",
      "|     ID|CODE_GENDER|FLAG_OWN_CAR|FLAG_OWN_REALTY|CNT_CHILDREN|AMT_INCOME_TOTAL|    NAME_INCOME_TYPE| NAME_EDUCATION_TYPE|  NAME_FAMILY_STATUS|NAME_HOUSING_TYPE|DAYS_BIRTH|DAYS_EMPLOYED|FLAG_MOBIL|FLAG_WORK_PHONE|FLAG_PHONE|FLAG_EMAIL|OCCUPATION_TYPE|CNT_FAM_MEMBERS|begin_month|\n",
      "+-------+-----------+------------+---------------+------------+----------------+--------------------+--------------------+--------------------+-----------------+----------+-------------+----------+---------------+----------+----------+---------------+---------------+-----------+\n",
      "|5008804|          M|           Y|              Y|           0|        427500.0|             Working|    Higher education|      Civil marriage| Rented apartment|    -12005|        -4542|         1|              1|         0|         0|           null|            2.0|         15|\n",
      "|5008805|          M|           Y|              Y|           0|        427500.0|             Working|    Higher education|      Civil marriage| Rented apartment|    -12005|        -4542|         1|              1|         0|         0|           null|            2.0|         14|\n",
      "|5008806|          M|           Y|              Y|           0|        112500.0|             Working|Secondary / secon...|             Married|House / apartment|    -21474|        -1134|         1|              0|         0|         0| Security staff|            2.0|         29|\n",
      "|5008808|          F|           N|              Y|           0|        270000.0|Commercial associate|Secondary / secon...|Single / not married|House / apartment|    -19110|        -3051|         1|              0|         1|         1|    Sales staff|            1.0|          4|\n",
      "|5008809|          F|           N|              Y|           0|        270000.0|Commercial associate|Secondary / secon...|Single / not married|House / apartment|    -19110|        -3051|         1|              0|         1|         1|    Sales staff|            1.0|         26|\n",
      "+-------+-----------+------------+---------------+------------+----------------+--------------------+--------------------+--------------------+-----------------+----------+-------------+----------+---------------+----------+----------+---------------+---------------+-----------+\n",
      "only showing top 5 rows\n",
      "\n"
     ]
    }
   ],
   "source": [
    "#data test\n",
    "#new_data.select('id','begin_month').where(new_data['id']=='5008804').show()\n",
    "new_data.show(5)"
   ]
  },
  {
   "cell_type": "code",
   "execution_count": 15,
   "metadata": {},
   "outputs": [],
   "source": [
    "# # # Больше 60, то это просрочка, ставим - Yes, если просрочка есть за срок кредита,то так же ставим Yes\n",
    "# record['dep_value'] = None\n",
    "# record['dep_value'][record['STATUS'] == '2'] = 'Yes'\n",
    "# record['dep_value'][record['STATUS'] == '3'] = 'Yes'\n",
    "# record['dep_value'][record['STATUS'] == '4'] = 'Yes'\n",
    "# record['dep_value'][record['STATUS'] == '5'] = 'Yes'\n",
    "# cpunt = record.groupby('ID').count()\n",
    "# cpunt['dep_value'][cpunt['dep_value'] > 0] = 'Yes' \n",
    "# cpunt['dep_value'][cpunt['dep_value'] == 0] = 'No'"
   ]
  },
  {
   "cell_type": "markdown",
   "metadata": {},
   "source": [
    "### сделаем фильтрацию по полю STATUS: string"
   ]
  },
  {
   "cell_type": "code",
   "execution_count": 16,
   "metadata": {
    "scrolled": false
   },
   "outputs": [],
   "source": [
    "cpunt=record.filter(\"STATUS=='0' or STATUS=='2' or STATUS=='3' or STATUS=='4' or STATUS=='5'\")"
   ]
  },
  {
   "cell_type": "code",
   "execution_count": 17,
   "metadata": {},
   "outputs": [],
   "source": [
    "# record.filter(\"STATUS=='0' or STATUS=='2' or STATUS=='3' or STATUS=='4' or STATUS=='5'\").groupby('ID').count()"
   ]
  },
  {
   "cell_type": "markdown",
   "metadata": {},
   "source": [
    "### проверим значения, которые попали в колонку 'STATUS' - от 0 до 5"
   ]
  },
  {
   "cell_type": "code",
   "execution_count": 18,
   "metadata": {},
   "outputs": [
    {
     "name": "stdout",
     "output_type": "stream",
     "text": [
      "+-------+-----------------+-------------------+-------------------+\n",
      "|summary|               ID|     MONTHS_BALANCE|             STATUS|\n",
      "+-------+-----------------+-------------------+-------------------+\n",
      "|  count|           386224|             386224|             386224|\n",
      "|   mean|5068504.870748581|-21.842368677244295|0.03120727867765856|\n",
      "| stddev|45859.31637436183| 15.040049897593708|0.36646649920086827|\n",
      "|    min|          5001711|                -60|                  0|\n",
      "|    max|          5150485|                  0|                  5|\n",
      "+-------+-----------------+-------------------+-------------------+\n",
      "\n"
     ]
    }
   ],
   "source": [
    "cpunt.describe().show()"
   ]
  },
  {
   "cell_type": "markdown",
   "metadata": {},
   "source": [
    "### проверим значения, которые попали в колонку 'STATUS' - от 0 до 5 и тут не должно быть '1'"
   ]
  },
  {
   "cell_type": "code",
   "execution_count": 19,
   "metadata": {
    "scrolled": true
   },
   "outputs": [
    {
     "name": "stdout",
     "output_type": "stream",
     "text": [
      "+---+--------------+------+\n",
      "| ID|MONTHS_BALANCE|STATUS|\n",
      "+---+--------------+------+\n",
      "+---+--------------+------+\n",
      "\n"
     ]
    }
   ],
   "source": [
    "cpunt.filter(cpunt[\"STATUS\"]=='1').show()"
   ]
  },
  {
   "cell_type": "code",
   "execution_count": 20,
   "metadata": {},
   "outputs": [],
   "source": [
    "# from pyspark.sql import Window\n",
    "from pyspark.sql import functions as F"
   ]
  },
  {
   "cell_type": "code",
   "execution_count": 21,
   "metadata": {},
   "outputs": [],
   "source": [
    "# windSpec=Window()\\\n",
    "# .partitionBy('ID')\\\n",
    "# .orderBy('STATUS')"
   ]
  },
  {
   "cell_type": "code",
   "execution_count": 22,
   "metadata": {},
   "outputs": [],
   "source": [
    "# cpunt=cpunt.groupBy('ID').count()"
   ]
  },
  {
   "cell_type": "code",
   "execution_count": 23,
   "metadata": {},
   "outputs": [
    {
     "name": "stdout",
     "output_type": "stream",
     "text": [
      "+-------+--------------+------+\n",
      "|     ID|MONTHS_BALANCE|STATUS|\n",
      "+-------+--------------+------+\n",
      "|5001711|            -1|     0|\n",
      "|5001711|            -2|     0|\n",
      "|5001711|            -3|     0|\n",
      "|5001712|            -9|     0|\n",
      "|5001712|           -10|     0|\n",
      "|5001712|           -11|     0|\n",
      "|5001712|           -12|     0|\n",
      "|5001712|           -13|     0|\n",
      "|5001712|           -14|     0|\n",
      "|5001712|           -15|     0|\n",
      "|5001712|           -16|     0|\n",
      "|5001712|           -17|     0|\n",
      "|5001712|           -18|     0|\n",
      "|5001717|            -5|     0|\n",
      "|5001717|            -6|     0|\n",
      "|5001717|            -7|     0|\n",
      "|5001717|            -8|     0|\n",
      "|5001717|            -9|     0|\n",
      "|5001717|           -10|     0|\n",
      "|5001717|           -11|     0|\n",
      "+-------+--------------+------+\n",
      "only showing top 20 rows\n",
      "\n"
     ]
    }
   ],
   "source": [
    "cpunt.show()"
   ]
  },
  {
   "cell_type": "code",
   "execution_count": 24,
   "metadata": {},
   "outputs": [],
   "source": [
    "cpunt=cpunt.select('ID','STATUS',F\\\n",
    "             .when(cpunt['STATUS']>0,'Yes')\\\n",
    "             .when(cpunt['STATUS']==0,'No')\\\n",
    "             .otherwise('no_data')\\\n",
    "             .alias('dep_value'))"
   ]
  },
  {
   "cell_type": "markdown",
   "metadata": {},
   "source": [
    "### посмотрим на новую колонку и данные в ней:"
   ]
  },
  {
   "cell_type": "code",
   "execution_count": 25,
   "metadata": {},
   "outputs": [
    {
     "name": "stdout",
     "output_type": "stream",
     "text": [
      "+-------+-----------------+-------------------+---------+\n",
      "|summary|               ID|             STATUS|dep_value|\n",
      "+-------+-----------------+-------------------+---------+\n",
      "|  count|           386224|             386224|   386224|\n",
      "|   mean|5068504.870748581|0.03120727867765856|     null|\n",
      "| stddev|45859.31637436183|0.36646649920086827|     null|\n",
      "|    min|          5001711|                  0|       No|\n",
      "|    max|          5150485|                  5|      Yes|\n",
      "+-------+-----------------+-------------------+---------+\n",
      "\n"
     ]
    }
   ],
   "source": [
    "cpunt.describe().show()"
   ]
  },
  {
   "cell_type": "code",
   "execution_count": 26,
   "metadata": {},
   "outputs": [],
   "source": [
    "cpunt=cpunt.drop('STATUS')"
   ]
  },
  {
   "cell_type": "code",
   "execution_count": 27,
   "metadata": {},
   "outputs": [],
   "source": [
    "cpunt=cpunt.select('ID','dep_value').groupby('ID','dep_value').count()"
   ]
  },
  {
   "cell_type": "code",
   "execution_count": 28,
   "metadata": {},
   "outputs": [],
   "source": [
    "# cpunt=cpunt.select('ID','dep_value').groupby('ID','dep_value').count()"
   ]
  },
  {
   "cell_type": "code",
   "execution_count": 29,
   "metadata": {},
   "outputs": [
    {
     "name": "stdout",
     "output_type": "stream",
     "text": [
      "+-------+-----------------+---------+-----------------+\n",
      "|summary|               ID|dep_value|            count|\n",
      "+-------+-----------------+---------+-----------------+\n",
      "|  count|            40647|    40647|            40647|\n",
      "|   mean|5070456.520358206|     null| 9.50190665977809|\n",
      "| stddev|45352.54866237441|     null|8.130273870026793|\n",
      "|    min|          5001711|       No|                1|\n",
      "|    max|          5150485|      Yes|               61|\n",
      "+-------+-----------------+---------+-----------------+\n",
      "\n"
     ]
    }
   ],
   "source": [
    "cpunt.describe().show()"
   ]
  },
  {
   "cell_type": "code",
   "execution_count": 30,
   "metadata": {
    "id": "uxr1yM_5C4WO"
   },
   "outputs": [],
   "source": [
    "# # # Джойним всё вместе,заменяем Yes и No на 1 и 0\n",
    "# cpunt = cpunt[['dep_value']]\n",
    "# new_data = pd.merge(new_data, cpunt, how='inner', on='ID')\n",
    "# new_data['target'] = new_data['dep_value']\n",
    "# new_data.loc[new_data['target'] == 'Yes','target'] = 1\n",
    "# new_data.loc[new_data['target'] == 'No','target'] = 0"
   ]
  },
  {
   "cell_type": "code",
   "execution_count": 31,
   "metadata": {},
   "outputs": [],
   "source": [
    "new_data=new_data.join(cpunt,on='ID')"
   ]
  },
  {
   "cell_type": "code",
   "execution_count": 32,
   "metadata": {},
   "outputs": [
    {
     "name": "stdout",
     "output_type": "stream",
     "text": [
      "-RECORD 0-----------------------------------\n",
      " ID                  | 5009033              \n",
      " CODE_GENDER         | F                    \n",
      " FLAG_OWN_CAR        | N                    \n",
      " FLAG_OWN_REALTY     | N                    \n",
      " CNT_CHILDREN        | 0                    \n",
      " AMT_INCOME_TOTAL    | 255150.0             \n",
      " NAME_INCOME_TYPE    | Pensioner            \n",
      " NAME_EDUCATION_TYPE | Incomplete higher    \n",
      " NAME_FAMILY_STATUS  | Civil marriage       \n",
      " NAME_HOUSING_TYPE   | Rented apartment     \n",
      " DAYS_BIRTH          | -18682               \n",
      " DAYS_EMPLOYED       | 365243               \n",
      " FLAG_MOBIL          | 1                    \n",
      " FLAG_WORK_PHONE     | 0                    \n",
      " FLAG_PHONE          | 0                    \n",
      " FLAG_EMAIL          | 0                    \n",
      " OCCUPATION_TYPE     | null                 \n",
      " CNT_FAM_MEMBERS     | 2.0                  \n",
      " begin_month         | 16                   \n",
      " dep_value           | No                   \n",
      " count               | 4                    \n",
      "-RECORD 1-----------------------------------\n",
      " ID                  | 5009304              \n",
      " CODE_GENDER         | F                    \n",
      " FLAG_OWN_CAR        | N                    \n",
      " FLAG_OWN_REALTY     | N                    \n",
      " CNT_CHILDREN        | 0                    \n",
      " AMT_INCOME_TOTAL    | 112500.0             \n",
      " NAME_INCOME_TYPE    | Pensioner            \n",
      " NAME_EDUCATION_TYPE | Secondary / secon... \n",
      " NAME_FAMILY_STATUS  | Widow                \n",
      " NAME_HOUSING_TYPE   | House / apartment    \n",
      " DAYS_BIRTH          | -22061               \n",
      " DAYS_EMPLOYED       | 365243               \n",
      " FLAG_MOBIL          | 1                    \n",
      " FLAG_WORK_PHONE     | 0                    \n",
      " FLAG_PHONE          | 0                    \n",
      " FLAG_EMAIL          | 0                    \n",
      " OCCUPATION_TYPE     | null                 \n",
      " CNT_FAM_MEMBERS     | 1.0                  \n",
      " begin_month         | 34                   \n",
      " dep_value           | No                   \n",
      " count               | 5                    \n",
      "-RECORD 2-----------------------------------\n",
      " ID                  | 5009355              \n",
      " CODE_GENDER         | F                    \n",
      " FLAG_OWN_CAR        | N                    \n",
      " FLAG_OWN_REALTY     | N                    \n",
      " CNT_CHILDREN        | 0                    \n",
      " AMT_INCOME_TOTAL    | 135000.0             \n",
      " NAME_INCOME_TYPE    | Commercial associate \n",
      " NAME_EDUCATION_TYPE | Secondary / secon... \n",
      " NAME_FAMILY_STATUS  | Married              \n",
      " NAME_HOUSING_TYPE   | House / apartment    \n",
      " DAYS_BIRTH          | -19692               \n",
      " DAYS_EMPLOYED       | -5273                \n",
      " FLAG_MOBIL          | 1                    \n",
      " FLAG_WORK_PHONE     | 1                    \n",
      " FLAG_PHONE          | 1                    \n",
      " FLAG_EMAIL          | 0                    \n",
      " OCCUPATION_TYPE     | Laborers             \n",
      " CNT_FAM_MEMBERS     | 2.0                  \n",
      " begin_month         | 25                   \n",
      " dep_value           | No                   \n",
      " count               | 25                   \n",
      "-RECORD 3-----------------------------------\n",
      " ID                  | 5009429              \n",
      " CODE_GENDER         | M                    \n",
      " FLAG_OWN_CAR        | N                    \n",
      " FLAG_OWN_REALTY     | N                    \n",
      " CNT_CHILDREN        | 0                    \n",
      " AMT_INCOME_TOTAL    | 198000.0             \n",
      " NAME_INCOME_TYPE    | Working              \n",
      " NAME_EDUCATION_TYPE | Secondary / secon... \n",
      " NAME_FAMILY_STATUS  | Single / not married \n",
      " NAME_HOUSING_TYPE   | With parents         \n",
      " DAYS_BIRTH          | -8657                \n",
      " DAYS_EMPLOYED       | -1164                \n",
      " FLAG_MOBIL          | 1                    \n",
      " FLAG_WORK_PHONE     | 1                    \n",
      " FLAG_PHONE          | 0                    \n",
      " FLAG_EMAIL          | 0                    \n",
      " OCCUPATION_TYPE     | Laborers             \n",
      " CNT_FAM_MEMBERS     | 1.0                  \n",
      " begin_month         | 2                    \n",
      " dep_value           | No                   \n",
      " count               | 3                    \n",
      "-RECORD 4-----------------------------------\n",
      " ID                  | 5010070              \n",
      " CODE_GENDER         | F                    \n",
      " FLAG_OWN_CAR        | N                    \n",
      " FLAG_OWN_REALTY     | Y                    \n",
      " CNT_CHILDREN        | 0                    \n",
      " AMT_INCOME_TOTAL    | 279000.0             \n",
      " NAME_INCOME_TYPE    | State servant        \n",
      " NAME_EDUCATION_TYPE | Higher education     \n",
      " NAME_FAMILY_STATUS  | Single / not married \n",
      " NAME_HOUSING_TYPE   | House / apartment    \n",
      " DAYS_BIRTH          | -11091               \n",
      " DAYS_EMPLOYED       | -617                 \n",
      " FLAG_MOBIL          | 1                    \n",
      " FLAG_WORK_PHONE     | 0                    \n",
      " FLAG_PHONE          | 0                    \n",
      " FLAG_EMAIL          | 1                    \n",
      " OCCUPATION_TYPE     | Managers             \n",
      " CNT_FAM_MEMBERS     | 1.0                  \n",
      " begin_month         | 10                   \n",
      " dep_value           | No                   \n",
      " count               | 5                    \n",
      "only showing top 5 rows\n",
      "\n"
     ]
    }
   ],
   "source": [
    "new_data.show(5,vertical=True)"
   ]
  },
  {
   "cell_type": "code",
   "execution_count": 33,
   "metadata": {},
   "outputs": [],
   "source": [
    "new_data=new_data.select('*',F\\\n",
    "             .when(new_data['dep_value']=='Yes',1)\\\n",
    "             .when(new_data['dep_value']=='No',0)\\\n",
    "             .otherwise('no_data')\\\n",
    "             .alias('target'))"
   ]
  },
  {
   "cell_type": "code",
   "execution_count": 34,
   "metadata": {
    "colab": {
     "base_uri": "https://localhost:8080/",
     "height": 275
    },
    "id": "8VuidKOpIGns",
    "outputId": "0190bb4a-b524-4102-f225-4a29135d23ea"
   },
   "outputs": [],
   "source": [
    "# #  В итоге к анкетным данным мы добавили таргет\n",
    "# new_data.head()"
   ]
  },
  {
   "cell_type": "code",
   "execution_count": 35,
   "metadata": {},
   "outputs": [
    {
     "name": "stdout",
     "output_type": "stream",
     "text": [
      "root\n",
      " |-- ID: integer (nullable = true)\n",
      " |-- CODE_GENDER: string (nullable = true)\n",
      " |-- FLAG_OWN_CAR: string (nullable = true)\n",
      " |-- FLAG_OWN_REALTY: string (nullable = true)\n",
      " |-- CNT_CHILDREN: integer (nullable = true)\n",
      " |-- AMT_INCOME_TOTAL: double (nullable = true)\n",
      " |-- NAME_INCOME_TYPE: string (nullable = true)\n",
      " |-- NAME_EDUCATION_TYPE: string (nullable = true)\n",
      " |-- NAME_FAMILY_STATUS: string (nullable = true)\n",
      " |-- NAME_HOUSING_TYPE: string (nullable = true)\n",
      " |-- DAYS_BIRTH: integer (nullable = true)\n",
      " |-- DAYS_EMPLOYED: integer (nullable = true)\n",
      " |-- FLAG_MOBIL: integer (nullable = true)\n",
      " |-- FLAG_WORK_PHONE: integer (nullable = true)\n",
      " |-- FLAG_PHONE: integer (nullable = true)\n",
      " |-- FLAG_EMAIL: integer (nullable = true)\n",
      " |-- OCCUPATION_TYPE: string (nullable = true)\n",
      " |-- CNT_FAM_MEMBERS: double (nullable = true)\n",
      " |-- begin_month: integer (nullable = true)\n",
      " |-- dep_value: string (nullable = false)\n",
      " |-- count: long (nullable = false)\n",
      " |-- target: string (nullable = false)\n",
      "\n"
     ]
    }
   ],
   "source": [
    "new_data.printSchema()"
   ]
  },
  {
   "cell_type": "markdown",
   "metadata": {},
   "source": [
    "сменим таргет на int"
   ]
  },
  {
   "cell_type": "code",
   "execution_count": 36,
   "metadata": {
    "scrolled": true
   },
   "outputs": [],
   "source": [
    "new_data=new_data.withColumn(\"target\", new_data['target'].cast('int'))"
   ]
  },
  {
   "cell_type": "code",
   "execution_count": 37,
   "metadata": {
    "id": "vnp4IifWJ5Lq"
   },
   "outputs": [],
   "source": [
    "# # Упростим себе задачу и оставим только часть признаков\n",
    "# features = ['AMT_INCOME_TOTAL', 'CODE_GENDER', 'FLAG_OWN_CAR', 'FLAG_OWN_REALTY', 'CNT_CHILDREN']\t\n",
    "# target = ['target',]\n",
    "# dataset = new_data[features + target]\n",
    "# dataset[target[0]] = pd.to_numeric(dataset[target[0]])"
   ]
  },
  {
   "cell_type": "markdown",
   "metadata": {},
   "source": [
    "### переведем категориальные фичи в численные"
   ]
  },
  {
   "cell_type": "code",
   "execution_count": 38,
   "metadata": {},
   "outputs": [],
   "source": [
    "features = ['AMT_INCOME_TOTAL', 'CODE_GENDER', 'FLAG_OWN_CAR', 'FLAG_OWN_REALTY', 'CNT_CHILDREN']"
   ]
  },
  {
   "cell_type": "code",
   "execution_count": 39,
   "metadata": {},
   "outputs": [],
   "source": [
    "from pyspark.ml.feature import StringIndexer"
   ]
  },
  {
   "cell_type": "code",
   "execution_count": 40,
   "metadata": {},
   "outputs": [],
   "source": [
    "indexer=StringIndexer(inputCols=['CODE_GENDER','FLAG_OWN_CAR', 'FLAG_OWN_REALTY'],outputCols=['CODE_GENDER_index','FLAG_OWN_CAR_index', 'FLAG_OWN_REALTY_index'])"
   ]
  },
  {
   "cell_type": "code",
   "execution_count": 41,
   "metadata": {},
   "outputs": [],
   "source": [
    "new_features=['CODE_GENDER_index','FLAG_OWN_CAR_index', 'FLAG_OWN_REALTY_index']"
   ]
  },
  {
   "cell_type": "code",
   "execution_count": 42,
   "metadata": {},
   "outputs": [],
   "source": [
    "dataset=indexer.fit(new_data).transform(new_data)"
   ]
  },
  {
   "cell_type": "markdown",
   "metadata": {},
   "source": [
    "### добавим Таргет"
   ]
  },
  {
   "cell_type": "code",
   "execution_count": 43,
   "metadata": {
    "scrolled": true
   },
   "outputs": [
    {
     "name": "stdout",
     "output_type": "stream",
     "text": [
      "+-------+-----------+------------+---------------+------------+----------------+--------------------+--------------------+--------------------+-----------------+----------+-------------+----------+---------------+----------+----------+---------------+---------------+-----------+---------+-----+------+-----------------+------------------+---------------------+\n",
      "|     ID|CODE_GENDER|FLAG_OWN_CAR|FLAG_OWN_REALTY|CNT_CHILDREN|AMT_INCOME_TOTAL|    NAME_INCOME_TYPE| NAME_EDUCATION_TYPE|  NAME_FAMILY_STATUS|NAME_HOUSING_TYPE|DAYS_BIRTH|DAYS_EMPLOYED|FLAG_MOBIL|FLAG_WORK_PHONE|FLAG_PHONE|FLAG_EMAIL|OCCUPATION_TYPE|CNT_FAM_MEMBERS|begin_month|dep_value|count|target|CODE_GENDER_index|FLAG_OWN_CAR_index|FLAG_OWN_REALTY_index|\n",
      "+-------+-----------+------------+---------------+------------+----------------+--------------------+--------------------+--------------------+-----------------+----------+-------------+----------+---------------+----------+----------+---------------+---------------+-----------+---------+-----+------+-----------------+------------------+---------------------+\n",
      "|5008804|          M|           Y|              Y|           0|        427500.0|             Working|    Higher education|      Civil marriage| Rented apartment|    -12005|        -4542|         1|              1|         0|         0|           null|            2.0|         15|       No|    1|     0|              1.0|               1.0|                  0.0|\n",
      "|5008805|          M|           Y|              Y|           0|        427500.0|             Working|    Higher education|      Civil marriage| Rented apartment|    -12005|        -4542|         1|              1|         0|         0|           null|            2.0|         14|       No|    1|     0|              1.0|               1.0|                  0.0|\n",
      "|5008806|          M|           Y|              Y|           0|        112500.0|             Working|Secondary / secon...|             Married|House / apartment|    -21474|        -1134|         1|              0|         0|         0| Security staff|            2.0|         29|       No|    7|     0|              1.0|               1.0|                  0.0|\n",
      "|5008808|          F|           N|              Y|           0|        270000.0|Commercial associate|Secondary / secon...|Single / not married|House / apartment|    -19110|        -3051|         1|              0|         1|         1|    Sales staff|            1.0|          4|       No|    2|     0|              0.0|               0.0|                  0.0|\n",
      "|5008810|          F|           N|              Y|           0|        270000.0|Commercial associate|Secondary / secon...|Single / not married|House / apartment|    -19110|        -3051|         1|              0|         1|         1|    Sales staff|            1.0|         26|       No|    6|     0|              0.0|               0.0|                  0.0|\n",
      "|5008811|          F|           N|              Y|           0|        270000.0|Commercial associate|Secondary / secon...|Single / not married|House / apartment|    -19110|        -3051|         1|              0|         1|         1|    Sales staff|            1.0|         38|       No|    6|     0|              0.0|               0.0|                  0.0|\n",
      "|5008812|          F|           N|              Y|           0|        283500.0|           Pensioner|    Higher education|           Separated|House / apartment|    -22464|       365243|         1|              0|         0|         0|           null|            1.0|         20|       No|   14|     0|              0.0|               0.0|                  0.0|\n",
      "|5008813|          F|           N|              Y|           0|        283500.0|           Pensioner|    Higher education|           Separated|House / apartment|    -22464|       365243|         1|              0|         0|         0|           null|            1.0|         16|       No|   14|     0|              0.0|               0.0|                  0.0|\n",
      "|5008814|          F|           N|              Y|           0|        283500.0|           Pensioner|    Higher education|           Separated|House / apartment|    -22464|       365243|         1|              0|         0|         0|           null|            1.0|         17|       No|   14|     0|              0.0|               0.0|                  0.0|\n",
      "|5008815|          M|           Y|              Y|           0|        270000.0|             Working|    Higher education|             Married|House / apartment|    -16872|         -769|         1|              1|         1|         1|    Accountants|            2.0|          5|       No|    6|     0|              1.0|               1.0|                  0.0|\n",
      "|5112956|          M|           Y|              Y|           0|        270000.0|             Working|    Higher education|             Married|House / apartment|    -16872|         -769|         1|              1|         1|         1|    Accountants|            2.0|         42|       No|   35|     0|              1.0|               1.0|                  0.0|\n",
      "|5008820|          M|           Y|              Y|           0|        135000.0|Commercial associate|Secondary / secon...|             Married|House / apartment|    -17778|        -1194|         1|              0|         0|         0|       Laborers|            2.0|         16|       No|    1|     0|              1.0|               1.0|                  0.0|\n",
      "|5008821|          M|           Y|              Y|           0|        135000.0|Commercial associate|Secondary / secon...|             Married|House / apartment|    -17778|        -1194|         1|              0|         0|         0|       Laborers|            2.0|          8|       No|    6|     0|              1.0|               1.0|                  0.0|\n",
      "|5008822|          M|           Y|              Y|           0|        135000.0|Commercial associate|Secondary / secon...|             Married|House / apartment|    -17778|        -1194|         1|              0|         0|         0|       Laborers|            2.0|         22|       No|    1|     0|              1.0|               1.0|                  0.0|\n",
      "|5008823|          M|           Y|              Y|           0|        135000.0|Commercial associate|Secondary / secon...|             Married|House / apartment|    -17778|        -1194|         1|              0|         0|         0|       Laborers|            2.0|          7|       No|    4|     0|              1.0|               1.0|                  0.0|\n",
      "|5008824|          M|           Y|              Y|           0|        135000.0|Commercial associate|Secondary / secon...|             Married|House / apartment|    -17778|        -1194|         1|              0|         0|         0|       Laborers|            2.0|          3|       No|    4|     0|              1.0|               1.0|                  0.0|\n",
      "|5008825|          F|           Y|              N|           0|        130500.0|             Working|   Incomplete higher|             Married|House / apartment|    -10669|        -1103|         1|              0|         0|         0|    Accountants|            2.0|         25|       No|   25|     0|              0.0|               1.0|                  1.0|\n",
      "|5008826|          F|           Y|              N|           0|        130500.0|             Working|   Incomplete higher|             Married|House / apartment|    -10669|        -1103|         1|              0|         0|         0|    Accountants|            2.0|         30|       No|    5|     0|              0.0|               1.0|                  1.0|\n",
      "|5008830|          F|           N|              Y|           0|        157500.0|             Working|Secondary / secon...|             Married|House / apartment|    -10031|        -1469|         1|              0|         1|         0|       Laborers|            2.0|         31|       No|   13|     0|              0.0|               0.0|                  0.0|\n",
      "|5008831|          F|           N|              Y|           0|        157500.0|             Working|Secondary / secon...|             Married|House / apartment|    -10031|        -1469|         1|              0|         1|         0|       Laborers|            2.0|         19|       No|   13|     0|              0.0|               0.0|                  0.0|\n",
      "+-------+-----------+------------+---------------+------------+----------------+--------------------+--------------------+--------------------+-----------------+----------+-------------+----------+---------------+----------+----------+---------------+---------------+-----------+---------+-----+------+-----------------+------------------+---------------------+\n",
      "only showing top 20 rows\n",
      "\n"
     ]
    }
   ],
   "source": [
    "dataset.show(1)"
   ]
  },
  {
   "cell_type": "code",
   "execution_count": 44,
   "metadata": {},
   "outputs": [],
   "source": [
    "dataset=dataset.select(new_features+['target','AMT_INCOME_TOTAL','CNT_CHILDREN'])"
   ]
  },
  {
   "cell_type": "markdown",
   "metadata": {},
   "source": [
    "### посмотрим что вышло"
   ]
  },
  {
   "cell_type": "code",
   "execution_count": 69,
   "metadata": {},
   "outputs": [
    {
     "data": {
      "text/plain": [
       "616"
      ]
     },
     "execution_count": 69,
     "metadata": {},
     "output_type": "execute_result"
    }
   ],
   "source": [
    "dataset.filter(dataset['target']>0).count()"
   ]
  },
  {
   "cell_type": "code",
   "execution_count": 46,
   "metadata": {},
   "outputs": [
    {
     "data": {
      "text/plain": [
       "['CODE_GENDER_index',\n",
       " 'FLAG_OWN_CAR_index',\n",
       " 'FLAG_OWN_REALTY_index',\n",
       " 'target',\n",
       " 'AMT_INCOME_TOTAL',\n",
       " 'CNT_CHILDREN']"
      ]
     },
     "execution_count": 46,
     "metadata": {},
     "output_type": "execute_result"
    }
   ],
   "source": [
    "dataset.columns"
   ]
  },
  {
   "cell_type": "code",
   "execution_count": 47,
   "metadata": {},
   "outputs": [],
   "source": [
    "# from pyspark.ml import Pipeline\n",
    "from pyspark.ml.feature import VectorAssembler"
   ]
  },
  {
   "cell_type": "code",
   "execution_count": 48,
   "metadata": {},
   "outputs": [],
   "source": [
    "faetureassembler=VectorAssembler(inputCols=new_features+['AMT_INCOME_TOTAL','CNT_CHILDREN'],outputCol='ind_features')"
   ]
  },
  {
   "cell_type": "code",
   "execution_count": 49,
   "metadata": {},
   "outputs": [],
   "source": [
    "output=faetureassembler.transform(dataset)"
   ]
  },
  {
   "cell_type": "markdown",
   "metadata": {},
   "source": [
    "посмотрим список фичей"
   ]
  },
  {
   "cell_type": "code",
   "execution_count": 50,
   "metadata": {
    "collapsed": true
   },
   "outputs": [
    {
     "name": "stdout",
     "output_type": "stream",
     "text": [
      "+--------------------------+\n",
      "|ind_features              |\n",
      "+--------------------------+\n",
      "|[1.0,1.0,0.0,427500.0,0.0]|\n",
      "|[1.0,1.0,0.0,427500.0,0.0]|\n",
      "|[1.0,1.0,0.0,112500.0,0.0]|\n",
      "|(5,[3],[270000.0])        |\n",
      "|(5,[3],[270000.0])        |\n",
      "|(5,[3],[270000.0])        |\n",
      "|(5,[3],[283500.0])        |\n",
      "|(5,[3],[283500.0])        |\n",
      "|(5,[3],[283500.0])        |\n",
      "|[1.0,1.0,0.0,270000.0,0.0]|\n",
      "|[1.0,1.0,0.0,270000.0,0.0]|\n",
      "|[1.0,1.0,0.0,135000.0,0.0]|\n",
      "|[1.0,1.0,0.0,135000.0,0.0]|\n",
      "|[1.0,1.0,0.0,135000.0,0.0]|\n",
      "|[1.0,1.0,0.0,135000.0,0.0]|\n",
      "|[1.0,1.0,0.0,135000.0,0.0]|\n",
      "|[0.0,1.0,1.0,130500.0,0.0]|\n",
      "|[0.0,1.0,1.0,130500.0,0.0]|\n",
      "|(5,[3],[157500.0])        |\n",
      "|(5,[3],[157500.0])        |\n",
      "+--------------------------+\n",
      "only showing top 20 rows\n",
      "\n"
     ]
    }
   ],
   "source": [
    "output.select('ind_features').show(truncate=False)"
   ]
  },
  {
   "cell_type": "code",
   "execution_count": 51,
   "metadata": {},
   "outputs": [],
   "source": [
    "from pyspark.ml.feature import MinMaxScaler, StandardScaler\n",
    "from pyspark.ml import Pipeline"
   ]
  },
  {
   "cell_type": "code",
   "execution_count": 52,
   "metadata": {},
   "outputs": [],
   "source": [
    "# MinMaxScaler(inputCol=\"ind_features\", outputCol=\"scaled\")"
   ]
  },
  {
   "cell_type": "code",
   "execution_count": 56,
   "metadata": {},
   "outputs": [],
   "source": [
    "scaler = MinMaxScaler(inputCol=\"ind_features\", outputCol=\"scaled\")"
   ]
  },
  {
   "cell_type": "code",
   "execution_count": 74,
   "metadata": {},
   "outputs": [],
   "source": [
    "pipeline = Pipeline(stages=[scaler])"
   ]
  },
  {
   "cell_type": "code",
   "execution_count": 75,
   "metadata": {},
   "outputs": [],
   "source": [
    "scalerModel = pipeline.fit(output)"
   ]
  },
  {
   "cell_type": "code",
   "execution_count": 76,
   "metadata": {},
   "outputs": [],
   "source": [
    "scaledData = scalerModel.transform(output)"
   ]
  },
  {
   "cell_type": "code",
   "execution_count": 77,
   "metadata": {},
   "outputs": [],
   "source": [
    "finalized_data=scaledData.select('ind_features','target')"
   ]
  },
  {
   "cell_type": "code",
   "execution_count": 104,
   "metadata": {
    "scrolled": true
   },
   "outputs": [
    {
     "name": "stdout",
     "output_type": "stream",
     "text": [
      "+--------------------------+------+\n",
      "|ind_features              |target|\n",
      "+--------------------------+------+\n",
      "|[1.0,1.0,0.0,427500.0,0.0]|0     |\n",
      "|[1.0,1.0,0.0,427500.0,0.0]|0     |\n",
      "|[1.0,1.0,0.0,112500.0,0.0]|0     |\n",
      "|(5,[3],[270000.0])        |0     |\n",
      "|(5,[3],[270000.0])        |0     |\n",
      "|(5,[3],[270000.0])        |0     |\n",
      "|(5,[3],[283500.0])        |0     |\n",
      "|(5,[3],[283500.0])        |0     |\n",
      "|(5,[3],[283500.0])        |0     |\n",
      "|[1.0,1.0,0.0,270000.0,0.0]|0     |\n",
      "|[1.0,1.0,0.0,270000.0,0.0]|0     |\n",
      "|[1.0,1.0,0.0,135000.0,0.0]|0     |\n",
      "|[1.0,1.0,0.0,135000.0,0.0]|0     |\n",
      "|[1.0,1.0,0.0,135000.0,0.0]|0     |\n",
      "|[1.0,1.0,0.0,135000.0,0.0]|0     |\n",
      "|[1.0,1.0,0.0,135000.0,0.0]|0     |\n",
      "|[0.0,1.0,1.0,130500.0,0.0]|0     |\n",
      "|[0.0,1.0,1.0,130500.0,0.0]|0     |\n",
      "|(5,[3],[157500.0])        |0     |\n",
      "|(5,[3],[157500.0])        |0     |\n",
      "+--------------------------+------+\n",
      "only showing top 20 rows\n",
      "\n"
     ]
    }
   ],
   "source": [
    "finalized_data.show(truncate=False)"
   ]
  },
  {
   "cell_type": "markdown",
   "metadata": {
    "id": "nbdj50CcDk3o"
   },
   "source": [
    "У нас есть выборка, где указаны параметры клиента, и вышел ли он на просрочку или нет."
   ]
  },
  {
   "cell_type": "code",
   "execution_count": null,
   "metadata": {
    "id": "g5OIVqemDICB"
   },
   "outputs": [],
   "source": [
    "# # Разделим выборку на трейн и тест, на трейн будем обучать модель, на тест валидировать.\n",
    "# X_train, X_test, y_train, y_test = train_test_split(dataset[features], pd.to_numeric(dataset[target[0]]), test_size=0.3, random_state=42)"
   ]
  },
  {
   "cell_type": "code",
   "execution_count": 93,
   "metadata": {},
   "outputs": [],
   "source": [
    "train_data,test_data=finalized_data.randomSplit([0.75,0.25])"
   ]
  },
  {
   "cell_type": "code",
   "execution_count": 94,
   "metadata": {
    "colab": {
     "base_uri": "https://localhost:8080/"
    },
    "id": "67opqS-YDNhv",
    "outputId": "cff7e395-584a-4d47-eda3-b2d407e1e1de"
   },
   "outputs": [],
   "source": [
    "# # Создадим простейшую модель, которая покажет через линейные коэффиценты связь переменных и таргета\n",
    "# model = LogisticRegression()\n",
    "# model.fit(X_train, y_train)"
   ]
  },
  {
   "cell_type": "code",
   "execution_count": 95,
   "metadata": {
    "id": "sZcQy_4lS0_x"
   },
   "outputs": [],
   "source": [
    "# # Отскалируем численные\n",
    "# mms = MinMaxScaler()\n",
    "# mms.fit(X_train[['AMT_INCOME_TOTAL', 'CNT_CHILDREN']])\n",
    "# X_train_scaled = mms.transform(X_train[['AMT_INCOME_TOTAL', 'CNT_CHILDREN']])\n",
    "# X_test_scaled = mms.transform(X_test[['AMT_INCOME_TOTAL', 'CNT_CHILDREN']])\n",
    "\n",
    "# X_train_scaled = pd.DataFrame(X_train_scaled, columns=['AMT_INCOME_TOTAL', 'CNT_CHILDREN'])\n",
    "# X_test_scaled = pd.DataFrame(X_test_scaled, columns=['AMT_INCOME_TOTAL', 'CNT_CHILDREN'])"
   ]
  },
  {
   "cell_type": "markdown",
   "metadata": {
    "id": "k6iYtYBSQrZw"
   },
   "source": [
    "#  Модель"
   ]
  },
  {
   "cell_type": "code",
   "execution_count": 96,
   "metadata": {},
   "outputs": [],
   "source": [
    "from pyspark.ml.classification import LogisticRegression"
   ]
  },
  {
   "cell_type": "code",
   "execution_count": 97,
   "metadata": {},
   "outputs": [],
   "source": [
    "log_reg=LogisticRegression(featuresCol='ind_features', labelCol='target')"
   ]
  },
  {
   "cell_type": "code",
   "execution_count": 98,
   "metadata": {},
   "outputs": [],
   "source": [
    "log_reg=log_reg.fit(train_data)"
   ]
  },
  {
   "cell_type": "code",
   "execution_count": 99,
   "metadata": {},
   "outputs": [
    {
     "data": {
      "text/plain": [
       "DenseVector([0.2766, -0.195, 0.3493, 0.0, -0.0635])"
      ]
     },
     "execution_count": 99,
     "metadata": {},
     "output_type": "execute_result"
    }
   ],
   "source": [
    "log_reg.coefficients"
   ]
  },
  {
   "cell_type": "code",
   "execution_count": 100,
   "metadata": {},
   "outputs": [],
   "source": [
    "pred_test=log_reg.evaluate(test_data)"
   ]
  },
  {
   "cell_type": "code",
   "execution_count": 101,
   "metadata": {},
   "outputs": [],
   "source": [
    "pred_train=log_reg.evaluate(train_data)"
   ]
  },
  {
   "cell_type": "markdown",
   "metadata": {},
   "source": [
    "### смотрим предсказание модели"
   ]
  },
  {
   "cell_type": "code",
   "execution_count": 123,
   "metadata": {},
   "outputs": [
    {
     "name": "stdout",
     "output_type": "stream",
     "text": [
      "+--------------------+------+--------------------+--------------------+----------+\n",
      "|        ind_features|target|       rawPrediction|         probability|prediction|\n",
      "+--------------------+------+--------------------+--------------------+----------+\n",
      "|(5,[0,3],[1.0,301...|     0|[3.79057359818567...|[0.97791606880206...|       0.0|\n",
      "|(5,[0,3],[1.0,301...|     0|[3.79057359818567...|[0.97791606880206...|       0.0|\n",
      "|(5,[0,3],[1.0,315...|     0|[3.79047044551245...|[0.97791384098326...|       0.0|\n",
      "|(5,[0,3],[1.0,315...|     0|[3.79047044551245...|[0.97791384098326...|       0.0|\n",
      "|(5,[0,3],[1.0,369...|     0|[3.79005783481955...|[0.97790492751119...|       0.0|\n",
      "|(5,[0,3],[1.0,369...|     0|[3.79005783481955...|[0.97790492751119...|       0.0|\n",
      "|(5,[0,3],[1.0,423...|     0|[3.78964522412665...|[0.97789601052315...|       0.0|\n",
      "|(5,[0,3],[1.0,469...|     0|[3.78929003508852...|[0.97788833166555...|       0.0|\n",
      "|(5,[0,3],[1.0,469...|     0|[3.78929003508852...|[0.97788833166555...|       0.0|\n",
      "|(5,[0,3],[1.0,469...|     0|[3.78929003508852...|[0.97788833166555...|       0.0|\n",
      "|(5,[0,3],[1.0,469...|     0|[3.78929003508852...|[0.97788833166555...|       0.0|\n",
      "|(5,[0,3],[1.0,495...|     0|[3.78909507653612...|[0.97788411573420...|       0.0|\n",
      "|(5,[0,3],[1.0,495...|     0|[3.78909507653612...|[0.97788411573420...|       0.0|\n",
      "|(5,[0,3],[1.0,495...|     0|[3.78909507653612...|[0.97788411573420...|       0.0|\n",
      "|(5,[0,3],[1.0,495...|     0|[3.78909507653612...|[0.97788411573420...|       0.0|\n",
      "|(5,[0,3],[1.0,540...|     0|[3.78875123429204...|[0.97787667831439...|       0.0|\n",
      "|(5,[0,3],[1.0,540...|     0|[3.78875123429204...|[0.97787667831439...|       0.0|\n",
      "|(5,[0,3],[1.0,540...|     0|[3.78875123429204...|[0.97787667831439...|       0.0|\n",
      "|(5,[0,3],[1.0,540...|     0|[3.78875123429204...|[0.97787667831439...|       0.0|\n",
      "|(5,[0,3],[1.0,652...|     0|[3.78789162868184...|[0.97785807406828...|       0.0|\n",
      "+--------------------+------+--------------------+--------------------+----------+\n",
      "only showing top 20 rows\n",
      "\n"
     ]
    }
   ],
   "source": [
    "pred_train.predictions.show()"
   ]
  },
  {
   "cell_type": "code",
   "execution_count": 103,
   "metadata": {},
   "outputs": [
    {
     "name": "stdout",
     "output_type": "stream",
     "text": [
      "Точность модели на трейне 0.9806872232245366, на тесте 0.9822976437553412\n"
     ]
    }
   ],
   "source": [
    "print(f'Точность модели на трейне {pred_train.accuracy}, на тесте {pred_test.accuracy}')"
   ]
  },
  {
   "cell_type": "code",
   "execution_count": null,
   "metadata": {
    "id": "FMNW38tmOrf0"
   },
   "outputs": [],
   "source": [
    "# # Превращаем категориальные факторы в численные\n",
    "# ohe = OneHotEncoder()\n",
    "# ohe.fit(X_train[['CODE_GENDER', 'FLAG_OWN_CAR', 'FLAG_OWN_REALTY']])\n",
    "# X_train_ohe = ohe.transform(X_train[['CODE_GENDER', 'FLAG_OWN_CAR', 'FLAG_OWN_REALTY']])\n",
    "# X_test_ohe = ohe.transform(X_test[['CODE_GENDER', 'FLAG_OWN_CAR', 'FLAG_OWN_REALTY']])\n",
    "\n",
    "# X_train_ohe = pd.DataFrame(X_train_ohe.toarray(), columns=[item for sublist in ohe.categories_ for item in sublist])\n",
    "# X_test_ohe = pd.DataFrame(X_test_ohe.toarray(), columns=[item for sublist in ohe.categories_ for item in sublist])"
   ]
  },
  {
   "cell_type": "code",
   "execution_count": null,
   "metadata": {
    "id": "hTr2-HRLPvZ5"
   },
   "outputs": [],
   "source": [
    "# X_train = pd.concat([X_train_scaled, X_train_ohe,], axis=1)\n",
    "# X_test = pd.concat([X_test_scaled, X_test_ohe, ], axis=1)"
   ]
  },
  {
   "cell_type": "code",
   "execution_count": null,
   "metadata": {
    "colab": {
     "base_uri": "https://localhost:8080/"
    },
    "id": "0teTAGTFDXtx",
    "outputId": "dbdc4052-9517-44af-9964-146400705e32"
   },
   "outputs": [],
   "source": [
    "# train_score, test_score = accuracy_score(model.predict(X_train), y_train), accuracy_score(model.predict(X_test), y_test)\n",
    "# print(f'Точность модели на трейне {train_score}, на тесте {test_score}')"
   ]
  }
 ],
 "metadata": {
  "colab": {
   "collapsed_sections": [],
   "include_colab_link": true,
   "name": "HW",
   "provenance": []
  },
  "kernelspec": {
   "display_name": "Python 3",
   "language": "python",
   "name": "python3"
  },
  "language_info": {
   "codemirror_mode": {
    "name": "ipython",
    "version": 3
   },
   "file_extension": ".py",
   "mimetype": "text/x-python",
   "name": "python",
   "nbconvert_exporter": "python",
   "pygments_lexer": "ipython3",
   "version": "3.8.5"
  }
 },
 "nbformat": 4,
 "nbformat_minor": 1
}
