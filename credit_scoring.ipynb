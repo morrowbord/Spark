{
  "nbformat": 4,
  "nbformat_minor": 0,
  "metadata": {
    "colab": {
      "name": "HW",
      "provenance": [],
      "collapsed_sections": [],
      "include_colab_link": true
    },
    "kernelspec": {
      "name": "python3",
      "display_name": "Python 3"
    },
    "language_info": {
      "name": "python"
    }
  },
  "cells": [
    {
      "cell_type": "markdown",
      "metadata": {
        "id": "view-in-github",
        "colab_type": "text"
      },
      "source": [
        "<a href=\"https://colab.research.google.com/github/morrowbord/Spark/blob/main/credit_scoring.ipynb\" target=\"_parent\"><img src=\"https://colab.research.google.com/assets/colab-badge.svg\" alt=\"Open In Colab\"/></a>"
      ]
    },
    {
      "cell_type": "markdown",
      "metadata": {
        "id": "yS6iWrHV9Gcm"
      },
      "source": [
        "# Кредитный скоринг\n",
        "При принятии решения о выдаче кредита или займа учитывается т.н. «Кредитный скоринг» — рейтинг платежеспособности клиента. ИИ на основе модели, которую просчитывает машинное обучение — в ней много параметров — возраст, зарплата, кредитная история, наличие недвижимости, автомобиля, судимости и других признаков, после обработки которых выносится положительное или отрицательное решение"
      ]
    },
    {
      "cell_type": "code",
      "metadata": {
        "id": "qU2mMtRS9Fqf"
      },
      "source": [
        "# Импортируем библиотеки\n",
        "%matplotlib inline\n",
        "%config InlineBackend.figure_format = 'svg'\n",
        "\n",
        "import warnings\n",
        "warnings.filterwarnings('ignore')\n",
        "import numpy as np\n",
        "import pandas as pd   \n",
        "import matplotlib.pyplot as plt\n",
        "import seaborn as sns\n",
        "import itertools\n",
        "\n",
        "from sklearn.model_selection import train_test_split\n",
        "from sklearn.metrics import accuracy_score\n",
        "from sklearn.linear_model import LogisticRegression\n",
        "from sklearn.preprocessing import OneHotEncoder, MinMaxScaler"
      ],
      "execution_count": null,
      "outputs": []
    },
    {
      "cell_type": "markdown",
      "metadata": {
        "id": "LMtO2wAZFzf1"
      },
      "source": [
        "# Данные:\n",
        "[скачать](https://drive.google.com/file/d/1MuAyZiIm3b_r-AgQSj78tsRPqZpvv_2s/view?usp=sharing)\n",
        "\n",
        "**application_record.csv**\n",
        "*   Feature name\tExplanation\tRemarks\n",
        "*   ID\tClient number\t\n",
        "*   CODE_GENDER\tGender\t\n",
        "*   FLAG_OWN_CAR\tIs there a car\t\n",
        "*   FLAG_OWN_REALTY\tIs there a property\t\n",
        "*   CNT_CHILDREN\tNumber of children\t\n",
        "*   AMT_INCOME_TOTAL\tAnnual income\t\n",
        "*   NAME_INCOME_TYPE\tIncome category\t\n",
        "*   NAME_EDUCATION_TYPE\tEducation level\t\n",
        "*   NAME_FAMILY_STATUS\tMarital status\t\n",
        "*   NAME_HOUSING_TYPE\tWay of living\t\n",
        "*   DAYS_BIRTH\tBirthday\tCount backwards from current day (0), -1 means yesterday\n",
        "*   DAYS_EMPLOYED\tStart date of employment\tCount backwards from current day(0). If positive, it means the person currently unemployed.\n",
        "FLAG_MOBIL\tIs there a mobile phone\t\n",
        "*   FLAG_WORK_PHONE\tIs there a work phone\t\n",
        "*   FLAG_PHONE\tIs there a phone\t\n",
        "*   FLAG_EMAIL\tIs there an email\t\n",
        "*   OCCUPATION_TYPE\tOccupation\t\n",
        "*   CNT_FAM_MEMBERS\tFamily size\t\n",
        "\n",
        "**credit_record.csv**\n",
        "*   Feature name\tExplanation\tRemarks\n",
        "*   ID\tClient number\t\n",
        "*   MONTHS_BALANCE\tRecord month\tThe month of the extracted data is the starting point, backwards, 0 is the current month, -1 is the previous month, and so on\n",
        "*   STATUS\tStatus\t\n",
        "   *   0: 1-29 days past due\n",
        "   *   1: 30-59 days past due \n",
        "   *   2: 60-89 days overdue \n",
        "   *   3: 90-119 days overdue \n",
        "   *   4: 120-149 days overdue \n",
        "    *   5: Overdue or bad debts, write-offs for more than 150 days\n",
        "    *   C: paid off that month X: No loan for the month\n"
      ]
    },
    {
      "cell_type": "markdown",
      "metadata": {
        "id": "11v9SXDGDgEv"
      },
      "source": [
        "## Считываем данные"
      ]
    },
    {
      "cell_type": "code",
      "metadata": {
        "id": "uxr1yM_5C4WO"
      },
      "source": [
        "# Ниже, мы для тех, у кого хоть раз были просрчоки больше 60 дней, ставим в таргет 1.\n",
        "data = pd.read_csv(\"application_record.csv\", encoding = 'utf-8') \n",
        "record = pd.read_csv(\"credit_record.csv\", encoding = 'utf-8') \n",
        "\n",
        "# # Добавляем срок кредита к параметрам выдачи кредита\n",
        "begin_month = pd.DataFrame(record.groupby([\"ID\"])[\"MONTHS_BALANCE\"].agg(min) * - 1)\n",
        "begin_month = begin_month.rename(columns={'MONTHS_BALANCE':'begin_month'}) \n",
        "new_data = pd.merge(data, begin_month,how=\"left\",on=\"ID\") \n",
        "\n",
        "# # Больше 60, то это просрочка, ставим - Yes, если просрочка есть за срок кредита,то так же ставим Yes\n",
        "record['dep_value'] = None\n",
        "record['dep_value'][record['STATUS'] == '2'] = 'Yes'\n",
        "record['dep_value'][record['STATUS'] == '3'] = 'Yes'\n",
        "record['dep_value'][record['STATUS'] == '4'] = 'Yes'\n",
        "record['dep_value'][record['STATUS'] == '5'] = 'Yes'\n",
        "cpunt = record.groupby('ID').count()\n",
        "cpunt['dep_value'][cpunt['dep_value'] > 0] = 'Yes' \n",
        "cpunt['dep_value'][cpunt['dep_value'] == 0] = 'No'\n",
        "\n",
        "# # Джойним всё вместе,заменяем Yes и No на 1 и 0\n",
        "cpunt = cpunt[['dep_value']]\n",
        "new_data = pd.merge(new_data, cpunt, how='inner', on='ID')\n",
        "new_data['target'] = new_data['dep_value']\n",
        "new_data.loc[new_data['target'] == 'Yes','target'] = 1\n",
        "new_data.loc[new_data['target'] == 'No','target'] = 0"
      ],
      "execution_count": null,
      "outputs": []
    },
    {
      "cell_type": "code",
      "metadata": {
        "colab": {
          "base_uri": "https://localhost:8080/",
          "height": 275
        },
        "id": "8VuidKOpIGns",
        "outputId": "0190bb4a-b524-4102-f225-4a29135d23ea"
      },
      "source": [
        "#  В итоге к анкетным данным мы добавили таргет\n",
        "new_data.head()"
      ],
      "execution_count": null,
      "outputs": [
        {
          "output_type": "execute_result",
          "data": {
            "text/html": [
              "<div>\n",
              "<style scoped>\n",
              "    .dataframe tbody tr th:only-of-type {\n",
              "        vertical-align: middle;\n",
              "    }\n",
              "\n",
              "    .dataframe tbody tr th {\n",
              "        vertical-align: top;\n",
              "    }\n",
              "\n",
              "    .dataframe thead th {\n",
              "        text-align: right;\n",
              "    }\n",
              "</style>\n",
              "<table border=\"1\" class=\"dataframe\">\n",
              "  <thead>\n",
              "    <tr style=\"text-align: right;\">\n",
              "      <th></th>\n",
              "      <th>ID</th>\n",
              "      <th>CODE_GENDER</th>\n",
              "      <th>FLAG_OWN_CAR</th>\n",
              "      <th>FLAG_OWN_REALTY</th>\n",
              "      <th>CNT_CHILDREN</th>\n",
              "      <th>AMT_INCOME_TOTAL</th>\n",
              "      <th>NAME_INCOME_TYPE</th>\n",
              "      <th>NAME_EDUCATION_TYPE</th>\n",
              "      <th>NAME_FAMILY_STATUS</th>\n",
              "      <th>NAME_HOUSING_TYPE</th>\n",
              "      <th>DAYS_BIRTH</th>\n",
              "      <th>DAYS_EMPLOYED</th>\n",
              "      <th>FLAG_MOBIL</th>\n",
              "      <th>FLAG_WORK_PHONE</th>\n",
              "      <th>FLAG_PHONE</th>\n",
              "      <th>FLAG_EMAIL</th>\n",
              "      <th>OCCUPATION_TYPE</th>\n",
              "      <th>CNT_FAM_MEMBERS</th>\n",
              "      <th>begin_month</th>\n",
              "      <th>dep_value</th>\n",
              "      <th>target</th>\n",
              "    </tr>\n",
              "  </thead>\n",
              "  <tbody>\n",
              "    <tr>\n",
              "      <th>0</th>\n",
              "      <td>5008804</td>\n",
              "      <td>M</td>\n",
              "      <td>Y</td>\n",
              "      <td>Y</td>\n",
              "      <td>0</td>\n",
              "      <td>427500.0</td>\n",
              "      <td>Working</td>\n",
              "      <td>Higher education</td>\n",
              "      <td>Civil marriage</td>\n",
              "      <td>Rented apartment</td>\n",
              "      <td>-12005</td>\n",
              "      <td>-4542</td>\n",
              "      <td>1</td>\n",
              "      <td>1</td>\n",
              "      <td>0</td>\n",
              "      <td>0</td>\n",
              "      <td>NaN</td>\n",
              "      <td>2.0</td>\n",
              "      <td>15.0</td>\n",
              "      <td>No</td>\n",
              "      <td>0</td>\n",
              "    </tr>\n",
              "    <tr>\n",
              "      <th>1</th>\n",
              "      <td>5008805</td>\n",
              "      <td>M</td>\n",
              "      <td>Y</td>\n",
              "      <td>Y</td>\n",
              "      <td>0</td>\n",
              "      <td>427500.0</td>\n",
              "      <td>Working</td>\n",
              "      <td>Higher education</td>\n",
              "      <td>Civil marriage</td>\n",
              "      <td>Rented apartment</td>\n",
              "      <td>-12005</td>\n",
              "      <td>-4542</td>\n",
              "      <td>1</td>\n",
              "      <td>1</td>\n",
              "      <td>0</td>\n",
              "      <td>0</td>\n",
              "      <td>NaN</td>\n",
              "      <td>2.0</td>\n",
              "      <td>14.0</td>\n",
              "      <td>No</td>\n",
              "      <td>0</td>\n",
              "    </tr>\n",
              "    <tr>\n",
              "      <th>2</th>\n",
              "      <td>5008806</td>\n",
              "      <td>M</td>\n",
              "      <td>Y</td>\n",
              "      <td>Y</td>\n",
              "      <td>0</td>\n",
              "      <td>112500.0</td>\n",
              "      <td>Working</td>\n",
              "      <td>Secondary / secondary special</td>\n",
              "      <td>Married</td>\n",
              "      <td>House / apartment</td>\n",
              "      <td>-21474</td>\n",
              "      <td>-1134</td>\n",
              "      <td>1</td>\n",
              "      <td>0</td>\n",
              "      <td>0</td>\n",
              "      <td>0</td>\n",
              "      <td>Security staff</td>\n",
              "      <td>2.0</td>\n",
              "      <td>29.0</td>\n",
              "      <td>No</td>\n",
              "      <td>0</td>\n",
              "    </tr>\n",
              "    <tr>\n",
              "      <th>3</th>\n",
              "      <td>5008808</td>\n",
              "      <td>F</td>\n",
              "      <td>N</td>\n",
              "      <td>Y</td>\n",
              "      <td>0</td>\n",
              "      <td>270000.0</td>\n",
              "      <td>Commercial associate</td>\n",
              "      <td>Secondary / secondary special</td>\n",
              "      <td>Single / not married</td>\n",
              "      <td>House / apartment</td>\n",
              "      <td>-19110</td>\n",
              "      <td>-3051</td>\n",
              "      <td>1</td>\n",
              "      <td>0</td>\n",
              "      <td>1</td>\n",
              "      <td>1</td>\n",
              "      <td>Sales staff</td>\n",
              "      <td>1.0</td>\n",
              "      <td>4.0</td>\n",
              "      <td>No</td>\n",
              "      <td>0</td>\n",
              "    </tr>\n",
              "    <tr>\n",
              "      <th>4</th>\n",
              "      <td>5008809</td>\n",
              "      <td>F</td>\n",
              "      <td>N</td>\n",
              "      <td>Y</td>\n",
              "      <td>0</td>\n",
              "      <td>270000.0</td>\n",
              "      <td>Commercial associate</td>\n",
              "      <td>Secondary / secondary special</td>\n",
              "      <td>Single / not married</td>\n",
              "      <td>House / apartment</td>\n",
              "      <td>-19110</td>\n",
              "      <td>-3051</td>\n",
              "      <td>1</td>\n",
              "      <td>0</td>\n",
              "      <td>1</td>\n",
              "      <td>1</td>\n",
              "      <td>Sales staff</td>\n",
              "      <td>1.0</td>\n",
              "      <td>26.0</td>\n",
              "      <td>No</td>\n",
              "      <td>0</td>\n",
              "    </tr>\n",
              "  </tbody>\n",
              "</table>\n",
              "</div>"
            ],
            "text/plain": [
              "        ID CODE_GENDER FLAG_OWN_CAR  ... begin_month  dep_value  target\n",
              "0  5008804           M            Y  ...        15.0         No       0\n",
              "1  5008805           M            Y  ...        14.0         No       0\n",
              "2  5008806           M            Y  ...        29.0         No       0\n",
              "3  5008808           F            N  ...         4.0         No       0\n",
              "4  5008809           F            N  ...        26.0         No       0\n",
              "\n",
              "[5 rows x 21 columns]"
            ]
          },
          "metadata": {},
          "execution_count": 7
        }
      ]
    },
    {
      "cell_type": "code",
      "metadata": {
        "id": "vnp4IifWJ5Lq"
      },
      "source": [
        "# Упростим себе задачу и оставим только часть признаков\n",
        "features = ['AMT_INCOME_TOTAL', 'CODE_GENDER', 'FLAG_OWN_CAR', 'FLAG_OWN_REALTY', 'CNT_CHILDREN']\t\n",
        "target = ['target',]\n",
        "dataset = new_data[features + target]\n",
        "dataset[target[0]] = pd.to_numeric(dataset[target[0]])"
      ],
      "execution_count": null,
      "outputs": []
    },
    {
      "cell_type": "markdown",
      "metadata": {
        "id": "nbdj50CcDk3o"
      },
      "source": [
        "У нас есть выборка, где указаны параметры клиента, и вышел ли он на просрочку или нет."
      ]
    },
    {
      "cell_type": "code",
      "metadata": {
        "id": "g5OIVqemDICB"
      },
      "source": [
        "# Разделим выборку на трейн и тест, на трейн будем обучать модель, на тест валидировать.\n",
        "X_train, X_test, y_train, y_test = train_test_split(dataset[features], pd.to_numeric(dataset[target[0]]), test_size=0.3, random_state=42)"
      ],
      "execution_count": null,
      "outputs": []
    },
    {
      "cell_type": "code",
      "metadata": {
        "id": "FMNW38tmOrf0"
      },
      "source": [
        "# Превращаем категориальные факторы в численные\n",
        "ohe = OneHotEncoder()\n",
        "ohe.fit(X_train[['CODE_GENDER', 'FLAG_OWN_CAR', 'FLAG_OWN_REALTY']])\n",
        "X_train_ohe = ohe.transform(X_train[['CODE_GENDER', 'FLAG_OWN_CAR', 'FLAG_OWN_REALTY']])\n",
        "X_test_ohe = ohe.transform(X_test[['CODE_GENDER', 'FLAG_OWN_CAR', 'FLAG_OWN_REALTY']])\n",
        "\n",
        "X_train_ohe = pd.DataFrame(X_train_ohe.toarray(), columns=[item for sublist in ohe.categories_ for item in sublist])\n",
        "X_test_ohe = pd.DataFrame(X_test_ohe.toarray(), columns=[item for sublist in ohe.categories_ for item in sublist])"
      ],
      "execution_count": null,
      "outputs": []
    },
    {
      "cell_type": "code",
      "metadata": {
        "id": "sZcQy_4lS0_x"
      },
      "source": [
        "# Отскалируем численные\n",
        "mms = MinMaxScaler()\n",
        "mms.fit(X_train[['AMT_INCOME_TOTAL', 'CNT_CHILDREN']])\n",
        "X_train_scaled = mms.transform(X_train[['AMT_INCOME_TOTAL', 'CNT_CHILDREN']])\n",
        "X_test_scaled = mms.transform(X_test[['AMT_INCOME_TOTAL', 'CNT_CHILDREN']])\n",
        "\n",
        "X_train_scaled = pd.DataFrame(X_train_scaled, columns=['AMT_INCOME_TOTAL', 'CNT_CHILDREN'])\n",
        "X_test_scaled = pd.DataFrame(X_test_scaled, columns=['AMT_INCOME_TOTAL', 'CNT_CHILDREN'])"
      ],
      "execution_count": null,
      "outputs": []
    },
    {
      "cell_type": "code",
      "metadata": {
        "id": "hTr2-HRLPvZ5"
      },
      "source": [
        "X_train = pd.concat([X_train_scaled, X_train_ohe,], axis=1)\n",
        "X_test = pd.concat([X_test_scaled, X_test_ohe, ], axis=1)"
      ],
      "execution_count": null,
      "outputs": []
    },
    {
      "cell_type": "markdown",
      "metadata": {
        "id": "k6iYtYBSQrZw"
      },
      "source": [
        "#  Модель"
      ]
    },
    {
      "cell_type": "code",
      "metadata": {
        "colab": {
          "base_uri": "https://localhost:8080/"
        },
        "id": "67opqS-YDNhv",
        "outputId": "cff7e395-584a-4d47-eda3-b2d407e1e1de"
      },
      "source": [
        "# Создадим простейшую модель, которая покажет через линейные коэффиценты связь переменных и таргета\n",
        "model = LogisticRegression()\n",
        "model.fit(X_train, y_train)"
      ],
      "execution_count": null,
      "outputs": [
        {
          "output_type": "execute_result",
          "data": {
            "text/plain": [
              "LogisticRegression(C=1.0, class_weight=None, dual=False, fit_intercept=True,\n",
              "                   intercept_scaling=1, l1_ratio=None, max_iter=100,\n",
              "                   multi_class='auto', n_jobs=None, penalty='l2',\n",
              "                   random_state=None, solver='lbfgs', tol=0.0001, verbose=0,\n",
              "                   warm_start=False)"
            ]
          },
          "metadata": {},
          "execution_count": 23
        }
      ]
    },
    {
      "cell_type": "code",
      "metadata": {
        "colab": {
          "base_uri": "https://localhost:8080/"
        },
        "id": "0teTAGTFDXtx",
        "outputId": "dbdc4052-9517-44af-9964-146400705e32"
      },
      "source": [
        "train_score, test_score = accuracy_score(model.predict(X_train), y_train), accuracy_score(model.predict(X_test), y_test)\n",
        "print(f'Точность модели на трейне {train_score}, на тесте {test_score}')"
      ],
      "execution_count": null,
      "outputs": [
        {
          "output_type": "stream",
          "text": [
            "Точность модели на трейне 0.9828755045260394, на тесте 0.983635033827025\n"
          ],
          "name": "stdout"
        }
      ]
    }
  ]
}