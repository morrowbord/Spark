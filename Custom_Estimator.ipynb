{
  "nbformat": 4,
  "nbformat_minor": 0,
  "metadata": {
    "kernelspec": {
      "display_name": "Python 3",
      "language": "python",
      "name": "python3"
    },
    "language_info": {
      "codemirror_mode": {
        "name": "ipython",
        "version": 3
      },
      "file_extension": ".py",
      "mimetype": "text/x-python",
      "name": "python",
      "nbconvert_exporter": "python",
      "pygments_lexer": "ipython3",
      "version": "3.8.3"
    },
    "colab": {
      "name": "Custom Estimator.ipynb",
      "provenance": [],
      "collapsed_sections": [],
      "include_colab_link": true
    }
  },
  "cells": [
    {
      "cell_type": "markdown",
      "metadata": {
        "id": "view-in-github",
        "colab_type": "text"
      },
      "source": [
        "<a href=\"https://colab.research.google.com/github/morrowbord/Spark/blob/main/Custom_Estimator.ipynb\" target=\"_parent\"><img src=\"https://colab.research.google.com/assets/colab-badge.svg\" alt=\"Open In Colab\"/></a>"
      ]
    },
    {
      "cell_type": "code",
      "metadata": {
        "collapsed": true,
        "jupyter": {
          "outputs_hidden": true
        },
        "id": "S_RKuXtIBesN",
        "colab": {
          "base_uri": "https://localhost:8080/"
        },
        "outputId": "7599945f-65ca-4a32-939a-7c97ec1f5a78"
      },
      "source": [
        "pip install pyspark pyarrow"
      ],
      "execution_count": null,
      "outputs": [
        {
          "output_type": "stream",
          "name": "stdout",
          "text": [
            "Collecting pyspark\n",
            "  Downloading pyspark-3.2.0.tar.gz (281.3 MB)\n",
            "\u001b[K     |████████████████████████████████| 281.3 MB 32 kB/s \n",
            "\u001b[?25hRequirement already satisfied: pyarrow in /usr/local/lib/python3.7/dist-packages (3.0.0)\n",
            "Collecting py4j==0.10.9.2\n",
            "  Downloading py4j-0.10.9.2-py2.py3-none-any.whl (198 kB)\n",
            "\u001b[K     |████████████████████████████████| 198 kB 35.7 MB/s \n",
            "\u001b[?25hRequirement already satisfied: numpy>=1.16.6 in /usr/local/lib/python3.7/dist-packages (from pyarrow) (1.19.5)\n",
            "Building wheels for collected packages: pyspark\n",
            "  Building wheel for pyspark (setup.py) ... \u001b[?25l\u001b[?25hdone\n",
            "  Created wheel for pyspark: filename=pyspark-3.2.0-py2.py3-none-any.whl size=281805911 sha256=e7ccfb04045029025faa3188b9fb7ce3047ecea80bb369579c7fc0f80a493cd6\n",
            "  Stored in directory: /root/.cache/pip/wheels/0b/de/d2/9be5d59d7331c6c2a7c1b6d1a4f463ce107332b1ecd4e80718\n",
            "Successfully built pyspark\n",
            "Installing collected packages: py4j, pyspark\n",
            "Successfully installed py4j-0.10.9.2 pyspark-3.2.0\n"
          ]
        }
      ]
    },
    {
      "cell_type": "code",
      "metadata": {
        "id": "SY7TGT9Sx0HZ"
      },
      "source": [
        "from pyspark.sql import SparkSession\n",
        "\n",
        "spark = SparkSession.builder\\\n",
        "        .master(\"local[*]\")\\\n",
        "        .appName(\"Colab_pyspark\")\\\n",
        "        .config('spark.ui.port', '4050')\\\n",
        "        .config('spark.executor.memory', '3g')\\\n",
        "        .config('spark.sql.execution.arrow.enabled', 'true')\\\n",
        "        .getOrCreate()\n",
        "        # .config('spark.sql.execution.arrow.enabled', 'true')\\\n",
        "        # .config('spark.\"Broadcastsizetable\"', '-1')\\\n",
        "        # .config('preferSortHashJoin', 'true')\\"
      ],
      "execution_count": null,
      "outputs": []
    },
    {
      "cell_type": "code",
      "metadata": {
        "collapsed": true,
        "jupyter": {
          "outputs_hidden": true
        },
        "id": "X2H1X2YJBesO"
      },
      "source": [
        "from pyspark.ml import Estimator\n",
        "from sklearn.linear_model import LogisticRegression\n",
        "from sklearn.datasets import make_classification\n",
        "from sklearn.model_selection import train_test_split"
      ],
      "execution_count": null,
      "outputs": []
    },
    {
      "cell_type": "code",
      "metadata": {
        "collapsed": true,
        "jupyter": {
          "outputs_hidden": true
        },
        "id": "CO5qq-OJBesP"
      },
      "source": [
        "X, y = make_classification(random_state=5757)\n",
        "X_train, X_test, y_train, y_test = train_test_split(X, y, test_size=0.2, random_state=5757)"
      ],
      "execution_count": null,
      "outputs": []
    },
    {
      "cell_type": "code",
      "metadata": {
        "collapsed": true,
        "jupyter": {
          "outputs_hidden": true
        },
        "id": "SkVvc-ioBesQ",
        "colab": {
          "base_uri": "https://localhost:8080/"
        },
        "outputId": "0b50cb3b-f6b5-479a-e8d2-b88f60ce327d"
      },
      "source": [
        "X_train.shape"
      ],
      "execution_count": null,
      "outputs": [
        {
          "output_type": "execute_result",
          "data": {
            "text/plain": [
              "(80, 20)"
            ]
          },
          "metadata": {},
          "execution_count": 6
        }
      ]
    },
    {
      "cell_type": "code",
      "metadata": {
        "collapsed": true,
        "jupyter": {
          "outputs_hidden": true
        },
        "id": "piNkLg3JBesQ",
        "colab": {
          "base_uri": "https://localhost:8080/"
        },
        "outputId": "269f6089-7b92-48c2-82c7-86da8cc8d393"
      },
      "source": [
        "est = LogisticRegression(random_state=5757)\n",
        "est.fit(X_train, y_train)"
      ],
      "execution_count": null,
      "outputs": [
        {
          "output_type": "execute_result",
          "data": {
            "text/plain": [
              "LogisticRegression(random_state=5757)"
            ]
          },
          "metadata": {},
          "execution_count": 7
        }
      ]
    },
    {
      "cell_type": "markdown",
      "metadata": {
        "id": "BL97VyiYBesR"
      },
      "source": [
        "## Способ №1, правильный, но не работает :("
      ]
    },
    {
      "cell_type": "code",
      "metadata": {
        "collapsed": true,
        "jupyter": {
          "outputs_hidden": true
        },
        "id": "YU9p7wUzBesS"
      },
      "source": [
        "from pyspark.sql.types import *\n",
        "from pyspark.sql.functions import *\n",
        "from pyspark.mllib.linalg import VectorUDT, DenseVector\n",
        "\n",
        "schema = StructType(fields=[\n",
        "    StructField(\"features\", VectorUDT()),\n",
        "    StructField(\"label\", IntegerType())\n",
        "])"
      ],
      "execution_count": null,
      "outputs": []
    },
    {
      "cell_type": "code",
      "metadata": {
        "collapsed": true,
        "jupyter": {
          "outputs_hidden": true
        },
        "id": "tz9QZlTsBesT"
      },
      "source": [
        "df_test = spark.createDataFrame(zip(map(DenseVector, X_test), map(int, y_test)), schema=schema)"
      ],
      "execution_count": null,
      "outputs": []
    },
    {
      "cell_type": "code",
      "metadata": {
        "collapsed": true,
        "jupyter": {
          "outputs_hidden": true
        },
        "id": "BfoRIsXzBesT",
        "colab": {
          "base_uri": "https://localhost:8080/"
        },
        "outputId": "76b3e3b0-3308-4fe6-8f3d-671666a52598"
      },
      "source": [
        "df_test.printSchema()"
      ],
      "execution_count": null,
      "outputs": [
        {
          "output_type": "stream",
          "name": "stdout",
          "text": [
            "root\n",
            " |-- features: vector (nullable = true)\n",
            " |-- label: integer (nullable = true)\n",
            "\n"
          ]
        }
      ]
    },
    {
      "cell_type": "code",
      "metadata": {
        "colab": {
          "base_uri": "https://localhost:8080/"
        },
        "id": "F51LK1t0nYXJ",
        "outputId": "6db5737b-8cfb-45c5-8cba-b5030459e3d4"
      },
      "source": [
        "df_test.show()"
      ],
      "execution_count": null,
      "outputs": [
        {
          "output_type": "stream",
          "name": "stdout",
          "text": [
            "+--------------------+-----+\n",
            "|            features|label|\n",
            "+--------------------+-----+\n",
            "|[0.16713128673558...|    0|\n",
            "|[2.50158633810562...|    0|\n",
            "|[-0.7699917522248...|    0|\n",
            "|[-0.9514898817744...|    0|\n",
            "|[1.32598926517448...|    0|\n",
            "|[-0.5091954518113...|    0|\n",
            "|[-0.9442948966018...|    1|\n",
            "|[0.53537784380006...|    1|\n",
            "|[-1.9316295195085...|    0|\n",
            "|[-0.8788162423442...|    1|\n",
            "|[0.47792785291472...|    1|\n",
            "|[-0.7537969085613...|    1|\n",
            "|[-0.1103342853056...|    0|\n",
            "|[0.21903394455633...|    1|\n",
            "|[-0.7010314631582...|    1|\n",
            "|[-0.4024860125426...|    1|\n",
            "|[1.91508615582208...|    1|\n",
            "|[1.03957987692160...|    1|\n",
            "|[-1.9962336859493...|    1|\n",
            "|[0.03293939843484...|    1|\n",
            "+--------------------+-----+\n",
            "\n"
          ]
        }
      ]
    },
    {
      "cell_type": "code",
      "metadata": {
        "collapsed": true,
        "jupyter": {
          "outputs_hidden": true
        },
        "id": "LDeWh-cQBesT"
      },
      "source": [
        "est_broadcast = spark.sparkContext.broadcast(est)"
      ],
      "execution_count": null,
      "outputs": []
    },
    {
      "cell_type": "code",
      "metadata": {
        "collapsed": true,
        "jupyter": {
          "outputs_hidden": true
        },
        "id": "QpZ-w9Y9BesT"
      },
      "source": [
        "import pyspark.sql.functions as F"
      ],
      "execution_count": null,
      "outputs": []
    },
    {
      "cell_type": "code",
      "metadata": {
        "id": "DJa7HAFcNXHl"
      },
      "source": [
        "@F.udf(FloatType())\n",
        "def predict(values):\n",
        "    predictions = est_broadcast.value.predict([np.array(values)])\n",
        "    return predictions[0]"
      ],
      "execution_count": null,
      "outputs": []
    },
    {
      "cell_type": "code",
      "source": [
        "import numpy as np\n",
        "df_test.withColumn(\"prediction\", predict(\"features\")).show()"
      ],
      "metadata": {
        "id": "LTcOhBd-rjvA"
      },
      "execution_count": null,
      "outputs": []
    },
    {
      "cell_type": "code",
      "metadata": {
        "collapsed": true,
        "jupyter": {
          "outputs_hidden": true
        },
        "id": "AZqbwsjxBesU"
      },
      "source": [
        "@F.pandas_udf(FloatType())\n",
        "def predict(series):\n",
        "    predictions = est_broadcast.value.predict(series)\n",
        "    return pd.Series(predictions)"
      ],
      "execution_count": null,
      "outputs": []
    },
    {
      "cell_type": "code",
      "metadata": {
        "collapsed": true,
        "jupyter": {
          "outputs_hidden": true
        },
        "id": "jVCXX7h3BesU"
      },
      "source": [
        "df_test.withColumn(\"prediction\", predict(\"features\")).show()"
      ],
      "execution_count": null,
      "outputs": []
    },
    {
      "cell_type": "markdown",
      "metadata": {
        "id": "AB5nftbNBesU"
      },
      "source": [
        "## Способ №2, неправильный, но работает :/"
      ]
    },
    {
      "cell_type": "code",
      "metadata": {
        "collapsed": true,
        "jupyter": {
          "outputs_hidden": true
        },
        "id": "ztMz5SZDBesV"
      },
      "source": [
        "import pandas as pd\n",
        "import numpy as np"
      ],
      "execution_count": null,
      "outputs": []
    },
    {
      "cell_type": "code",
      "metadata": {
        "collapsed": true,
        "jupyter": {
          "outputs_hidden": true
        },
        "id": "6cjgbgQXBesV"
      },
      "source": [
        "@F.udf(returnType=ArrayType(FloatType()))\n",
        "def vectorToArray(row):\n",
        "    return [float(x) for x in row]"
      ],
      "execution_count": null,
      "outputs": []
    },
    {
      "cell_type": "code",
      "source": [
        "df_test"
      ],
      "metadata": {
        "colab": {
          "base_uri": "https://localhost:8080/"
        },
        "id": "DioKU70-slzi",
        "outputId": "91fbb1f9-3e6c-42f7-ac28-0cd5681709a1"
      },
      "execution_count": null,
      "outputs": [
        {
          "output_type": "execute_result",
          "data": {
            "text/plain": [
              "DataFrame[features: vector, label: int]"
            ]
          },
          "metadata": {},
          "execution_count": 24
        }
      ]
    },
    {
      "cell_type": "code",
      "metadata": {
        "collapsed": true,
        "jupyter": {
          "outputs_hidden": true
        },
        "id": "YToQ93trBesV"
      },
      "source": [
        "df_test = df_test.withColumn(\"features_array\", vectorToArray(\"features\"))"
      ],
      "execution_count": null,
      "outputs": []
    },
    {
      "cell_type": "code",
      "metadata": {
        "collapsed": true,
        "jupyter": {
          "outputs_hidden": true
        },
        "id": "izW5MI7-BesV",
        "colab": {
          "base_uri": "https://localhost:8080/"
        },
        "outputId": "3bf8cd59-4edd-4199-b7f8-cbcdc694a422"
      },
      "source": [
        "df_test.printSchema()"
      ],
      "execution_count": null,
      "outputs": [
        {
          "output_type": "stream",
          "name": "stdout",
          "text": [
            "root\n",
            " |-- features: vector (nullable = true)\n",
            " |-- label: integer (nullable = true)\n",
            " |-- features_array: array (nullable = true)\n",
            " |    |-- element: float (containsNull = true)\n",
            "\n"
          ]
        }
      ]
    },
    {
      "cell_type": "code",
      "metadata": {
        "collapsed": true,
        "jupyter": {
          "outputs_hidden": true
        },
        "id": "hLP67baTBesW"
      },
      "source": [
        "@F.pandas_udf(FloatType())\n",
        "def predict(series):\n",
        "    # Необходимо сделать преобразования, потому что на вход приходит pd.Series(list)\n",
        "    predictions = est_broadcast.value.predict(series.tolist())\n",
        "    return pd.Series(predictions)"
      ],
      "execution_count": null,
      "outputs": []
    },
    {
      "cell_type": "code",
      "metadata": {
        "jupyter": {
          "outputs_hidden": true
        },
        "id": "OM2N4JTCBesW",
        "colab": {
          "base_uri": "https://localhost:8080/"
        },
        "outputId": "84235d7f-9be3-4c31-992b-00a1ff4a39a1"
      },
      "source": [
        "df_test.withColumn(\"prediction\", predict(\"features_array\")).show()"
      ],
      "execution_count": null,
      "outputs": [
        {
          "output_type": "stream",
          "name": "stdout",
          "text": [
            "+--------------------+-----+--------------------+----------+\n",
            "|            features|label|      features_array|prediction|\n",
            "+--------------------+-----+--------------------+----------+\n",
            "|[0.16713128673558...|    0|[0.16713129, 2.28...|       0.0|\n",
            "|[2.50158633810562...|    0|[2.5015864, 1.394...|       0.0|\n",
            "|[-0.7699917522248...|    0|[-0.76999176, 0.1...|       0.0|\n",
            "|[-0.9514898817744...|    0|[-0.95148987, 1.6...|       0.0|\n",
            "|[1.32598926517448...|    0|[1.3259892, 1.287...|       0.0|\n",
            "|[-0.5091954518113...|    0|[-0.50919545, 2.0...|       0.0|\n",
            "|[-0.9442948966018...|    1|[-0.94429487, 1.2...|       1.0|\n",
            "|[0.53537784380006...|    1|[0.53537786, 0.08...|       1.0|\n",
            "|[-1.9316295195085...|    0|[-1.9316295, -1.3...|       0.0|\n",
            "|[-0.8788162423442...|    1|[-0.87881625, -0....|       1.0|\n",
            "|[0.47792785291472...|    1|[0.47792786, 1.28...|       1.0|\n",
            "|[-0.7537969085613...|    1|[-0.75379694, 1.9...|       1.0|\n",
            "|[-0.1103342853056...|    0|[-0.110334285, 3....|       1.0|\n",
            "|[0.21903394455633...|    1|[0.21903394, -1.2...|       1.0|\n",
            "|[-0.7010314631582...|    1|[-0.70103145, 0.6...|       1.0|\n",
            "|[-0.4024860125426...|    1|[-0.40248603, -1....|       0.0|\n",
            "|[1.91508615582208...|    1|[1.9150862, -1.07...|       1.0|\n",
            "|[1.03957987692160...|    1|[1.0395799, -0.80...|       1.0|\n",
            "|[-1.9962336859493...|    1|[-1.9962337, 0.55...|       1.0|\n",
            "|[0.03293939843484...|    1|[0.032939397, 1.2...|       1.0|\n",
            "+--------------------+-----+--------------------+----------+\n",
            "\n"
          ]
        }
      ]
    },
    {
      "cell_type": "code",
      "metadata": {
        "collapsed": true,
        "jupyter": {
          "outputs_hidden": true
        },
        "id": "7RKm3PG-BesX"
      },
      "source": [
        "import pickle"
      ],
      "execution_count": null,
      "outputs": []
    },
    {
      "cell_type": "code",
      "metadata": {
        "collapsed": true,
        "jupyter": {
          "outputs_hidden": true
        },
        "id": "Qb-DG_QdBesX"
      },
      "source": [
        "with open(\"logistic_model.pk\", \"wb\") as f:\n",
        "    pickle.dump(est, f)"
      ],
      "execution_count": null,
      "outputs": []
    },
    {
      "cell_type": "code",
      "metadata": {
        "collapsed": true,
        "jupyter": {
          "outputs_hidden": true
        },
        "id": "2JT6YNThBesY"
      },
      "source": [
        "from pyspark import keyword_only\n",
        "from pyspark.ml import Model\n",
        "from pyspark.ml.param import Param, Params, TypeConverters\n",
        "from pyspark.ml.param.shared import HasFeaturesCol, HasLabelCol, HasPredictionCol"
      ],
      "execution_count": null,
      "outputs": []
    },
    {
      "cell_type": "code",
      "metadata": {
        "collapsed": true,
        "jupyter": {
          "outputs_hidden": true
        },
        "id": "nurXdZvNBesZ"
      },
      "source": [
        "class SKLogisticRegressionModel(Model, HasFeaturesCol, HasLabelCol, HasPredictionCol):\n",
        "    model_file = Param(Params._dummy(), \"model_file\",\n",
        "                      \"path to pickled scikit-learn logistic regression model\",\n",
        "                      typeConverter=TypeConverters.toString)\n",
        "    @keyword_only\n",
        "    def __init__(self, model_file=None, featuresCol=\"features\", labelCol=\"label\", predictionCol=\"prediction\"):\n",
        "        super(SKLogisticRegressionModel, self).__init__()\n",
        "        if model_file is None:\n",
        "            raise ValueError(\"model_file must be specified!\")\n",
        "        with open(model_file, \"rb\") as f:\n",
        "            self.estimator = pickle.load(f)\n",
        "        kwargs = self._input_kwargs\n",
        "        self._set(**kwargs)\n",
        "        \n",
        "    def _transform(self, dataset):\n",
        "        return dataset.withColumn(self.getPredictionCol(), predict(self.getFeaturesCol()))"
      ],
      "execution_count": null,
      "outputs": []
    },
    {
      "cell_type": "code",
      "metadata": {
        "collapsed": true,
        "jupyter": {
          "outputs_hidden": true
        },
        "id": "ydH6LBJYBesa"
      },
      "source": [
        "spark_est = SKLogisticRegreesionModel(\n",
        "    model_file=\"logistic_model.pk\", \n",
        "    featuresCol=\"features_array\")"
      ],
      "execution_count": null,
      "outputs": []
    },
    {
      "cell_type": "code",
      "metadata": {
        "collapsed": true,
        "jupyter": {
          "outputs_hidden": true
        },
        "id": "Yw1EOTUBBesb"
      },
      "source": [
        "spark_est.transform(df_test).show()"
      ],
      "execution_count": null,
      "outputs": []
    },
    {
      "cell_type": "code",
      "metadata": {
        "collapsed": true,
        "jupyter": {
          "outputs_hidden": true
        },
        "id": "O27LmjriBesb"
      },
      "source": [
        "from pyspark.ml import Pipeline"
      ],
      "execution_count": null,
      "outputs": []
    },
    {
      "cell_type": "code",
      "metadata": {
        "collapsed": true,
        "jupyter": {
          "outputs_hidden": true
        },
        "id": "MoMvyZJsBesc"
      },
      "source": [
        "pipeline = Pipeline(stages=[\n",
        "    spark_est\n",
        "])"
      ],
      "execution_count": null,
      "outputs": []
    },
    {
      "cell_type": "code",
      "metadata": {
        "collapsed": true,
        "jupyter": {
          "outputs_hidden": true
        },
        "id": "4yYkQwLlBesc"
      },
      "source": [
        "pipeline_model = pipeline.fit(df_test)"
      ],
      "execution_count": null,
      "outputs": []
    },
    {
      "cell_type": "code",
      "metadata": {
        "collapsed": true,
        "jupyter": {
          "outputs_hidden": true
        },
        "id": "BX-vxZ3MBesd",
        "colab": {
          "base_uri": "https://localhost:8080/"
        },
        "outputId": "e47e831e-ce27-49bb-aa43-0f893dc225c7"
      },
      "source": [
        "pipeline_model.transform(df_test).show()"
      ],
      "execution_count": null,
      "outputs": [
        {
          "output_type": "stream",
          "name": "stdout",
          "text": [
            "+--------------------+-----+--------------------+----------+\n",
            "|            features|label|      features_array|prediction|\n",
            "+--------------------+-----+--------------------+----------+\n",
            "|[0.16713128673558...|    0|[0.16713129, 2.28...|       0.0|\n",
            "|[2.50158633810562...|    0|[2.5015864, 1.394...|       0.0|\n",
            "|[-0.7699917522248...|    0|[-0.76999176, 0.1...|       0.0|\n",
            "|[-0.9514898817744...|    0|[-0.95148987, 1.6...|       0.0|\n",
            "|[1.32598926517448...|    0|[1.3259892, 1.287...|       0.0|\n",
            "|[-0.5091954518113...|    0|[-0.50919545, 2.0...|       0.0|\n",
            "|[-0.9442948966018...|    1|[-0.94429487, 1.2...|       1.0|\n",
            "|[0.53537784380006...|    1|[0.53537786, 0.08...|       1.0|\n",
            "|[-1.9316295195085...|    0|[-1.9316295, -1.3...|       0.0|\n",
            "|[-0.8788162423442...|    1|[-0.87881625, -0....|       1.0|\n",
            "|[0.47792785291472...|    1|[0.47792786, 1.28...|       1.0|\n",
            "|[-0.7537969085613...|    1|[-0.75379694, 1.9...|       1.0|\n",
            "|[-0.1103342853056...|    0|[-0.110334285, 3....|       1.0|\n",
            "|[0.21903394455633...|    1|[0.21903394, -1.2...|       1.0|\n",
            "|[-0.7010314631582...|    1|[-0.70103145, 0.6...|       1.0|\n",
            "|[-0.4024860125426...|    1|[-0.40248603, -1....|       0.0|\n",
            "|[1.91508615582208...|    1|[1.9150862, -1.07...|       1.0|\n",
            "|[1.03957987692160...|    1|[1.0395799, -0.80...|       1.0|\n",
            "|[-1.9962336859493...|    1|[-1.9962337, 0.55...|       1.0|\n",
            "|[0.03293939843484...|    1|[0.032939397, 1.2...|       1.0|\n",
            "+--------------------+-----+--------------------+----------+\n",
            "\n"
          ]
        }
      ]
    },
    {
      "cell_type": "code",
      "metadata": {
        "collapsed": true,
        "jupyter": {
          "outputs_hidden": true
        },
        "id": "wRs5kkW6Besd"
      },
      "source": [
        "class SKLogisticRegression(Estimator, HasFeaturesCol, HasPredictionCol, HasLabelCol):\n",
        "    @keyword_only\n",
        "    def __init__(self, featuresCol=\"features\", predictionCol=\"prediction\", labelCol=\"label\"):\n",
        "        super(SKLogisticRegression, self).__init__()\n",
        "        kwargs = self._input_kwargs\n",
        "        self._set(**kwargs)\n",
        "        \n",
        "    def _fit(self, dataset):\n",
        "        local_dataset = dataset.select(self.getFeaturesCol(), self.getLabelCol()).toPandas()\n",
        "        self.est = LogisticRegression()\n",
        "        self.est.fit(local_dataset[self.getFeaturesCol()].tolist(), local_dataset[self.getLabelCol()])\n",
        "        self.model_file = \"logistic_regression.pk\"\n",
        "        with open(self.model_file, \"wb\") as f:\n",
        "            pickle.dump(self.est, f)\n",
        "        return SKLogisticRegressionModel(model_file=self.model_file, predictionCol=self.getPredictionCol(),\n",
        "                                         featuresCol=self.getFeaturesCol(), labelCol=self.getLabelCol())"
      ],
      "execution_count": null,
      "outputs": []
    },
    {
      "cell_type": "code",
      "metadata": {
        "id": "fAZJHWbhVMYb"
      },
      "source": [
        "+-------------------+--------+-------+------------+--------+-----------------------------+----------------------------+---------------+\n",
        "|           datesold|postcode|  price|propertyType|bedrooms|avg_price_for_10_deals_before|avg_price_for_10_deals_after|last_deal_price|\n",
        "+-------------------+--------+-------+------------+--------+-----------------------------+----------------------------+---------------+\n",
        "|2007-07-08 00:00:00|    2600| 327000|       house|       1|                     327000.0|                   706681.82|         900000|\n",
        "|2007-08-16 00:00:00|    2600| 790000|       house|       4|                     558500.0|                   692590.91|         625000|\n",
        "|2007-12-05 00:00:00|    2600| 825000|       house|       3|                    647333.33|                   703954.55|         620000|\n",
        "|2008-01-21 00:00:00|    2600| 315000|        unit|       1|                     564250.0|                   741681.82|         580000|\n",
        "|2008-04-24 00:00:00|    2600| 292500|       house|       1|                     509900.0|                   792818.18|         445000|\n",
        "|2008-05-30 00:00:00|    2600| 329000|        unit|       2|                     479750.0|                   859045.45|         357000|\n",
        "|2008-06-19 00:00:00|    2600| 765000|       house|       5|                     520500.0|                   816772.73|         362000|\n",
        "|2008-07-29 00:00:00|    2600| 927000|       house|       4|                     571312.5|                   775681.82|         365000|\n",
        "|2008-09-02 00:00:00|    2600|1380000|       house|       5|                    661166.67|                   754772.73|         541000|\n",
        "|2008-09-08 00:00:00|    2600| 740000|       house|       3|                     669050.0|                   739772.73|         360500|\n",
        "|2008-09-17 00:00:00|    2600| 720000|       house|       3|                    673681.82|                   726863.64|         420000|\n",
        "|2008-09-22 00:00:00|    2600| 690000|       house|       4|                    706681.82|                   744136.36|         685000|\n",
        "|2008-11-18 00:00:00|    2600| 635000|       house|       3|                    692590.91|                   723681.82|         540000|\n",
        "|2008-11-18 00:00:00|    2600| 950000|       house|       3|                    703954.55|                   729590.91|         635000|\n",
        "|2008-11-21 00:00:00|    2600| 730000|       house|       3|                    741681.82|                   728863.64|         500000|\n",
        "|2008-12-22 00:00:00|    2600| 855000|       house|       3|                    792818.18|                   679318.18|         630000|\n",
        "|2008-12-24 00:00:00|    2600|1057500|       house|       4|                    859045.45|                   638636.36|         499000|\n",
        "|2009-01-06 00:00:00|    2600| 300000|        unit|       2|                    816772.73|                   669545.45|         450000|\n",
        "|2009-01-12 00:00:00|    2600| 475000|        unit|       2|                    775681.82|                   687727.27|         750000|\n",
        "|2009-01-20 00:00:00|    2600|1150000|       house|       4|                    754772.73|                   674090.91|         500000|\n",
        "|2009-01-22 00:00:00|    2600| 575000|       house|       3|                    739772.73|                   655909.09|         512000|\n",
        "|2009-02-03 00:00:00|    2600| 578000|        unit|       2|                    726863.64|                   707909.09|         365000|\n",
        "|2009-02-13 00:00:00|    2600| 880000|       house|       4|                    744136.36|                    697000.0|         450000|\n",
        "|2009-02-27 00:00:00|    2600| 410000|        unit|       1|                    723681.82|                   760636.36|         476000|\n",
        "|2009-03-17 00:00:00|    2600|1015000|       house|       4|                    729590.91|                    742000.0|         580000|\n",
        "|2009-03-28 00:00:00|    2600| 722000|       house|       4|                    728863.64|                   758181.82|         690000|\n",
        "|2009-03-30 00:00:00|    2600| 310000|        unit|       1|                    679318.18|                   803818.18|         568500|\n",
        "|2009-03-31 00:00:00|    2600| 610000|       house|       3|                    638636.36|                   835636.36|         580000|\n",
        "|2009-04-16 00:00:00|    2600| 640000|        unit|       2|                    669545.45|                   844272.73|         372000|\n",
        "|2009-05-08 00:00:00|    2600| 675000|       house|       3|                    687727.27|                    854000.0|         615000|\n",
        "+-------------------+--------+-------+------------+--------+-----------------------------+----------------------------+---------------+"
      ],
      "execution_count": null,
      "outputs": []
    },
    {
      "cell_type": "code",
      "metadata": {
        "collapsed": true,
        "jupyter": {
          "outputs_hidden": true
        },
        "id": "Axu0-QzRBese"
      },
      "source": [
        "spark_est = SKLogisticRegression(featuresCol=\"features_array\")"
      ],
      "execution_count": null,
      "outputs": []
    },
    {
      "cell_type": "code",
      "metadata": {
        "collapsed": true,
        "jupyter": {
          "outputs_hidden": true
        },
        "id": "ydEfcL8XBese"
      },
      "source": [
        "spark_est_model = spark_est.fit(df_test)"
      ],
      "execution_count": null,
      "outputs": []
    },
    {
      "cell_type": "code",
      "metadata": {
        "id": "86b4k5QPzjkj",
        "colab": {
          "base_uri": "https://localhost:8080/"
        },
        "outputId": "c5ef0ed6-50ff-4334-c17d-31b3066dc463"
      },
      "source": [
        "spark_est"
      ],
      "execution_count": null,
      "outputs": [
        {
          "output_type": "execute_result",
          "data": {
            "text/plain": [
              "SKLogisticRegression_3da6464bb5e8"
            ]
          },
          "metadata": {},
          "execution_count": 41
        }
      ]
    },
    {
      "cell_type": "code",
      "metadata": {
        "collapsed": true,
        "jupyter": {
          "outputs_hidden": true
        },
        "id": "c_dIyKj2Besf",
        "colab": {
          "base_uri": "https://localhost:8080/"
        },
        "outputId": "7ef75758-2ff8-4c64-e0fd-b93619c30114"
      },
      "source": [
        "spark_est_model"
      ],
      "execution_count": null,
      "outputs": [
        {
          "output_type": "execute_result",
          "data": {
            "text/plain": [
              "SKLogisticRegreesionModel_1d029893e47c"
            ]
          },
          "metadata": {},
          "execution_count": 42
        }
      ]
    },
    {
      "cell_type": "code",
      "metadata": {
        "jupyter": {
          "outputs_hidden": true
        },
        "id": "iWjwtahGBesf",
        "colab": {
          "base_uri": "https://localhost:8080/"
        },
        "outputId": "3b551a4e-4201-4c71-f01d-3444be5c7208"
      },
      "source": [
        "spark_est_model.transform(df_test).show()"
      ],
      "execution_count": null,
      "outputs": [
        {
          "output_type": "stream",
          "name": "stdout",
          "text": [
            "+--------------------+-----+--------------------+----------+\n",
            "|            features|label|      features_array|prediction|\n",
            "+--------------------+-----+--------------------+----------+\n",
            "|[0.16713128673558...|    0|[0.16713129, 2.28...|       0.0|\n",
            "|[2.50158633810562...|    0|[2.5015864, 1.394...|       0.0|\n",
            "|[-0.7699917522248...|    0|[-0.76999176, 0.1...|       0.0|\n",
            "|[-0.9514898817744...|    0|[-0.95148987, 1.6...|       0.0|\n",
            "|[1.32598926517448...|    0|[1.3259892, 1.287...|       0.0|\n",
            "|[-0.5091954518113...|    0|[-0.50919545, 2.0...|       0.0|\n",
            "|[-0.9442948966018...|    1|[-0.94429487, 1.2...|       1.0|\n",
            "|[0.53537784380006...|    1|[0.53537786, 0.08...|       1.0|\n",
            "|[-1.9316295195085...|    0|[-1.9316295, -1.3...|       0.0|\n",
            "|[-0.8788162423442...|    1|[-0.87881625, -0....|       1.0|\n",
            "|[0.47792785291472...|    1|[0.47792786, 1.28...|       1.0|\n",
            "|[-0.7537969085613...|    1|[-0.75379694, 1.9...|       1.0|\n",
            "|[-0.1103342853056...|    0|[-0.110334285, 3....|       1.0|\n",
            "|[0.21903394455633...|    1|[0.21903394, -1.2...|       1.0|\n",
            "|[-0.7010314631582...|    1|[-0.70103145, 0.6...|       1.0|\n",
            "|[-0.4024860125426...|    1|[-0.40248603, -1....|       0.0|\n",
            "|[1.91508615582208...|    1|[1.9150862, -1.07...|       1.0|\n",
            "|[1.03957987692160...|    1|[1.0395799, -0.80...|       1.0|\n",
            "|[-1.9962336859493...|    1|[-1.9962337, 0.55...|       1.0|\n",
            "|[0.03293939843484...|    1|[0.032939397, 1.2...|       1.0|\n",
            "+--------------------+-----+--------------------+----------+\n",
            "\n"
          ]
        }
      ]
    },
    {
      "cell_type": "code",
      "metadata": {
        "collapsed": true,
        "jupyter": {
          "outputs_hidden": true
        },
        "id": "CkiCtjDjBesf"
      },
      "source": [
        "pipeline = Pipeline(stages=[\n",
        "    spark_est\n",
        "])"
      ],
      "execution_count": null,
      "outputs": []
    },
    {
      "cell_type": "code",
      "metadata": {
        "collapsed": true,
        "jupyter": {
          "outputs_hidden": true
        },
        "id": "s-GIVDYvBesf"
      },
      "source": [
        "pipeline_model = pipeline.fit(df_test)"
      ],
      "execution_count": null,
      "outputs": []
    },
    {
      "cell_type": "code",
      "metadata": {
        "collapsed": true,
        "jupyter": {
          "outputs_hidden": true
        },
        "id": "BBJt6YK5Besg",
        "colab": {
          "base_uri": "https://localhost:8080/"
        },
        "outputId": "bbd1ff87-5faa-404f-8199-1f7eb28cbcfb"
      },
      "source": [
        "pipeline_model.transform(df_test).show()"
      ],
      "execution_count": null,
      "outputs": [
        {
          "output_type": "stream",
          "name": "stdout",
          "text": [
            "+--------------------+-----+--------------------+----------+\n",
            "|            features|label|      features_array|prediction|\n",
            "+--------------------+-----+--------------------+----------+\n",
            "|[0.16713128673558...|    0|[0.16713129, 2.28...|       0.0|\n",
            "|[2.50158633810562...|    0|[2.5015864, 1.394...|       0.0|\n",
            "|[-0.7699917522248...|    0|[-0.76999176, 0.1...|       0.0|\n",
            "|[-0.9514898817744...|    0|[-0.95148987, 1.6...|       0.0|\n",
            "|[1.32598926517448...|    0|[1.3259892, 1.287...|       0.0|\n",
            "|[-0.5091954518113...|    0|[-0.50919545, 2.0...|       0.0|\n",
            "|[-0.9442948966018...|    1|[-0.94429487, 1.2...|       1.0|\n",
            "|[0.53537784380006...|    1|[0.53537786, 0.08...|       1.0|\n",
            "|[-1.9316295195085...|    0|[-1.9316295, -1.3...|       0.0|\n",
            "|[-0.8788162423442...|    1|[-0.87881625, -0....|       1.0|\n",
            "|[0.47792785291472...|    1|[0.47792786, 1.28...|       1.0|\n",
            "|[-0.7537969085613...|    1|[-0.75379694, 1.9...|       1.0|\n",
            "|[-0.1103342853056...|    0|[-0.110334285, 3....|       1.0|\n",
            "|[0.21903394455633...|    1|[0.21903394, -1.2...|       1.0|\n",
            "|[-0.7010314631582...|    1|[-0.70103145, 0.6...|       1.0|\n",
            "|[-0.4024860125426...|    1|[-0.40248603, -1....|       0.0|\n",
            "|[1.91508615582208...|    1|[1.9150862, -1.07...|       1.0|\n",
            "|[1.03957987692160...|    1|[1.0395799, -0.80...|       1.0|\n",
            "|[-1.9962336859493...|    1|[-1.9962337, 0.55...|       1.0|\n",
            "|[0.03293939843484...|    1|[0.032939397, 1.2...|       1.0|\n",
            "+--------------------+-----+--------------------+----------+\n",
            "\n"
          ]
        }
      ]
    },
    {
      "cell_type": "code",
      "metadata": {
        "id": "nrJFfvK_o4Oy"
      },
      "source": [
        ""
      ],
      "execution_count": null,
      "outputs": []
    }
  ]
}