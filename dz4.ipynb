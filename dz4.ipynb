{
 "cells": [
  {
   "cell_type": "code",
   "execution_count": 1,
   "metadata": {},
   "outputs": [],
   "source": [
    "from pyspark.sql import SparkSession"
   ]
  },
  {
   "cell_type": "code",
   "execution_count": 2,
   "metadata": {},
   "outputs": [],
   "source": [
    "spark=SparkSession.builder.appName('homework4').getOrCreate()"
   ]
  },
  {
   "cell_type": "markdown",
   "metadata": {},
   "source": [
    "## Данные: [google drive: raw_sales.csv]\n",
    "(https://drive.google.com/file/d/1G2N7Mnt4-Tqz4JdJxutGDMbJiOr32kZp/view?usp=sharing)\n",
    "\n",
    " Каждая строчка это продажа жилья, которая состоит из следующих полей (думаю описание не требуется):\n",
    "*   date of sale\n",
    "*   price\n",
    "*   property type\n",
    "*   number of bedrooms\n",
    "*   4digit postcode"
   ]
  },
  {
   "cell_type": "markdown",
   "metadata": {},
   "source": [
    "## Задание 1\n",
    "Добавьте к таблице следующие поля:\n",
    "*  Средняя стомость 10 проданных домов до текущего в том же районе (4digit postcode)\n",
    "*  Средняя стомость 10 проданных домов после текущего в том же районе (4digit postcode)\n",
    "*  Стоимость последнего проданного дома до текущего\n"
   ]
  },
  {
   "cell_type": "code",
   "execution_count": 383,
   "metadata": {},
   "outputs": [],
   "source": [
    "data=spark.read.csv('raw_sales.csv',header=True, inferSchema=True)"
   ]
  },
  {
   "cell_type": "code",
   "execution_count": 384,
   "metadata": {},
   "outputs": [
    {
     "name": "stdout",
     "output_type": "stream",
     "text": [
      "+-------------------+--------+------+------------+--------+\n",
      "|           datesold|postcode| price|propertyType|bedrooms|\n",
      "+-------------------+--------+------+------------+--------+\n",
      "|2007-02-07 00:00:00|    2607|525000|       house|       4|\n",
      "|2007-02-27 00:00:00|    2906|290000|       house|       3|\n",
      "|2007-03-07 00:00:00|    2905|328000|       house|       3|\n",
      "|2007-03-09 00:00:00|    2905|380000|       house|       4|\n",
      "|2007-03-21 00:00:00|    2906|310000|       house|       3|\n",
      "+-------------------+--------+------+------------+--------+\n",
      "only showing top 5 rows\n",
      "\n"
     ]
    }
   ],
   "source": [
    "data.show(5)"
   ]
  },
  {
   "cell_type": "code",
   "execution_count": 385,
   "metadata": {},
   "outputs": [
    {
     "name": "stdout",
     "output_type": "stream",
     "text": [
      "root\n",
      " |-- datesold: string (nullable = true)\n",
      " |-- postcode: integer (nullable = true)\n",
      " |-- price: integer (nullable = true)\n",
      " |-- propertyType: string (nullable = true)\n",
      " |-- bedrooms: integer (nullable = true)\n",
      "\n"
     ]
    }
   ],
   "source": [
    "data.printSchema()"
   ]
  },
  {
   "cell_type": "code",
   "execution_count": 386,
   "metadata": {},
   "outputs": [],
   "source": [
    "from pyspark.sql.functions import avg"
   ]
  },
  {
   "cell_type": "code",
   "execution_count": 387,
   "metadata": {},
   "outputs": [],
   "source": [
    "#Средняя стомость проданных домов до текущего в том же районе (4digit postcode)\n",
    "# sales_avg=data.groupBy('postcode').agg(avg('price'))"
   ]
  },
  {
   "cell_type": "code",
   "execution_count": 388,
   "metadata": {},
   "outputs": [],
   "source": [
    "# sales_avg=data.groupBy('postcode').avg('price')"
   ]
  },
  {
   "cell_type": "code",
   "execution_count": 389,
   "metadata": {},
   "outputs": [
    {
     "name": "stdout",
     "output_type": "stream",
     "text": [
      "+-------+------------+\n",
      "|summary|propertyType|\n",
      "+-------+------------+\n",
      "|  count|       29580|\n",
      "|   mean|        null|\n",
      "| stddev|        null|\n",
      "|    min|       house|\n",
      "|    max|        unit|\n",
      "+-------+------------+\n",
      "\n"
     ]
    }
   ],
   "source": [
    "# посмотрим данные propertyType\n",
    "data.describe(\"propertyType\").show()"
   ]
  },
  {
   "cell_type": "code",
   "execution_count": 390,
   "metadata": {},
   "outputs": [],
   "source": [
    "# spark может в sql(но мы тут не используем)\n",
    "# data.registerTempTable('df')\n",
    "\n",
    "# spark.sql('''\n",
    "# select *, \n",
    "# row_number() over( partition by postcode order by price ) as rn from df\n",
    "# ''').show()"
   ]
  },
  {
   "cell_type": "code",
   "execution_count": 391,
   "metadata": {},
   "outputs": [],
   "source": [
    "    #оконные функци\n",
    "\n",
    "from pyspark.sql import Window\n",
    "\n",
    "from pyspark.sql import functions as F\n",
    "\n",
    "# windSpec=Window().partitionBy('postcode').orderBy('price')"
   ]
  },
  {
   "cell_type": "markdown",
   "metadata": {},
   "source": [
    "* пронумеруем строки с домами:\n",
    "1) отфильтруем дома - data['propertyType']=='house'\n",
    "2) добавим номер поля, - partitionBy('propertyType').orderBy('datesold')"
   ]
  },
  {
   "cell_type": "code",
   "execution_count": 392,
   "metadata": {},
   "outputs": [],
   "source": [
    "windSpec=Window().partitionBy('propertyType').orderBy('datesold')"
   ]
  },
  {
   "cell_type": "code",
   "execution_count": 393,
   "metadata": {},
   "outputs": [],
   "source": [
    "data_rn=data.filter(data['propertyType']=='house').withColumn('row_number', F.row_number().over(windSpec))"
   ]
  },
  {
   "cell_type": "code",
   "execution_count": 394,
   "metadata": {},
   "outputs": [],
   "source": [
    "# data_rn=data_rn.filter(data_rn['propertyType']=='house')"
   ]
  },
  {
   "cell_type": "code",
   "execution_count": 395,
   "metadata": {},
   "outputs": [
    {
     "name": "stdout",
     "output_type": "stream",
     "text": [
      "+-------+------------+\n",
      "|summary|propertyType|\n",
      "+-------+------------+\n",
      "|  count|       24552|\n",
      "|   mean|        null|\n",
      "| stddev|        null|\n",
      "|    min|       house|\n",
      "|    max|       house|\n",
      "+-------+------------+\n",
      "\n"
     ]
    }
   ],
   "source": [
    "data_rn.describe(\"propertyType\").show()"
   ]
  },
  {
   "cell_type": "code",
   "execution_count": 396,
   "metadata": {},
   "outputs": [
    {
     "name": "stdout",
     "output_type": "stream",
     "text": [
      "+-------------------+--------+-------+------------+--------+----------+\n",
      "|           datesold|postcode|  price|propertyType|bedrooms|row_number|\n",
      "+-------------------+--------+-------+------------+--------+----------+\n",
      "|2007-02-07 00:00:00|    2607| 525000|       house|       4|         1|\n",
      "|2007-02-27 00:00:00|    2906| 290000|       house|       3|         2|\n",
      "|2007-03-07 00:00:00|    2905| 328000|       house|       3|         3|\n",
      "|2007-03-09 00:00:00|    2905| 380000|       house|       4|         4|\n",
      "|2007-03-21 00:00:00|    2906| 310000|       house|       3|         5|\n",
      "|2007-04-04 00:00:00|    2905| 465000|       house|       4|         6|\n",
      "|2007-04-24 00:00:00|    2607| 399000|       house|       3|         7|\n",
      "|2007-04-30 00:00:00|    2606|1530000|       house|       4|         8|\n",
      "|2007-05-24 00:00:00|    2902| 359000|       house|       3|         9|\n",
      "|2007-05-25 00:00:00|    2906| 320000|       house|       3|        10|\n",
      "|2007-06-26 00:00:00|    2902| 385000|       house|       3|        11|\n",
      "|2007-06-27 00:00:00|    2906| 305000|       house|       3|        12|\n",
      "|2007-06-27 00:00:00|    2612| 850000|       house|       4|        13|\n",
      "|2007-06-28 00:00:00|    2904| 765000|       house|       4|        14|\n",
      "|2007-06-30 00:00:00|    2615| 517000|       house|       4|        15|\n",
      "|2007-07-02 00:00:00|    2914| 800000|       house|       5|        16|\n",
      "|2007-07-03 00:00:00|    2906| 336000|       house|       3|        17|\n",
      "|2007-07-06 00:00:00|    2615| 535000|       house|       5|        18|\n",
      "|2007-07-07 00:00:00|    2602| 900000|       house|       4|        19|\n",
      "|2007-07-08 00:00:00|    2600| 327000|       house|       1|        20|\n",
      "+-------------------+--------+-------+------------+--------+----------+\n",
      "only showing top 20 rows\n",
      "\n"
     ]
    }
   ],
   "source": [
    "data_rn.show()"
   ]
  },
  {
   "cell_type": "markdown",
   "metadata": {},
   "source": [
    "## Задание 1\n",
    "Добавьте к таблице следующие поля:\n",
    "*  Средняя стомость 10 проданных домов до текущего в том же районе (4digit postcode)\n",
    "*  Средняя стомость 10 проданных домов после текущего в том же районе (4digit postcode)\n",
    "*  Стоимость последнего проданного дома до текущего"
   ]
  },
  {
   "cell_type": "code",
   "execution_count": 418,
   "metadata": {},
   "outputs": [],
   "source": [
    "windSpec=Window()\\\n",
    ".partitionBy('postcode')\\\n",
    ".orderBy('datesold')\\\n",
    ".rowsBetween(Window.currentRow-10, Window.currentRow)\n",
    "# .rowsBetween(Window.currentRow, Window.currentRow+10)\n",
    "#.rangeBetween(Window.currentRow, Window.currentRow)\n",
    "#.rangeBetween(Window.currentRow-10, Window.currentRow)"
   ]
  },
  {
   "cell_type": "code",
   "execution_count": 421,
   "metadata": {},
   "outputs": [],
   "source": [
    "data_rn=data_rn.withColumn('10_avg_before', F.avg('Price').over(windSpec))"
   ]
  },
  {
   "cell_type": "code",
   "execution_count": 428,
   "metadata": {},
   "outputs": [
    {
     "name": "stdout",
     "output_type": "stream",
     "text": [
      "+-------------------+--------+-------+------------+--------+----------+-----------------+-----------------+\n",
      "|           datesold|postcode|  price|propertyType|bedrooms|row_number|     10_avg_after|    10_avg_before|\n",
      "+-------------------+--------+-------+------------+--------+----------+-----------------+-----------------+\n",
      "|2007-07-08 00:00:00|    2600| 327000|       house|       1|        20|735590.9090909091|         327000.0|\n",
      "|2007-08-16 00:00:00|    2600| 790000|       house|       4|        40|792227.2727272727|         558500.0|\n",
      "|2007-12-05 00:00:00|    2600| 825000|       house|       3|       115|786772.7272727273|647333.3333333334|\n",
      "|2008-04-24 00:00:00|    2600| 292500|       house|       1|       190|         789500.0|         558625.0|\n",
      "|2008-06-19 00:00:00|    2600| 765000|       house|       5|       230|859045.4545454546|         599900.0|\n",
      "|2008-07-29 00:00:00|    2600| 927000|       house|       4|       270|894045.4545454546|654416.6666666666|\n",
      "|2008-09-02 00:00:00|    2600|1380000|       house|       5|       327|862045.4545454546|758071.4285714285|\n",
      "|2008-09-08 00:00:00|    2600| 740000|       house|       3|       339|816590.9090909091|         755812.5|\n",
      "|2008-09-17 00:00:00|    2600| 720000|       house|       3|       356|841590.9090909091|751833.3333333334|\n",
      "|2008-09-22 00:00:00|    2600| 690000|       house|       4|       381|841772.7272727273|         745650.0|\n",
      "|2008-11-18 00:00:00|    2600| 635000|       house|       3|       531|         834500.0|735590.9090909091|\n",
      "|2008-11-18 00:00:00|    2600| 950000|       house|       3|       532|838136.3636363636|792227.2727272727|\n",
      "|2008-11-21 00:00:00|    2600| 730000|       house|       3|       546|842681.8181818182|786772.7272727273|\n",
      "|2008-12-22 00:00:00|    2600| 855000|       house|       3|       701|845409.0909090909|         789500.0|\n",
      "|2008-12-24 00:00:00|    2600|1057500|       house|       4|       722|868590.9090909091|859045.4545454546|\n",
      "|2009-01-20 00:00:00|    2600|1150000|       house|       4|       765|846090.9090909091|894045.4545454546|\n",
      "|2009-01-22 00:00:00|    2600| 575000|       house|       3|       769|823363.6363636364|862045.4545454546|\n",
      "|2009-02-13 00:00:00|    2600| 880000|       house|       4|       847|844909.0909090909|816590.9090909091|\n",
      "|2009-03-17 00:00:00|    2600|1015000|       house|       4|       964|852181.8181818182|841590.9090909091|\n",
      "|2009-03-28 00:00:00|    2600| 722000|       house|       4|      1022|826727.2727272727|841772.7272727273|\n",
      "+-------------------+--------+-------+------------+--------+----------+-----------------+-----------------+\n",
      "only showing top 20 rows\n",
      "\n"
     ]
    }
   ],
   "source": [
    "data_rn.show(5)"
   ]
  },
  {
   "cell_type": "code",
   "execution_count": 414,
   "metadata": {},
   "outputs": [],
   "source": [
    "windSpec=Window()\\\n",
    ".partitionBy('postcode')\\\n",
    ".orderBy('datesold')\\\n",
    ".rowsBetween(Window.currentRow, Window.currentRow+10)"
   ]
  },
  {
   "cell_type": "code",
   "execution_count": 416,
   "metadata": {},
   "outputs": [],
   "source": [
    "data_rn=data_rn.withColumn('10_avg_after', F.avg('Price').over(windSpec))"
   ]
  },
  {
   "cell_type": "markdown",
   "metadata": {},
   "source": [
    "*  Стоимость последнего проданного дома до текущего"
   ]
  },
  {
   "cell_type": "code",
   "execution_count": 429,
   "metadata": {},
   "outputs": [],
   "source": [
    "windSpec=Window()\\\n",
    ".partitionBy('postcode')\\\n",
    ".orderBy('datesold')\\\n",
    "# .rowsBetween(Window.currentRow, Window.currentRow)"
   ]
  },
  {
   "cell_type": "code",
   "execution_count": 430,
   "metadata": {},
   "outputs": [],
   "source": [
    "data_rn=data_rn.withColumn('last_sold', F.last('Price').over(windSpec))"
   ]
  },
  {
   "cell_type": "code",
   "execution_count": 567,
   "metadata": {},
   "outputs": [
    {
     "name": "stdout",
     "output_type": "stream",
     "text": [
      "+-------------------+--------+------+------------+--------+----------+-----------------+-----------------+---------+\n",
      "|           datesold|postcode| price|propertyType|bedrooms|row_number|     10_avg_after|    10_avg_before|last_sold|\n",
      "+-------------------+--------+------+------------+--------+----------+-----------------+-----------------+---------+\n",
      "|2007-07-08 00:00:00|    2600|327000|       house|       1|        20|735590.9090909091|         327000.0|   327000|\n",
      "|2007-08-16 00:00:00|    2600|790000|       house|       4|        40|792227.2727272727|         558500.0|   790000|\n",
      "|2007-12-05 00:00:00|    2600|825000|       house|       3|       115|786772.7272727273|647333.3333333334|   825000|\n",
      "|2008-04-24 00:00:00|    2600|292500|       house|       1|       190|         789500.0|         558625.0|   292500|\n",
      "|2008-06-19 00:00:00|    2600|765000|       house|       5|       230|859045.4545454546|         599900.0|   765000|\n",
      "+-------------------+--------+------+------------+--------+----------+-----------------+-----------------+---------+\n",
      "only showing top 5 rows\n",
      "\n"
     ]
    }
   ],
   "source": [
    "data_rn.show(5)"
   ]
  },
  {
   "cell_type": "markdown",
   "metadata": {},
   "source": [
    "### Задание 2\n",
    "В итоге у вас таблица с колонками (или нечто похожее):\n",
    "*   price\n",
    "*   Среднегодовая цена\n",
    "*   Средняя стомость 10 проданных домов до текущего в том же районе (4digit postcode) (1 балл)\n",
    "*   Средняя стомость 10 проданных домов после текущего в том же районе (4digit postcode) (1 балл)\n",
    "*   Стоимость последнего проданного дома до текущего ((1 балл)\n",
    "*   и др.\n",
    "\n",
    "Посчитайте кол-во уникальных значений в каждой строчке (unique(row)) (ипользуйте udf). Попробуйте сделать то же самое используя pandas udf."
   ]
  },
  {
   "cell_type": "code",
   "execution_count": 542,
   "metadata": {},
   "outputs": [],
   "source": [
    "from pyspark.sql.types import IntegerType,StringType,ArrayType,FloatType"
   ]
  },
  {
   "cell_type": "code",
   "execution_count": 680,
   "metadata": {},
   "outputs": [
    {
     "name": "stdout",
     "output_type": "stream",
     "text": [
      "+-------------------+--------+-------+------------+--------+----------+-----------------+-----------------+---------+-----+\n",
      "|           datesold|postcode|  price|propertyType|bedrooms|row_number|     10_avg_after|    10_avg_before|last_sold|value|\n",
      "+-------------------+--------+-------+------------+--------+----------+-----------------+-----------------+---------+-----+\n",
      "|2007-07-08 00:00:00|    2600| 327000|       house|       1|        20|735590.9090909091|         327000.0|   327000|    8|\n",
      "|2007-08-16 00:00:00|    2600| 790000|       house|       4|        40|792227.2727272727|         558500.0|   790000|    8|\n",
      "|2007-12-05 00:00:00|    2600| 825000|       house|       3|       115|786772.7272727273|647333.3333333334|   825000|    8|\n",
      "|2008-04-24 00:00:00|    2600| 292500|       house|       1|       190|         789500.0|         558625.0|   292500|    8|\n",
      "|2008-06-19 00:00:00|    2600| 765000|       house|       5|       230|859045.4545454546|         599900.0|   765000|    8|\n",
      "|2008-07-29 00:00:00|    2600| 927000|       house|       4|       270|894045.4545454546|654416.6666666666|   927000|    8|\n",
      "|2008-09-02 00:00:00|    2600|1380000|       house|       5|       327|862045.4545454546|758071.4285714285|  1380000|    8|\n",
      "|2008-09-08 00:00:00|    2600| 740000|       house|       3|       339|816590.9090909091|         755812.5|   740000|    8|\n",
      "|2008-09-17 00:00:00|    2600| 720000|       house|       3|       356|841590.9090909091|751833.3333333334|   720000|    8|\n",
      "|2008-09-22 00:00:00|    2600| 690000|       house|       4|       381|841772.7272727273|         745650.0|   690000|    8|\n",
      "|2008-11-18 00:00:00|    2600| 635000|       house|       3|       531|         834500.0|735590.9090909091|   950000|    9|\n",
      "|2008-11-18 00:00:00|    2600| 950000|       house|       3|       532|838136.3636363636|792227.2727272727|   950000|    8|\n",
      "|2008-11-21 00:00:00|    2600| 730000|       house|       3|       546|842681.8181818182|786772.7272727273|   730000|    8|\n",
      "|2008-12-22 00:00:00|    2600| 855000|       house|       3|       701|845409.0909090909|         789500.0|   855000|    8|\n",
      "|2008-12-24 00:00:00|    2600|1057500|       house|       4|       722|868590.9090909091|859045.4545454546|  1057500|    8|\n",
      "|2009-01-20 00:00:00|    2600|1150000|       house|       4|       765|846090.9090909091|894045.4545454546|  1150000|    8|\n",
      "|2009-01-22 00:00:00|    2600| 575000|       house|       3|       769|823363.6363636364|862045.4545454546|   575000|    8|\n",
      "|2009-02-13 00:00:00|    2600| 880000|       house|       4|       847|844909.0909090909|816590.9090909091|   880000|    8|\n",
      "|2009-03-17 00:00:00|    2600|1015000|       house|       4|       964|852181.8181818182|841590.9090909091|  1015000|    8|\n",
      "|2009-03-28 00:00:00|    2600| 722000|       house|       4|      1022|826727.2727272727|841772.7272727273|   722000|    8|\n",
      "+-------------------+--------+-------+------------+--------+----------+-----------------+-----------------+---------+-----+\n",
      "only showing top 20 rows\n",
      "\n"
     ]
    }
   ],
   "source": [
    "#testing....sum of rows\n",
    "index=['datesold', 'postcode', 'price', 'propertyType', 'bedrooms', 'row_number',\n",
    "       '10_avg_after', '10_avg_before', 'last_sold']\n",
    "\n",
    "def f(row):\n",
    "    return len(set(row))\n",
    "\n",
    "\n",
    "udf_f = F.udf(f, returnType=(StringType()))\n",
    "\n",
    "data_rn.withColumn('value', udf_f(F.array(data_rn['datesold'],data_rn['postcode'],data_rn['price'],data_rn['propertyType'],data_rn['bedrooms'],data_rn['row_number'],data_rn['10_avg_after'],data_rn['10_avg_before'],data_rn['last_sold']))).show()"
   ]
  },
  {
   "cell_type": "markdown",
   "metadata": {},
   "source": [
    "# Задание 3\n",
    "SQL like case when или if elif else\n",
    "\n",
    "Создайте колонку, в которой в которой будет отображаться \"+\", \"-\" или \"=\", если \"Средняя стомость 10 проданных домов до текущего в том же районе\" больше, меньше или равно \"Средняя стомость 10 проданных домов после текущего в том же районе (4digit postcode)\", соотвественно.\n",
    "\n",
    "Если одно из полей Null, запишите в эту колонку \"Нет данных\""
   ]
  },
  {
   "cell_type": "code",
   "execution_count": 655,
   "metadata": {},
   "outputs": [
    {
     "name": "stdout",
     "output_type": "stream",
     "text": [
      "+-----------------+-----------------+---+\n",
      "|     10_avg_after|    10_avg_before|col|\n",
      "+-----------------+-----------------+---+\n",
      "|735590.9090909091|         327000.0|  +|\n",
      "|792227.2727272727|         558500.0|  +|\n",
      "|786772.7272727273|647333.3333333334|  +|\n",
      "|         789500.0|         558625.0|  +|\n",
      "|859045.4545454546|         599900.0|  +|\n",
      "|894045.4545454546|654416.6666666666|  +|\n",
      "|862045.4545454546|758071.4285714285|  +|\n",
      "|816590.9090909091|         755812.5|  +|\n",
      "|841590.9090909091|751833.3333333334|  +|\n",
      "|841772.7272727273|         745650.0|  +|\n",
      "|         834500.0|735590.9090909091|  +|\n",
      "|838136.3636363636|792227.2727272727|  +|\n",
      "|842681.8181818182|786772.7272727273|  +|\n",
      "|845409.0909090909|         789500.0|  +|\n",
      "|868590.9090909091|859045.4545454546|  +|\n",
      "|846090.9090909091|894045.4545454546|  -|\n",
      "|823363.6363636364|862045.4545454546|  -|\n",
      "|844909.0909090909|816590.9090909091|  +|\n",
      "|852181.8181818182|841590.9090909091|  +|\n",
      "|826727.2727272727|841772.7272727273|  -|\n",
      "+-----------------+-----------------+---+\n",
      "only showing top 20 rows\n",
      "\n"
     ]
    }
   ],
   "source": [
    "data_rn.select(data_rn['10_avg_after'],data_rn['10_avg_before'],F.when(data_rn['10_avg_after'] > data_rn['10_avg_before'],'+')\\\n",
    ".when(data_rn['10_avg_after'] < data_rn['10_avg_before'],'-')\\\n",
    ".when(data_rn['10_avg_after'] == data_rn['10_avg_before'],'=')\\\n",
    ".otherwise('Нет данных')\\\n",
    ".alias('col'))\\\n",
    ".show()"
   ]
  },
  {
   "cell_type": "code",
   "execution_count": null,
   "metadata": {},
   "outputs": [],
   "source": []
  }
 ],
 "metadata": {
  "kernelspec": {
   "display_name": "Python 3",
   "language": "python",
   "name": "python3"
  },
  "language_info": {
   "codemirror_mode": {
    "name": "ipython",
    "version": 3
   },
   "file_extension": ".py",
   "mimetype": "text/x-python",
   "name": "python",
   "nbconvert_exporter": "python",
   "pygments_lexer": "ipython3",
   "version": "3.8.5"
  }
 },
 "nbformat": 4,
 "nbformat_minor": 4
}
