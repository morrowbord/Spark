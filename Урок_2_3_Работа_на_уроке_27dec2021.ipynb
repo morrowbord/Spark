{
  "nbformat": 4,
  "nbformat_minor": 0,
  "metadata": {
    "colab": {
      "name": "Урок 2 - 3. Работа на уроке. 27dec2021.ipynb",
      "provenance": [],
      "collapsed_sections": [],
      "include_colab_link": true
    },
    "kernelspec": {
      "name": "python3",
      "display_name": "Python 3"
    },
    "language_info": {
      "name": "python"
    }
  },
  "cells": [
    {
      "cell_type": "markdown",
      "metadata": {
        "id": "view-in-github",
        "colab_type": "text"
      },
      "source": [
        "<a href=\"https://colab.research.google.com/github/morrowbord/Spark/blob/main/%D0%A3%D1%80%D0%BE%D0%BA_2_3_%D0%A0%D0%B0%D0%B1%D0%BE%D1%82%D0%B0_%D0%BD%D0%B0_%D1%83%D1%80%D0%BE%D0%BA%D0%B5_27dec2021.ipynb\" target=\"_parent\"><img src=\"https://colab.research.google.com/assets/colab-badge.svg\" alt=\"Open In Colab\"/></a>"
      ]
    },
    {
      "cell_type": "markdown",
      "metadata": {
        "id": "iEDgw8IxGOBV"
      },
      "source": [
        "# Узнаем кол-во потоков"
      ]
    },
    {
      "cell_type": "code",
      "metadata": {
        "colab": {
          "base_uri": "https://localhost:8080/"
        },
        "id": "DR6RRGackH3u",
        "outputId": "2c6347ad-fc12-42a3-c728-790228a739d9"
      },
      "source": [
        "pip install pyspark"
      ],
      "execution_count": null,
      "outputs": [
        {
          "output_type": "stream",
          "name": "stdout",
          "text": [
            "Collecting pyspark\n",
            "  Downloading pyspark-3.2.0.tar.gz (281.3 MB)\n",
            "\u001b[K     |████████████████████████████████| 281.3 MB 36 kB/s \n",
            "\u001b[?25hCollecting py4j==0.10.9.2\n",
            "  Downloading py4j-0.10.9.2-py2.py3-none-any.whl (198 kB)\n",
            "\u001b[K     |████████████████████████████████| 198 kB 53.5 MB/s \n",
            "\u001b[?25hBuilding wheels for collected packages: pyspark\n",
            "  Building wheel for pyspark (setup.py) ... \u001b[?25l\u001b[?25hdone\n",
            "  Created wheel for pyspark: filename=pyspark-3.2.0-py2.py3-none-any.whl size=281805912 sha256=f5be70708be892688ae7087f12744acddc726edd5e84284f75b8b34db111f996\n",
            "  Stored in directory: /root/.cache/pip/wheels/0b/de/d2/9be5d59d7331c6c2a7c1b6d1a4f463ce107332b1ecd4e80718\n",
            "Successfully built pyspark\n",
            "Installing collected packages: py4j, pyspark\n",
            "Successfully installed py4j-0.10.9.2 pyspark-3.2.0\n"
          ]
        }
      ]
    },
    {
      "cell_type": "code",
      "source": [
        "!wget https://bin.equinox.io/c/4VmDzA7iaHb/ngrok-stable-linux-amd64.zip\n",
        "!unzip ngrok-stable-linux-amd64.zip\n",
        "!./ngrok authtoken ВАШТОКЕН\n",
        "get_ipython().system_raw('./ngrok http 4050 &')"
      ],
      "metadata": {
        "id": "kesmnayNA-3n"
      },
      "execution_count": null,
      "outputs": []
    },
    {
      "cell_type": "code",
      "metadata": {
        "colab": {
          "base_uri": "https://localhost:8080/"
        },
        "id": "vkkOsRvDF4vV",
        "outputId": "8e671834-5a78-4902-b799-ed8a0afecb79"
      },
      "source": [
        "!lscpu"
      ],
      "execution_count": null,
      "outputs": [
        {
          "output_type": "stream",
          "name": "stdout",
          "text": [
            "Architecture:        x86_64\n",
            "CPU op-mode(s):      32-bit, 64-bit\n",
            "Byte Order:          Little Endian\n",
            "CPU(s):              2\n",
            "On-line CPU(s) list: 0,1\n",
            "Thread(s) per core:  2\n",
            "Core(s) per socket:  1\n",
            "Socket(s):           1\n",
            "NUMA node(s):        1\n",
            "Vendor ID:           GenuineIntel\n",
            "CPU family:          6\n",
            "Model:               79\n",
            "Model name:          Intel(R) Xeon(R) CPU @ 2.20GHz\n",
            "Stepping:            0\n",
            "CPU MHz:             2199.998\n",
            "BogoMIPS:            4399.99\n",
            "Hypervisor vendor:   KVM\n",
            "Virtualization type: full\n",
            "L1d cache:           32K\n",
            "L1i cache:           32K\n",
            "L2 cache:            256K\n",
            "L3 cache:            56320K\n",
            "NUMA node0 CPU(s):   0,1\n",
            "Flags:               fpu vme de pse tsc msr pae mce cx8 apic sep mtrr pge mca cmov pat pse36 clflush mmx fxsr sse sse2 ss ht syscall nx pdpe1gb rdtscp lm constant_tsc rep_good nopl xtopology nonstop_tsc cpuid tsc_known_freq pni pclmulqdq ssse3 fma cx16 pcid sse4_1 sse4_2 x2apic movbe popcnt aes xsave avx f16c rdrand hypervisor lahf_lm abm 3dnowprefetch invpcid_single ssbd ibrs ibpb stibp fsgsbase tsc_adjust bmi1 hle avx2 smep bmi2 erms invpcid rtm rdseed adx smap xsaveopt arat md_clear arch_capabilities\n"
          ]
        }
      ]
    },
    {
      "cell_type": "markdown",
      "metadata": {
        "id": "VvQjP37HKTHi"
      },
      "source": [
        "# Настройка SparkSession\n",
        "Основные параметры:\n",
        "\n",
        " * -num-executors (spark.executor.instances) — количество экзекьютеров, \n",
        " * --executor-memory (spark.executor.memory) — количество памяти у экзекьютера,\n",
        " * --execuor-cores (park.executor.cores) — количество ядер у экзекьютера.\n",
        "\n",
        "На каждом сервере исполняется ОС, Hadoop/Yarn/OS Deamons, HDFS. Часть ресурсов потребляют они. HDFS (и другие файловые системы) имеют свою пропускную способность. Так же нужно учитывать сборщик мусора.\n",
        "\n",
        "Есть две крайности: 1 ядро - 1 таск, 1 нода - 1 таск. Чаще всего оба варианта не самые удачные.\n",
        "\n",
        "Рекомендация: не больше 5 ядер на 1 экзекьютор из-за пропуской способности HDFS."
      ]
    },
    {
      "cell_type": "markdown",
      "metadata": {
        "id": "okNt5RoBLOUq"
      },
      "source": [
        "## executor-memory\n",
        "![Image of Yaktocat](https://miro.medium.com/max/1400/1*8yviZQXq9rXgBoup8W-kHA.png)"
      ]
    },
    {
      "cell_type": "code",
      "metadata": {
        "id": "9vgsgROrkOxb"
      },
      "source": [
        "spark = SparkSession.builder.getOrCreate()"
      ],
      "execution_count": null,
      "outputs": []
    },
    {
      "cell_type": "code",
      "metadata": {
        "id": "idrMQH4dj605"
      },
      "source": [
        "from pyspark.sql import SparkSession\n",
        "\n",
        "\n",
        "spark = SparkSession.builder\\\n",
        "        .master('local[4]')\\\n",
        "        .appName('Lesson_2')\\\n",
        "        .config('spark.ui.port', '4050')\\\n",
        "        .config('spark.executor.instances', 4)\\\n",
        "        .config('spark.executor.memory', f'{int(3000/1.1)}mb')\\\n",
        "        .config('spark.executor.cores', 1)\\\n",
        "        .getOrCreate()\n",
        "\n",
        "sc = spark.sparkContext"
      ],
      "execution_count": null,
      "outputs": []
    },
    {
      "cell_type": "code",
      "metadata": {
        "colab": {
          "base_uri": "https://localhost:8080/",
          "height": 222
        },
        "id": "ZfhfV3EWHzqB",
        "outputId": "379fc883-a96d-4d0f-bf43-7c9cf69ac2fd"
      },
      "source": [
        "spark"
      ],
      "execution_count": null,
      "outputs": [
        {
          "output_type": "execute_result",
          "data": {
            "text/html": [
              "\n",
              "            <div>\n",
              "                <p><b>SparkSession - in-memory</b></p>\n",
              "                \n",
              "        <div>\n",
              "            <p><b>SparkContext</b></p>\n",
              "\n",
              "            <p><a href=\"http://b2ac79391a62:4050\">Spark UI</a></p>\n",
              "\n",
              "            <dl>\n",
              "              <dt>Version</dt>\n",
              "                <dd><code>v3.2.0</code></dd>\n",
              "              <dt>Master</dt>\n",
              "                <dd><code>local[4]</code></dd>\n",
              "              <dt>AppName</dt>\n",
              "                <dd><code>Lesson_2</code></dd>\n",
              "            </dl>\n",
              "        </div>\n",
              "        \n",
              "            </div>\n",
              "        "
            ],
            "text/plain": [
              "<pyspark.sql.session.SparkSession at 0x7f7095c460d0>"
            ]
          },
          "metadata": {},
          "execution_count": 4
        }
      ]
    },
    {
      "cell_type": "markdown",
      "metadata": {
        "id": "JS3CkwetBxfz"
      },
      "source": [
        "# Пример из презентации"
      ]
    },
    {
      "cell_type": "code",
      "metadata": {
        "colab": {
          "base_uri": "https://localhost:8080/"
        },
        "id": "cplO_s7cB0YO",
        "outputId": "026ff984-6efc-4173-a314-0ba7c754fbdf"
      },
      "source": [
        "rdd = sc.parallelize(['After all is', 'said and', 'done more is', 'said than done'])\n",
        "print(f'Кол-во партиций: {rdd.getNumPartitions()}')"
      ],
      "execution_count": null,
      "outputs": [
        {
          "output_type": "stream",
          "name": "stdout",
          "text": [
            "Кол-во партиций: 4\n"
          ]
        }
      ]
    },
    {
      "cell_type": "code",
      "metadata": {
        "colab": {
          "base_uri": "https://localhost:8080/"
        },
        "id": "Rw8gyR7vZH9M",
        "outputId": "43b9884c-67ad-47c3-812a-e8ff9c3b47f9"
      },
      "source": [
        "# Как данные раскиданы по партициям\n",
        "rdd.glom().collect()"
      ],
      "execution_count": null,
      "outputs": [
        {
          "output_type": "execute_result",
          "data": {
            "text/plain": [
              "[['After all is'], ['said and'], ['done more is'], ['said than done']]"
            ]
          },
          "metadata": {},
          "execution_count": 7
        }
      ]
    },
    {
      "cell_type": "code",
      "metadata": {
        "colab": {
          "base_uri": "https://localhost:8080/"
        },
        "id": "ZvaOvEH4ZU0P",
        "outputId": "c3c0b210-3f07-4d96-eeb5-15b57f750f33"
      },
      "source": [
        "# Кол-во партиций можно изменить\n",
        "rdd.repartition(2).glom().collect(), rdd.repartition(2).getNumPartitions()"
      ],
      "execution_count": null,
      "outputs": [
        {
          "output_type": "execute_result",
          "data": {
            "text/plain": [
              "([['After all is', 'done more is', 'said than done'], ['said and']], 2)"
            ]
          },
          "metadata": {},
          "execution_count": 8
        }
      ]
    },
    {
      "cell_type": "code",
      "metadata": {
        "colab": {
          "base_uri": "https://localhost:8080/"
        },
        "id": "5HQLLFJWoLX_",
        "outputId": "c9d6f92b-22e1-4b22-96fe-0c81422816a7"
      },
      "source": [
        "rdd.coalesce(2).glom().collect()"
      ],
      "execution_count": null,
      "outputs": [
        {
          "output_type": "execute_result",
          "data": {
            "text/plain": [
              "[['After all is', 'said and'], ['done more is', 'said than done']]"
            ]
          },
          "metadata": {},
          "execution_count": 9
        }
      ]
    },
    {
      "cell_type": "code",
      "metadata": {
        "colab": {
          "base_uri": "https://localhost:8080/"
        },
        "id": "0Ea-mwugoaZQ",
        "outputId": "36f5d0f9-a467-41f2-99e9-0482a97fafcf"
      },
      "source": [
        "rdd.flatMap(lambda row: row.split())\\\n",
        ".map(lambda word: (word, 1))\\\n",
        ".reduceByKey(lambda a, b: a + b)\\\n",
        ".sortByKey(lambda row: row[0]).collect()"
      ],
      "execution_count": null,
      "outputs": [
        {
          "output_type": "execute_result",
          "data": {
            "text/plain": [
              "[('After', 1),\n",
              " ('all', 1),\n",
              " ('and', 1),\n",
              " ('done', 2),\n",
              " ('is', 2),\n",
              " ('more', 1),\n",
              " ('said', 2),\n",
              " ('than', 1)]"
            ]
          },
          "metadata": {},
          "execution_count": 27
        }
      ]
    },
    {
      "cell_type": "code",
      "metadata": {
        "id": "FlYHMwlMZxn0"
      },
      "source": [
        "# Создаём нужный нам rdd\n",
        "rdd = rdd.flatMap(lambda row: row.split()).map(lambda row: (row, 1)).reduceByKey(lambda x, y: x + y)"
      ],
      "execution_count": null,
      "outputs": []
    },
    {
      "cell_type": "code",
      "metadata": {
        "colab": {
          "base_uri": "https://localhost:8080/"
        },
        "id": "BjZYBREK2jKp",
        "outputId": "b39d3836-41a2-44bc-ca0b-4063dedcaa92"
      },
      "source": [
        "# Забираем данные (в  этот момент запускаются вычисления)\n",
        "rdd.collect()"
      ],
      "execution_count": null,
      "outputs": [
        {
          "output_type": "execute_result",
          "data": {
            "text/plain": [
              "[('After', 1),\n",
              " ('and', 1),\n",
              " ('is', 2),\n",
              " ('said', 2),\n",
              " ('more', 1),\n",
              " ('than', 1),\n",
              " ('all', 1),\n",
              " ('done', 2)]"
            ]
          },
          "metadata": {},
          "execution_count": 12
        }
      ]
    },
    {
      "cell_type": "markdown",
      "metadata": {
        "id": "wTp8Zijl3t0T"
      },
      "source": [
        "# Примеры RDD\n",
        "\n",
        " * In-Memory Processing\n",
        " * Immutability\n",
        " * Fault Tolerance\n",
        " * Lazy Evolution\n",
        " * Partitioning\n",
        " * Parallelize"
      ]
    },
    {
      "cell_type": "markdown",
      "metadata": {
        "id": "FjAfrNtXSKBz"
      },
      "source": [
        "## Считывание данных\n",
        "Данные взяты отсюда: https://www.kaggle.com/iabhishekofficial/mobile-price-classification\n",
        "Скачиваем и копируем в папку с нотебуком\n",
        "\n",
        "Внутри содержится следующая информация:\n",
        "\n",
        "* id: ID\n",
        "* battery_power: Total energy a battery can store in one time (mAh)\n",
        "* blue: Support bluetooth or not\n",
        "* clock_speed: Speed at which microprocessor executes instructions\n",
        "* dual_sim: Support dual sim or not\n",
        "* fc: Front Camera mega pixels\n",
        "* four_g: Support 4G or not\n",
        "* int_memory: Internal Memory (GB)\n",
        "* m_dep: Mobile Depth (cm)\n",
        "* mobile_wt: Weight of mobile phone\n",
        "* n_cores: Number of cores of processor\n",
        "* pc: Primary Camera mega pixels\n",
        "* px_height: Pixel Resolution Height\n",
        "* px_width: Pixel Resolution Width\n",
        "* ram: Random Access Memory (MB)\n",
        "* sc_h: Screen Height of mobile (cm)\n",
        "* sc_w: Screen Width of mobile (cm)\n",
        "* talk_time: Time that a single battery charge will last\n",
        "* three_g: Support 3G or not\n",
        "* touch_screen: Has touch screen or not\n",
        "* wifi: Support wifi or not"
      ]
    },
    {
      "cell_type": "code",
      "metadata": {
        "id": "SJrR2EoKR4rC"
      },
      "source": [
        "# Вспомогательная функция\n",
        "\n",
        "def beautiful_print(rdd, num, title):\n",
        "    print(title)\n",
        "    for row in rdd.take(num):\n",
        "        print('\\t', row)"
      ],
      "execution_count": null,
      "outputs": []
    },
    {
      "cell_type": "code",
      "metadata": {
        "id": "3VyKjYOSkLlp"
      },
      "source": [
        "data = sc.textFile('train.csv')"
      ],
      "execution_count": null,
      "outputs": []
    },
    {
      "cell_type": "code",
      "metadata": {
        "colab": {
          "base_uri": "https://localhost:8080/"
        },
        "id": "AQnQx9omdf2s",
        "outputId": "f8289e82-99a7-43b3-d5f5-51a619683055"
      },
      "source": [
        "data.take(3)"
      ],
      "execution_count": null,
      "outputs": [
        {
          "output_type": "execute_result",
          "data": {
            "text/plain": [
              "['battery_power,blue,clock_speed,dual_sim,fc,four_g,int_memory,m_dep,mobile_wt,n_cores,pc,px_height,px_width,ram,sc_h,sc_w,talk_time,three_g,touch_screen,wifi,price_range',\n",
              " '842,0,2.2,0,1,0,7,0.6,188,2,2,20,756,2549,9,7,19,0,0,1,1',\n",
              " '1021,1,0.5,1,0,1,53,0.7,136,3,6,905,1988,2631,17,3,7,1,1,0,2']"
            ]
          },
          "metadata": {},
          "execution_count": 31
        }
      ]
    },
    {
      "cell_type": "code",
      "metadata": {
        "id": "gg2rO3QtIs_L",
        "colab": {
          "base_uri": "https://localhost:8080/",
          "height": 54
        },
        "outputId": "ecf9aeed-6516-45ad-de43-502e34aff6af"
      },
      "source": [
        "data_header = data.first()\n",
        "data_header"
      ],
      "execution_count": null,
      "outputs": [
        {
          "output_type": "execute_result",
          "data": {
            "application/vnd.google.colaboratory.intrinsic+json": {
              "type": "string"
            },
            "text/plain": [
              "'battery_power,blue,clock_speed,dual_sim,fc,four_g,int_memory,m_dep,mobile_wt,n_cores,pc,px_height,px_width,ram,sc_h,sc_w,talk_time,three_g,touch_screen,wifi,price_range'"
            ]
          },
          "metadata": {},
          "execution_count": 33
        }
      ]
    },
    {
      "cell_type": "code",
      "metadata": {
        "id": "B6WrI_C3eXSZ"
      },
      "source": [
        "data = data\\\n",
        "    .filter(lambda row: row != data_header)\\\n",
        "    .map(lambda row: [float(el) for el in row.split(',')])"
      ],
      "execution_count": null,
      "outputs": []
    },
    {
      "cell_type": "code",
      "metadata": {
        "id": "NFZ298-crLNV"
      },
      "source": [
        "data.collect()"
      ],
      "execution_count": null,
      "outputs": []
    },
    {
      "cell_type": "code",
      "metadata": {
        "colab": {
          "base_uri": "https://localhost:8080/"
        },
        "id": "4x92FuUkemOK",
        "outputId": "b5885a8a-73c3-4a9c-a842-9b1760235ba0"
      },
      "source": [
        "beautiful_print(data, 30, 'Our rdd')"
      ],
      "execution_count": null,
      "outputs": [
        {
          "output_type": "stream",
          "name": "stdout",
          "text": [
            "Our rdd\n",
            "\t [842.0, 0.0, 2.2, 0.0, 1.0, 0.0, 7.0, 0.6, 188.0, 2.0, 2.0, 20.0, 756.0, 2549.0, 9.0, 7.0, 19.0, 0.0, 0.0, 1.0, 1.0]\n",
            "\t [1021.0, 1.0, 0.5, 1.0, 0.0, 1.0, 53.0, 0.7, 136.0, 3.0, 6.0, 905.0, 1988.0, 2631.0, 17.0, 3.0, 7.0, 1.0, 1.0, 0.0, 2.0]\n",
            "\t [563.0, 1.0, 0.5, 1.0, 2.0, 1.0, 41.0, 0.9, 145.0, 5.0, 6.0, 1263.0, 1716.0, 2603.0, 11.0, 2.0, 9.0, 1.0, 1.0, 0.0, 2.0]\n",
            "\t [615.0, 1.0, 2.5, 0.0, 0.0, 0.0, 10.0, 0.8, 131.0, 6.0, 9.0, 1216.0, 1786.0, 2769.0, 16.0, 8.0, 11.0, 1.0, 0.0, 0.0, 2.0]\n",
            "\t [1821.0, 1.0, 1.2, 0.0, 13.0, 1.0, 44.0, 0.6, 141.0, 2.0, 14.0, 1208.0, 1212.0, 1411.0, 8.0, 2.0, 15.0, 1.0, 1.0, 0.0, 1.0]\n",
            "\t [1859.0, 0.0, 0.5, 1.0, 3.0, 0.0, 22.0, 0.7, 164.0, 1.0, 7.0, 1004.0, 1654.0, 1067.0, 17.0, 1.0, 10.0, 1.0, 0.0, 0.0, 1.0]\n",
            "\t [1821.0, 0.0, 1.7, 0.0, 4.0, 1.0, 10.0, 0.8, 139.0, 8.0, 10.0, 381.0, 1018.0, 3220.0, 13.0, 8.0, 18.0, 1.0, 0.0, 1.0, 3.0]\n",
            "\t [1954.0, 0.0, 0.5, 1.0, 0.0, 0.0, 24.0, 0.8, 187.0, 4.0, 0.0, 512.0, 1149.0, 700.0, 16.0, 3.0, 5.0, 1.0, 1.0, 1.0, 0.0]\n",
            "\t [1445.0, 1.0, 0.5, 0.0, 0.0, 0.0, 53.0, 0.7, 174.0, 7.0, 14.0, 386.0, 836.0, 1099.0, 17.0, 1.0, 20.0, 1.0, 0.0, 0.0, 0.0]\n",
            "\t [509.0, 1.0, 0.6, 1.0, 2.0, 1.0, 9.0, 0.1, 93.0, 5.0, 15.0, 1137.0, 1224.0, 513.0, 19.0, 10.0, 12.0, 1.0, 0.0, 0.0, 0.0]\n",
            "\t [769.0, 1.0, 2.9, 1.0, 0.0, 0.0, 9.0, 0.1, 182.0, 5.0, 1.0, 248.0, 874.0, 3946.0, 5.0, 2.0, 7.0, 0.0, 0.0, 0.0, 3.0]\n",
            "\t [1520.0, 1.0, 2.2, 0.0, 5.0, 1.0, 33.0, 0.5, 177.0, 8.0, 18.0, 151.0, 1005.0, 3826.0, 14.0, 9.0, 13.0, 1.0, 1.0, 1.0, 3.0]\n",
            "\t [1815.0, 0.0, 2.8, 0.0, 2.0, 0.0, 33.0, 0.6, 159.0, 4.0, 17.0, 607.0, 748.0, 1482.0, 18.0, 0.0, 2.0, 1.0, 0.0, 0.0, 1.0]\n",
            "\t [803.0, 1.0, 2.1, 0.0, 7.0, 0.0, 17.0, 1.0, 198.0, 4.0, 11.0, 344.0, 1440.0, 2680.0, 7.0, 1.0, 4.0, 1.0, 0.0, 1.0, 2.0]\n",
            "\t [1866.0, 0.0, 0.5, 0.0, 13.0, 1.0, 52.0, 0.7, 185.0, 1.0, 17.0, 356.0, 563.0, 373.0, 14.0, 9.0, 3.0, 1.0, 0.0, 1.0, 0.0]\n",
            "\t [775.0, 0.0, 1.0, 0.0, 3.0, 0.0, 46.0, 0.7, 159.0, 2.0, 16.0, 862.0, 1864.0, 568.0, 17.0, 15.0, 11.0, 1.0, 1.0, 1.0, 0.0]\n",
            "\t [838.0, 0.0, 0.5, 0.0, 1.0, 1.0, 13.0, 0.1, 196.0, 8.0, 4.0, 984.0, 1850.0, 3554.0, 10.0, 9.0, 19.0, 1.0, 0.0, 1.0, 3.0]\n",
            "\t [595.0, 0.0, 0.9, 1.0, 7.0, 1.0, 23.0, 0.1, 121.0, 3.0, 17.0, 441.0, 810.0, 3752.0, 10.0, 2.0, 18.0, 1.0, 1.0, 0.0, 3.0]\n",
            "\t [1131.0, 1.0, 0.5, 1.0, 11.0, 0.0, 49.0, 0.6, 101.0, 5.0, 18.0, 658.0, 878.0, 1835.0, 19.0, 13.0, 16.0, 1.0, 1.0, 0.0, 1.0]\n",
            "\t [682.0, 1.0, 0.5, 0.0, 4.0, 0.0, 19.0, 1.0, 121.0, 4.0, 11.0, 902.0, 1064.0, 2337.0, 11.0, 1.0, 18.0, 0.0, 1.0, 1.0, 1.0]\n",
            "\t [772.0, 0.0, 1.1, 1.0, 12.0, 0.0, 39.0, 0.8, 81.0, 7.0, 14.0, 1314.0, 1854.0, 2819.0, 17.0, 15.0, 3.0, 1.0, 1.0, 0.0, 3.0]\n",
            "\t [1709.0, 1.0, 2.1, 0.0, 1.0, 0.0, 13.0, 1.0, 156.0, 2.0, 2.0, 974.0, 1385.0, 3283.0, 17.0, 1.0, 15.0, 1.0, 0.0, 0.0, 3.0]\n",
            "\t [1949.0, 0.0, 2.6, 1.0, 4.0, 0.0, 47.0, 0.3, 199.0, 4.0, 7.0, 407.0, 822.0, 1433.0, 11.0, 5.0, 20.0, 0.0, 0.0, 1.0, 1.0]\n",
            "\t [1602.0, 1.0, 2.8, 1.0, 4.0, 1.0, 38.0, 0.7, 114.0, 3.0, 20.0, 466.0, 788.0, 1037.0, 8.0, 7.0, 20.0, 1.0, 0.0, 0.0, 0.0]\n",
            "\t [503.0, 0.0, 1.2, 1.0, 5.0, 1.0, 8.0, 0.4, 111.0, 3.0, 13.0, 201.0, 1245.0, 2583.0, 11.0, 0.0, 12.0, 1.0, 0.0, 0.0, 1.0]\n",
            "\t [961.0, 1.0, 1.4, 1.0, 0.0, 1.0, 57.0, 0.6, 114.0, 8.0, 3.0, 291.0, 1434.0, 2782.0, 18.0, 9.0, 7.0, 1.0, 1.0, 1.0, 2.0]\n",
            "\t [519.0, 1.0, 1.6, 1.0, 7.0, 1.0, 51.0, 0.3, 132.0, 4.0, 19.0, 550.0, 645.0, 3763.0, 16.0, 1.0, 4.0, 1.0, 0.0, 1.0, 3.0]\n",
            "\t [956.0, 0.0, 0.5, 0.0, 1.0, 1.0, 41.0, 1.0, 143.0, 7.0, 6.0, 511.0, 1075.0, 3286.0, 17.0, 8.0, 12.0, 1.0, 1.0, 0.0, 3.0]\n",
            "\t [1453.0, 0.0, 1.6, 1.0, 12.0, 1.0, 52.0, 0.3, 96.0, 2.0, 18.0, 187.0, 1311.0, 2373.0, 10.0, 1.0, 10.0, 1.0, 1.0, 1.0, 2.0]\n",
            "\t [851.0, 0.0, 0.5, 0.0, 3.0, 0.0, 21.0, 0.4, 200.0, 5.0, 7.0, 1171.0, 1263.0, 478.0, 12.0, 7.0, 10.0, 1.0, 0.0, 1.0, 0.0]\n"
          ]
        }
      ]
    },
    {
      "cell_type": "code",
      "metadata": {
        "colab": {
          "base_uri": "https://localhost:8080/"
        },
        "id": "vZv3ZVHjgbCZ",
        "outputId": "61c1b782-3d86-4c11-ecd6-3d781cf1fe6f"
      },
      "source": [
        "col_num = data_header.split(',').index('n_cores')\n",
        "data.map(lambda row: (row[col_num], 1)).reduceByKey(lambda x, y: x + y ).sortByKey().collect()"
      ],
      "execution_count": null,
      "outputs": [
        {
          "output_type": "execute_result",
          "data": {
            "text/plain": [
              "[(1.0, 242),\n",
              " (2.0, 247),\n",
              " (3.0, 246),\n",
              " (4.0, 274),\n",
              " (5.0, 246),\n",
              " (6.0, 230),\n",
              " (7.0, 259),\n",
              " (8.0, 256)]"
            ]
          },
          "metadata": {},
          "execution_count": 22
        }
      ]
    },
    {
      "cell_type": "code",
      "metadata": {
        "colab": {
          "base_uri": "https://localhost:8080/"
        },
        "id": "cRdeGIKq24XN",
        "outputId": "991563ab-fbb2-47b8-edef-f6cdcafba6ef"
      },
      "source": [
        "sorted(data.map(lambda row: (row[col_num], 1)).reduceByKey(lambda x, y: x + y ).collect())"
      ],
      "execution_count": null,
      "outputs": [
        {
          "output_type": "execute_result",
          "data": {
            "text/plain": [
              "PythonRDD[27] at RDD at PythonRDD.scala:53"
            ]
          },
          "metadata": {},
          "execution_count": 23
        }
      ]
    },
    {
      "cell_type": "code",
      "metadata": {
        "colab": {
          "base_uri": "https://localhost:8080/"
        },
        "id": "jYP2GX0P3HWy",
        "outputId": "708adac0-5c8e-4699-deaa-e4d06c197492"
      },
      "source": [
        "data.map(lambda row: (row[col_num], 1)).countByKey()"
      ],
      "execution_count": null,
      "outputs": [
        {
          "output_type": "execute_result",
          "data": {
            "text/plain": [
              "defaultdict(int,\n",
              "            {1.0: 242,\n",
              "             2.0: 247,\n",
              "             3.0: 246,\n",
              "             4.0: 274,\n",
              "             5.0: 246,\n",
              "             6.0: 230,\n",
              "             7.0: 259,\n",
              "             8.0: 256})"
            ]
          },
          "metadata": {},
          "execution_count": 24
        }
      ]
    },
    {
      "cell_type": "markdown",
      "metadata": {
        "id": "I9mJRXP51FWO"
      },
      "source": [
        "# DataFrame"
      ]
    },
    {
      "cell_type": "code",
      "metadata": {
        "id": "jseGUIBukuXw"
      },
      "source": [
        "df = spark.read.csv('train.csv', header=True, inferSchema=True)"
      ],
      "execution_count": null,
      "outputs": []
    },
    {
      "cell_type": "code",
      "metadata": {
        "colab": {
          "base_uri": "https://localhost:8080/"
        },
        "id": "bWPMMEuMuKui",
        "outputId": "0fa9cb71-6c9f-4c34-802d-ce1a99d2c475"
      },
      "source": [
        "schema = df.schema\n",
        "schema"
      ],
      "execution_count": null,
      "outputs": [
        {
          "output_type": "execute_result",
          "data": {
            "text/plain": [
              "StructType(List(StructField(battery_power,IntegerType,true),StructField(blue,IntegerType,true),StructField(clock_speed,DoubleType,true),StructField(dual_sim,IntegerType,true),StructField(fc,IntegerType,true),StructField(four_g,IntegerType,true),StructField(int_memory,IntegerType,true),StructField(m_dep,DoubleType,true),StructField(mobile_wt,IntegerType,true),StructField(n_cores,IntegerType,true),StructField(pc,IntegerType,true),StructField(px_height,IntegerType,true),StructField(px_width,IntegerType,true),StructField(ram,IntegerType,true),StructField(sc_h,IntegerType,true),StructField(sc_w,IntegerType,true),StructField(talk_time,IntegerType,true),StructField(three_g,IntegerType,true),StructField(touch_screen,IntegerType,true),StructField(wifi,IntegerType,true),StructField(price_range,IntegerType,true)))"
            ]
          },
          "metadata": {},
          "execution_count": 45
        }
      ]
    },
    {
      "cell_type": "code",
      "metadata": {
        "colab": {
          "base_uri": "https://localhost:8080/"
        },
        "id": "YKujTb3FthaT",
        "outputId": "0ef242f6-da50-4c0b-d956-7c630f2168cb"
      },
      "source": [
        "df.take(10)"
      ],
      "execution_count": null,
      "outputs": [
        {
          "output_type": "execute_result",
          "data": {
            "text/plain": [
              "[Row(battery_power=842, blue=0, clock_speed=2.2, dual_sim=0, fc=1, four_g=0, int_memory=7, m_dep=0.6, mobile_wt=188, n_cores=2, pc=2, px_height=20, px_width=756, ram=2549, sc_h=9, sc_w=7, talk_time=19, three_g=0, touch_screen=0, wifi=1, price_range=1),\n",
              " Row(battery_power=1021, blue=1, clock_speed=0.5, dual_sim=1, fc=0, four_g=1, int_memory=53, m_dep=0.7, mobile_wt=136, n_cores=3, pc=6, px_height=905, px_width=1988, ram=2631, sc_h=17, sc_w=3, talk_time=7, three_g=1, touch_screen=1, wifi=0, price_range=2),\n",
              " Row(battery_power=563, blue=1, clock_speed=0.5, dual_sim=1, fc=2, four_g=1, int_memory=41, m_dep=0.9, mobile_wt=145, n_cores=5, pc=6, px_height=1263, px_width=1716, ram=2603, sc_h=11, sc_w=2, talk_time=9, three_g=1, touch_screen=1, wifi=0, price_range=2),\n",
              " Row(battery_power=615, blue=1, clock_speed=2.5, dual_sim=0, fc=0, four_g=0, int_memory=10, m_dep=0.8, mobile_wt=131, n_cores=6, pc=9, px_height=1216, px_width=1786, ram=2769, sc_h=16, sc_w=8, talk_time=11, three_g=1, touch_screen=0, wifi=0, price_range=2),\n",
              " Row(battery_power=1821, blue=1, clock_speed=1.2, dual_sim=0, fc=13, four_g=1, int_memory=44, m_dep=0.6, mobile_wt=141, n_cores=2, pc=14, px_height=1208, px_width=1212, ram=1411, sc_h=8, sc_w=2, talk_time=15, three_g=1, touch_screen=1, wifi=0, price_range=1),\n",
              " Row(battery_power=1859, blue=0, clock_speed=0.5, dual_sim=1, fc=3, four_g=0, int_memory=22, m_dep=0.7, mobile_wt=164, n_cores=1, pc=7, px_height=1004, px_width=1654, ram=1067, sc_h=17, sc_w=1, talk_time=10, three_g=1, touch_screen=0, wifi=0, price_range=1),\n",
              " Row(battery_power=1821, blue=0, clock_speed=1.7, dual_sim=0, fc=4, four_g=1, int_memory=10, m_dep=0.8, mobile_wt=139, n_cores=8, pc=10, px_height=381, px_width=1018, ram=3220, sc_h=13, sc_w=8, talk_time=18, three_g=1, touch_screen=0, wifi=1, price_range=3),\n",
              " Row(battery_power=1954, blue=0, clock_speed=0.5, dual_sim=1, fc=0, four_g=0, int_memory=24, m_dep=0.8, mobile_wt=187, n_cores=4, pc=0, px_height=512, px_width=1149, ram=700, sc_h=16, sc_w=3, talk_time=5, three_g=1, touch_screen=1, wifi=1, price_range=0),\n",
              " Row(battery_power=1445, blue=1, clock_speed=0.5, dual_sim=0, fc=0, four_g=0, int_memory=53, m_dep=0.7, mobile_wt=174, n_cores=7, pc=14, px_height=386, px_width=836, ram=1099, sc_h=17, sc_w=1, talk_time=20, three_g=1, touch_screen=0, wifi=0, price_range=0),\n",
              " Row(battery_power=509, blue=1, clock_speed=0.6, dual_sim=1, fc=2, four_g=1, int_memory=9, m_dep=0.1, mobile_wt=93, n_cores=5, pc=15, px_height=1137, px_width=1224, ram=513, sc_h=19, sc_w=10, talk_time=12, three_g=1, touch_screen=0, wifi=0, price_range=0)]"
            ]
          },
          "metadata": {},
          "execution_count": 40
        }
      ]
    },
    {
      "cell_type": "code",
      "metadata": {
        "colab": {
          "base_uri": "https://localhost:8080/"
        },
        "id": "6miCX-x048Zk",
        "outputId": "34f06dc1-7ad8-4d25-ee9d-c560d4203775"
      },
      "source": [
        "df.show(1, vertical=True)"
      ],
      "execution_count": null,
      "outputs": [
        {
          "output_type": "stream",
          "name": "stdout",
          "text": [
            "-RECORD 0-------------\n",
            " battery_power | 842  \n",
            " blue          | 0    \n",
            " clock_speed   | 2.2  \n",
            " dual_sim      | 0    \n",
            " fc            | 1    \n",
            " four_g        | 0    \n",
            " int_memory    | 7    \n",
            " m_dep         | 0.6  \n",
            " mobile_wt     | 188  \n",
            " n_cores       | 2    \n",
            " pc            | 2    \n",
            " px_height     | 20   \n",
            " px_width      | 756  \n",
            " ram           | 2549 \n",
            " sc_h          | 9    \n",
            " sc_w          | 7    \n",
            " talk_time     | 19   \n",
            " three_g       | 0    \n",
            " touch_screen  | 0    \n",
            " wifi          | 1    \n",
            " price_range   | 1    \n",
            "only showing top 1 row\n",
            "\n"
          ]
        }
      ]
    },
    {
      "cell_type": "code",
      "metadata": {
        "colab": {
          "base_uri": "https://localhost:8080/"
        },
        "id": "p8FHjLR33FFN",
        "outputId": "8ecab143-9c36-4e6d-c4f6-dc518fb48a53"
      },
      "source": [
        "df.dtypes"
      ],
      "execution_count": null,
      "outputs": [
        {
          "output_type": "execute_result",
          "data": {
            "text/plain": [
              "[('battery_power', 'int'),\n",
              " ('blue', 'int'),\n",
              " ('clock_speed', 'double'),\n",
              " ('dual_sim', 'int'),\n",
              " ('fc', 'int'),\n",
              " ('four_g', 'int'),\n",
              " ('int_memory', 'int'),\n",
              " ('m_dep', 'double'),\n",
              " ('mobile_wt', 'int'),\n",
              " ('n_cores', 'int'),\n",
              " ('pc', 'int'),\n",
              " ('px_height', 'int'),\n",
              " ('px_width', 'int'),\n",
              " ('ram', 'int'),\n",
              " ('sc_h', 'int'),\n",
              " ('sc_w', 'int'),\n",
              " ('talk_time', 'int'),\n",
              " ('three_g', 'int'),\n",
              " ('touch_screen', 'int'),\n",
              " ('wifi', 'int'),\n",
              " ('price_range', 'int')]"
            ]
          },
          "metadata": {},
          "execution_count": 42
        }
      ]
    },
    {
      "cell_type": "code",
      "metadata": {
        "colab": {
          "base_uri": "https://localhost:8080/"
        },
        "id": "UrjRnVON3HKQ",
        "outputId": "71a49828-6e81-4304-aeb4-4d12cb7449b1"
      },
      "source": [
        "df.printSchema()"
      ],
      "execution_count": null,
      "outputs": [
        {
          "output_type": "stream",
          "name": "stdout",
          "text": [
            "root\n",
            " |-- battery_power: integer (nullable = true)\n",
            " |-- blue: integer (nullable = true)\n",
            " |-- clock_speed: double (nullable = true)\n",
            " |-- dual_sim: integer (nullable = true)\n",
            " |-- fc: integer (nullable = true)\n",
            " |-- four_g: integer (nullable = true)\n",
            " |-- int_memory: integer (nullable = true)\n",
            " |-- m_dep: double (nullable = true)\n",
            " |-- mobile_wt: integer (nullable = true)\n",
            " |-- n_cores: integer (nullable = true)\n",
            " |-- pc: integer (nullable = true)\n",
            " |-- px_height: integer (nullable = true)\n",
            " |-- px_width: integer (nullable = true)\n",
            " |-- ram: integer (nullable = true)\n",
            " |-- sc_h: integer (nullable = true)\n",
            " |-- sc_w: integer (nullable = true)\n",
            " |-- talk_time: integer (nullable = true)\n",
            " |-- three_g: integer (nullable = true)\n",
            " |-- touch_screen: integer (nullable = true)\n",
            " |-- wifi: integer (nullable = true)\n",
            " |-- price_range: integer (nullable = true)\n",
            "\n"
          ]
        }
      ]
    },
    {
      "cell_type": "code",
      "metadata": {
        "colab": {
          "base_uri": "https://localhost:8080/"
        },
        "id": "wo4B2LL3k648",
        "outputId": "47b8d526-0d2a-4123-8ce3-7ee12f66aac2"
      },
      "source": [
        "df.show(1, vertical=True)"
      ],
      "execution_count": null,
      "outputs": [
        {
          "output_type": "stream",
          "text": [
            "-RECORD 0-------------\n",
            " battery_power | 842  \n",
            " blue          | 0    \n",
            " clock_speed   | 2.2  \n",
            " dual_sim      | 0    \n",
            " fc            | 1    \n",
            " four_g        | 0    \n",
            " int_memory    | 7    \n",
            " m_dep         | 0.6  \n",
            " mobile_wt     | 188  \n",
            " n_cores       | 2    \n",
            " pc            | 2    \n",
            " px_height     | 20   \n",
            " px_width      | 756  \n",
            " ram           | 2549 \n",
            " sc_h          | 9    \n",
            " sc_w          | 7    \n",
            " talk_time     | 19   \n",
            " three_g       | 0    \n",
            " touch_screen  | 0    \n",
            " wifi          | 1    \n",
            " price_range   | 1    \n",
            "only showing top 1 row\n",
            "\n"
          ],
          "name": "stdout"
        }
      ]
    },
    {
      "cell_type": "code",
      "metadata": {
        "colab": {
          "base_uri": "https://localhost:8080/"
        },
        "id": "fKXUZNBOlABB",
        "outputId": "17877c27-53e3-4403-cd5e-b5195cac4381"
      },
      "source": [
        "df.describe().show()"
      ],
      "execution_count": null,
      "outputs": [
        {
          "output_type": "stream",
          "name": "stdout",
          "text": [
            "+-------+-----------------+------------------+------------------+------------------+-----------------+-------------------+------------------+------------------+-----------------+------------------+-----------------+------------------+-----------------+------------------+-----------------+-----------------+-----------------+-----------------+------------------+------------------+------------------+\n",
            "|summary|    battery_power|              blue|       clock_speed|          dual_sim|               fc|             four_g|        int_memory|             m_dep|        mobile_wt|           n_cores|               pc|         px_height|         px_width|               ram|             sc_h|             sc_w|        talk_time|          three_g|      touch_screen|              wifi|       price_range|\n",
            "+-------+-----------------+------------------+------------------+------------------+-----------------+-------------------+------------------+------------------+-----------------+------------------+-----------------+------------------+-----------------+------------------+-----------------+-----------------+-----------------+-----------------+------------------+------------------+------------------+\n",
            "|  count|             2000|              2000|              2000|              2000|             2000|               2000|              2000|              2000|             2000|              2000|             2000|              2000|             2000|              2000|             2000|             2000|             2000|             2000|              2000|              2000|              2000|\n",
            "|   mean|        1238.5185|             0.495|1.5222499999999983|            0.5095|           4.3095|             0.5215|           32.0465|0.5017500000000017|          140.249|            4.5205|           9.9165|           645.108|        1251.5155|          2124.213|          12.3065|            5.767|           11.011|           0.7615|             0.503|             0.507|               1.5|\n",
            "| stddev|439.4182060835313|0.5001000400170073| 0.816004208895068|0.5000347661750049|4.341443747983898|0.49966246736236364|18.145714955206856|0.2884155496235117|35.39965489638834|2.2878367180426618|6.064314941347778|443.78081080643824|432.1994469463379|1084.7320436099492|4.213245004356303|4.356397605826408|5.463955197766688|0.426272922318731|0.5001160445626741|0.5000760322381088|1.1183136021064597|\n",
            "|    min|              501|                 0|               0.5|                 0|                0|                  0|                 2|               0.1|               80|                 1|                0|                 0|              500|               256|                5|                0|                2|                0|                 0|                 0|                 0|\n",
            "|    max|             1998|                 1|               3.0|                 1|               19|                  1|                64|               1.0|              200|                 8|               20|              1960|             1998|              3998|               19|               18|               20|                1|                 1|                 1|                 3|\n",
            "+-------+-----------------+------------------+------------------+------------------+-----------------+-------------------+------------------+------------------+-----------------+------------------+-----------------+------------------+-----------------+------------------+-----------------+-----------------+-----------------+-----------------+------------------+------------------+------------------+\n",
            "\n"
          ]
        }
      ]
    },
    {
      "cell_type": "code",
      "metadata": {
        "id": "UAgzX2Gw6_n3"
      },
      "source": [
        "import pyspark.sql.functions as F"
      ],
      "execution_count": null,
      "outputs": []
    },
    {
      "cell_type": "code",
      "metadata": {
        "colab": {
          "base_uri": "https://localhost:8080/",
          "height": 36
        },
        "id": "_nlhaJSju08a",
        "outputId": "f9ce8c12-4d0c-4a7e-ff61-8bb6115d4b1d"
      },
      "source": [
        "'blue' * 2"
      ],
      "execution_count": null,
      "outputs": [
        {
          "output_type": "execute_result",
          "data": {
            "application/vnd.google.colaboratory.intrinsic+json": {
              "type": "string"
            },
            "text/plain": [
              "'blueblue'"
            ]
          },
          "metadata": {},
          "execution_count": 56
        }
      ]
    },
    {
      "cell_type": "code",
      "metadata": {
        "colab": {
          "base_uri": "https://localhost:8080/"
        },
        "id": "njsO1kamu1En",
        "outputId": "84a855e5-af7f-48c1-8130-24d73aab96a3"
      },
      "source": [
        "F.col('blue')"
      ],
      "execution_count": null,
      "outputs": [
        {
          "output_type": "execute_result",
          "data": {
            "text/plain": [
              "Column<'blue'>"
            ]
          },
          "metadata": {},
          "execution_count": 54
        }
      ]
    },
    {
      "cell_type": "code",
      "metadata": {
        "colab": {
          "base_uri": "https://localhost:8080/"
        },
        "id": "bcBRczbbujL9",
        "outputId": "ba2d1e53-9474-43a3-e139-44ec1528dc21"
      },
      "source": [
        "df.select(F.col('blue') * 2, df['blue'].alias('a'), df.blue, 'blue').show()"
      ],
      "execution_count": null,
      "outputs": [
        {
          "output_type": "stream",
          "name": "stdout",
          "text": [
            "+----------+---+----+----+\n",
            "|(blue * 2)|  a|blue|blue|\n",
            "+----------+---+----+----+\n",
            "|         0|  0|   0|   0|\n",
            "|         2|  1|   1|   1|\n",
            "|         2|  1|   1|   1|\n",
            "|         2|  1|   1|   1|\n",
            "|         2|  1|   1|   1|\n",
            "|         0|  0|   0|   0|\n",
            "|         0|  0|   0|   0|\n",
            "|         0|  0|   0|   0|\n",
            "|         2|  1|   1|   1|\n",
            "|         2|  1|   1|   1|\n",
            "|         2|  1|   1|   1|\n",
            "|         2|  1|   1|   1|\n",
            "|         0|  0|   0|   0|\n",
            "|         2|  1|   1|   1|\n",
            "|         0|  0|   0|   0|\n",
            "|         0|  0|   0|   0|\n",
            "|         0|  0|   0|   0|\n",
            "|         0|  0|   0|   0|\n",
            "|         2|  1|   1|   1|\n",
            "|         2|  1|   1|   1|\n",
            "+----------+---+----+----+\n",
            "only showing top 20 rows\n",
            "\n"
          ]
        }
      ]
    },
    {
      "cell_type": "code",
      "metadata": {
        "colab": {
          "base_uri": "https://localhost:8080/"
        },
        "id": "99HIhCfN8Pg-",
        "outputId": "5e835b91-67ee-41ab-db2d-69571f2f0598"
      },
      "source": [
        "df.select(F.sum('blue'), ).show()"
      ],
      "execution_count": null,
      "outputs": [
        {
          "output_type": "stream",
          "name": "stdout",
          "text": [
            "+---------+\n",
            "|sum(blue)|\n",
            "+---------+\n",
            "|      990|\n",
            "+---------+\n",
            "\n"
          ]
        }
      ]
    },
    {
      "cell_type": "markdown",
      "source": [
        "Забыл рассказать про alias для переименовывния колонок, очень нужная функция"
      ],
      "metadata": {
        "id": "4FPj28bzAWIi"
      }
    },
    {
      "cell_type": "code",
      "metadata": {
        "colab": {
          "base_uri": "https://localhost:8080/"
        },
        "id": "94_XeaNf6vf6",
        "outputId": "1fe381d0-64ee-4b5d-ed9b-b385f92641d7"
      },
      "source": [
        "df.select('blue', F.col('battery_power').alias('c'), df.blue * 2, df['blue'].alias('d'), F.col('blue') * 4)\\\n",
        ".withColumn('new_col', F.col('blue') * 5).show()"
      ],
      "execution_count": null,
      "outputs": [
        {
          "output_type": "stream",
          "name": "stdout",
          "text": [
            "+----+----+----------+---+----------+-------+\n",
            "|blue|   c|(blue * 2)|  d|(blue * 4)|new_col|\n",
            "+----+----+----------+---+----------+-------+\n",
            "|   0| 842|         0|  0|         0|      0|\n",
            "|   1|1021|         2|  1|         4|      5|\n",
            "|   1| 563|         2|  1|         4|      5|\n",
            "|   1| 615|         2|  1|         4|      5|\n",
            "|   1|1821|         2|  1|         4|      5|\n",
            "|   0|1859|         0|  0|         0|      0|\n",
            "|   0|1821|         0|  0|         0|      0|\n",
            "|   0|1954|         0|  0|         0|      0|\n",
            "|   1|1445|         2|  1|         4|      5|\n",
            "|   1| 509|         2|  1|         4|      5|\n",
            "|   1| 769|         2|  1|         4|      5|\n",
            "|   1|1520|         2|  1|         4|      5|\n",
            "|   0|1815|         0|  0|         0|      0|\n",
            "|   1| 803|         2|  1|         4|      5|\n",
            "|   0|1866|         0|  0|         0|      0|\n",
            "|   0| 775|         0|  0|         0|      0|\n",
            "|   0| 838|         0|  0|         0|      0|\n",
            "|   0| 595|         0|  0|         0|      0|\n",
            "|   1|1131|         2|  1|         4|      5|\n",
            "|   1| 682|         2|  1|         4|      5|\n",
            "+----+----+----------+---+----------+-------+\n",
            "only showing top 20 rows\n",
            "\n"
          ]
        }
      ]
    },
    {
      "cell_type": "markdown",
      "source": [
        "Стандартный групбай"
      ],
      "metadata": {
        "id": "1L_oJiKjAgpy"
      }
    },
    {
      "cell_type": "code",
      "metadata": {
        "colab": {
          "base_uri": "https://localhost:8080/"
        },
        "id": "c5S4gLvFvnO-",
        "outputId": "47d3b32f-a5e5-4c51-d05c-938c82de82ed"
      },
      "source": [
        "df.select('n_cores').groupby('n_cores').count().sort('n_cores').show()"
      ],
      "execution_count": null,
      "outputs": [
        {
          "output_type": "stream",
          "name": "stdout",
          "text": [
            "+-------+-----+\n",
            "|n_cores|count|\n",
            "+-------+-----+\n",
            "|      1|  242|\n",
            "|      2|  247|\n",
            "|      3|  246|\n",
            "|      4|  274|\n",
            "|      5|  246|\n",
            "|      6|  230|\n",
            "|      7|  259|\n",
            "|      8|  256|\n",
            "+-------+-----+\n",
            "\n"
          ]
        }
      ]
    },
    {
      "cell_type": "code",
      "metadata": {
        "colab": {
          "base_uri": "https://localhost:8080/"
        },
        "id": "XmCXMe98v5Iv",
        "outputId": "5e30c909-fb93-4d06-8c60-e7000ec31823"
      },
      "source": [
        "df.select('*').groupby('n_cores').agg(F.count('*'), F.sum('n_cores')).show()"
      ],
      "execution_count": null,
      "outputs": [
        {
          "output_type": "stream",
          "name": "stdout",
          "text": [
            "+-------+--------+------------+\n",
            "|n_cores|count(1)|sum(n_cores)|\n",
            "+-------+--------+------------+\n",
            "|      1|     242|         242|\n",
            "|      6|     230|        1380|\n",
            "|      3|     246|         738|\n",
            "|      5|     246|        1230|\n",
            "|      4|     274|        1096|\n",
            "|      8|     256|        2048|\n",
            "|      7|     259|        1813|\n",
            "|      2|     247|         494|\n",
            "+-------+--------+------------+\n",
            "\n"
          ]
        }
      ]
    },
    {
      "cell_type": "code",
      "metadata": {
        "colab": {
          "base_uri": "https://localhost:8080/"
        },
        "id": "FHZhuYmuldBT",
        "outputId": "f79ecb55-b30c-40ed-84a1-6a3140e5a875"
      },
      "source": [
        "df.select('n_cores').groupby('n_cores')\\\n",
        ".agg(F.count('*').alias('a'), F.sum('n_cores').alias('b')).sort(F.col('n_cores').desc()).show()\n",
        "\n",
        "\n",
        "# count().sort('n_cores').show()"
      ],
      "execution_count": null,
      "outputs": [
        {
          "output_type": "stream",
          "name": "stdout",
          "text": [
            "+-------+---+----+\n",
            "|n_cores|  a|   b|\n",
            "+-------+---+----+\n",
            "|      8|256|2048|\n",
            "|      7|259|1813|\n",
            "|      6|230|1380|\n",
            "|      5|246|1230|\n",
            "|      4|274|1096|\n",
            "|      3|246| 738|\n",
            "|      2|247| 494|\n",
            "|      1|242| 242|\n",
            "+-------+---+----+\n",
            "\n"
          ]
        }
      ]
    },
    {
      "cell_type": "markdown",
      "source": [
        "toPandas() и createDataFrame позволяет нам конвертировать из пандас датафрейм в спарк датафрейм и обратно."
      ],
      "metadata": {
        "id": "0qm6uqc2AlwA"
      }
    },
    {
      "cell_type": "code",
      "metadata": {
        "colab": {
          "base_uri": "https://localhost:8080/"
        },
        "id": "SikJrESPwJj2",
        "outputId": "d6f049a9-0012-4dc0-9ea7-c09c028c9d3f"
      },
      "source": [
        "import pandas as pd\n",
        "\n",
        "\n",
        "type(pd.DataFrame(['a']))"
      ],
      "execution_count": null,
      "outputs": [
        {
          "output_type": "execute_result",
          "data": {
            "text/plain": [
              "pandas.core.frame.DataFrame"
            ]
          },
          "metadata": {},
          "execution_count": 70
        }
      ]
    },
    {
      "cell_type": "code",
      "metadata": {
        "colab": {
          "base_uri": "https://localhost:8080/"
        },
        "id": "PCX5JRbywZrb",
        "outputId": "1b493c1f-8d47-43ef-d9a8-672afa2fa89d"
      },
      "source": [
        "type(df)"
      ],
      "execution_count": null,
      "outputs": [
        {
          "output_type": "execute_result",
          "data": {
            "text/plain": [
              "pyspark.sql.dataframe.DataFrame"
            ]
          },
          "metadata": {},
          "execution_count": 71
        }
      ]
    },
    {
      "cell_type": "code",
      "metadata": {
        "colab": {
          "base_uri": "https://localhost:8080/",
          "height": 81
        },
        "id": "PfDtxg_6wgQG",
        "outputId": "20172040-919a-4ef5-cf56-4e5d5dbfab4b"
      },
      "source": [
        "spark.createDataFrame(pd.DataFrame(['a']).cast(IntegerType())).toPandas()"
      ],
      "execution_count": null,
      "outputs": [
        {
          "output_type": "execute_result",
          "data": {
            "text/html": [
              "<div>\n",
              "<style scoped>\n",
              "    .dataframe tbody tr th:only-of-type {\n",
              "        vertical-align: middle;\n",
              "    }\n",
              "\n",
              "    .dataframe tbody tr th {\n",
              "        vertical-align: top;\n",
              "    }\n",
              "\n",
              "    .dataframe thead th {\n",
              "        text-align: right;\n",
              "    }\n",
              "</style>\n",
              "<table border=\"1\" class=\"dataframe\">\n",
              "  <thead>\n",
              "    <tr style=\"text-align: right;\">\n",
              "      <th></th>\n",
              "      <th>0</th>\n",
              "    </tr>\n",
              "  </thead>\n",
              "  <tbody>\n",
              "    <tr>\n",
              "      <th>0</th>\n",
              "      <td>a</td>\n",
              "    </tr>\n",
              "  </tbody>\n",
              "</table>\n",
              "</div>"
            ],
            "text/plain": [
              "   0\n",
              "0  a"
            ]
          },
          "metadata": {},
          "execution_count": 75
        }
      ]
    },
    {
      "cell_type": "code",
      "metadata": {
        "id": "65A5kUihwlCL"
      },
      "source": [
        ".withColumn('name', F.sha1())\n",
        ".select(\"*\", F.col() * F.col() )"
      ],
      "execution_count": null,
      "outputs": []
    },
    {
      "cell_type": "code",
      "metadata": {
        "colab": {
          "base_uri": "https://localhost:8080/"
        },
        "id": "LeF0H7ZUxv96",
        "outputId": "ada169e5-7144-4035-ba97-2a499ceec63d"
      },
      "source": [
        "df.registerTempTable('df')"
      ],
      "execution_count": null,
      "outputs": [
        {
          "output_type": "stream",
          "name": "stderr",
          "text": [
            "/usr/local/lib/python3.7/dist-packages/pyspark/sql/dataframe.py:140: FutureWarning: Deprecated in 2.0, use createOrReplaceTempView instead.\n",
            "  FutureWarning\n"
          ]
        }
      ]
    },
    {
      "cell_type": "code",
      "metadata": {
        "colab": {
          "base_uri": "https://localhost:8080/"
        },
        "id": "PJn08-_2xzXp",
        "outputId": "d2460829-2f97-493f-a5b8-d2a96410a2d2"
      },
      "source": [
        "spark.sql(f'select n_cores, count(*) from  df group by n_cores').show()"
      ],
      "execution_count": null,
      "outputs": [
        {
          "output_type": "stream",
          "name": "stdout",
          "text": [
            "+-------+--------+\n",
            "|n_cores|count(1)|\n",
            "+-------+--------+\n",
            "|      1|     242|\n",
            "|      6|     230|\n",
            "|      3|     246|\n",
            "|      5|     246|\n",
            "|      4|     274|\n",
            "|      8|     256|\n",
            "|      7|     259|\n",
            "|      2|     247|\n",
            "+-------+--------+\n",
            "\n"
          ]
        }
      ]
    }
  ]
}